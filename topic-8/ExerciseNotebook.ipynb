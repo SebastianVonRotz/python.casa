{
 "cells": [
  {
   "cell_type": "markdown",
   "source": [
    "# Jupyter Notebook\n",
    "Wie bereits erkennbar besteht ein Jupyternotebook aus Zellen. In der Regel kann eine Zelle entweder einen beschreibenenden Text beihnalten welcher mittels Markdown Syntax editiert wird oder Code in einer dezidierten Programmiersprache, wie Python, beinhaltet.\n",
    "\n",
    "Jupyter Notebooks sind grundsätzlich Web-Applikationen welche als Dokument geteilt und versendet werden können. In der Regel beinhaltet ein Notebook Code-Zeilen, Gleichungen, Visualisierungen und Texte. Besonder eignen sich Jupyter Notebooks dazu Datenanalysenschritte aufzuzeigen, diese zu beschreiben und entpsrechende Visualisierungen einzubetten. Dadurch haben sich Jupyter Notebooks besonder im Data Science Bereich als unerlässliches Werkzeug etableirt.\n",
    "\n",
    "---"
   ],
   "metadata": {}
  },
  {
   "cell_type": "markdown",
   "source": [
    "Dies ist eine Markdown Zelle und erlaubt das formattiern von Text in der entsprechenden Syntax\n",
    "\n",
    "'Hello Jupyter!'\n",
    "\n",
    "**'Hello Jupyter!'**\n",
    "\n",
    "_'Hello Jupyter!'_"
   ],
   "metadata": {}
  },
  {
   "cell_type": "code",
   "execution_count": 1,
   "source": [
    "# Durch klicken auf das Pfeil Symbol auf der linken Seite dieser Zelle, wird der Code in dieser Zell ausgeführt\n",
    "print('Hello Jupyter!')"
   ],
   "outputs": [
    {
     "output_type": "stream",
     "name": "stdout",
     "text": [
      "Hello Jupyter!\n"
     ]
    }
   ],
   "metadata": {}
  },
  {
   "cell_type": "markdown",
   "source": [
    "# 1. Python Pakete laden\n",
    "---\n",
    "Wie in einem Python Script werden entsprechende Module geladen. Wichtig hier ist das man entsprechende Zellen nicht unbedingt in Reihenfolge ausführen muss.\n",
    "\n",
    "Pandas\n",
    "* Ist eine Software for Daten Manipulation und Analyse\n",
    "* Wird oft als \"pd\" geladen um entpsrechend Code-Text zu kürzen.\n",
    "\n",
    "Plotly-express\n",
    "* Ist ein Software Paket welche es erlaubt komplexe Visualisierungen zu erstellen"
   ],
   "metadata": {}
  },
  {
   "cell_type": "code",
   "execution_count": 1,
   "source": [
    "import pandas as pd\n",
    "import plotly.express as px\n",
    "import sklearn"
   ],
   "outputs": [],
   "metadata": {}
  },
  {
   "cell_type": "markdown",
   "source": [
    "# 2. Datensatz laden\n",
    "---\n",
    "Der Datensatz ist als .csv Datei gespeichert. Pandas erlaubt es diese Datei direkt in ein Dataframe zu lesen. Dieses Dataframe kann dann einfach manipuliert, inspiziert und analysiert werden. \n",
    "\n",
    "Der Variablen Namen des Dataframes wird oft als df abgekürzt."
   ],
   "metadata": {}
  },
  {
   "cell_type": "code",
   "execution_count": 2,
   "source": [
    "try:\n",
    "    df = pd.read_csv('heart.csv')\n",
    "except:\n",
    "    df = pd.read_csv('/kaggle/input/heart-attack-analysis-prediction-dataset/heart.csv')"
   ],
   "outputs": [],
   "metadata": {}
  },
  {
   "cell_type": "markdown",
   "source": [
    "Der nun im dataframe \"df\" gespeicherte Datensatz ist ein Trainings und Benchmark Datensatz welcher auf Kaggle.com veröffentlicht wurde. Kaggle ist eine Organisation von Data Science Wettbewerben. Dabei werden mehrere Tausend Datenstätze bereitgestellt mit welche Datengestützte Modelle für Prediktive Analysen trainiert werden können. Dabei können entsprechende Modelle unter der Community verglichen werden was den Wettbewerbsaspekt der Platform bildet.\n",
    "\n",
    "https://www.kaggle.com/rashikrahmanpritom/heart-attack-analysis-prediction-dataset\n",
    "\n",
    "<img src='https://python.casa/assets/img/topic8_kaggle.jpg' width=\"800\" height=\"300\">"
   ],
   "metadata": {}
  },
  {
   "cell_type": "markdown",
   "source": [
    "---\n",
    "## Kontrollaufgabe 1\n",
    "Die heart.csv Datei wurde mittel pandas ausgelesen und als Dataframe abgespeicher. Umgekehrt kann man natürlich auch wieder ein Dataframe als Datei speichern.\n",
    "\n",
    "* Schreiben sie unten in die entsprechende code Zeile die Funktion um das Dataframe \"df\" als excel Datei zu speichern, dabei soll der Dateiname \"excel.xlsx\" sein. Ist die Datei exportiert können Sie diese anschliessen mit Excel öffnen und inspizieren.\n",
    "\n",
    "**Hinweis**: Unter [https://pandas.pydata.org/docs/reference/frame.html](https://pandas.pydata.org/docs/reference/frame.html) Finden Sie alle Funktionen um ein Dataframe manipulieren zu können"
   ],
   "metadata": {}
  },
  {
   "cell_type": "code",
   "execution_count": 3,
   "source": [
    "# Hier den Code schreiben\n"
   ],
   "outputs": [],
   "metadata": {}
  },
  {
   "cell_type": "markdown",
   "source": [
    "---\n",
    "---\n"
   ],
   "metadata": {}
  },
  {
   "cell_type": "markdown",
   "source": [
    "# 3. Datensatz inspizieren\n",
    "---\n",
    "Nach dem der Datensatz geladen ist wird dieser auf dessen Inhalt und Vollständigkeit überprüft. Dabei spielen die folgenden Aspekte die wichtigsten Punkte wenn es um das Überprüfen der Daten geht:\n",
    "* Lücken einer Serie (Bsp. fehlende Daten in einer Kolonne in einem Dataframe)\n",
    "* Typ der Daten (Bsp. Integer, Float, Strin, etc.)\n",
    "* Duplikate (Bsp. Kolonne doppelt erfasst)\n",
    "* Integrität (Bsp.\"na\" anstatt 0)\n",
    "\n",
    "### 3.1 Überblick \n",
    "\n",
    "Um einen Überblick zu erhalten werden die obersten Datenreihen im Dataframe inspiziert. Hierzu wird der Befehl \"head()\" an das Dataframe angefügt. Die Zahl in der Klammer im \"head()\" Befehlt beschreibt die anzahl der obersten angezeigten Reihen (Hier noch eine Erinnerung das Python anfängt bei 0 zu zählen)."
   ],
   "metadata": {}
  },
  {
   "cell_type": "code",
   "execution_count": 4,
   "source": [
    "df.head(5)"
   ],
   "outputs": [
    {
     "output_type": "execute_result",
     "data": {
      "text/html": [
       "<div>\n",
       "<style scoped>\n",
       "    .dataframe tbody tr th:only-of-type {\n",
       "        vertical-align: middle;\n",
       "    }\n",
       "\n",
       "    .dataframe tbody tr th {\n",
       "        vertical-align: top;\n",
       "    }\n",
       "\n",
       "    .dataframe thead th {\n",
       "        text-align: right;\n",
       "    }\n",
       "</style>\n",
       "<table border=\"1\" class=\"dataframe\">\n",
       "  <thead>\n",
       "    <tr style=\"text-align: right;\">\n",
       "      <th></th>\n",
       "      <th>age</th>\n",
       "      <th>sex</th>\n",
       "      <th>cp</th>\n",
       "      <th>trtbps</th>\n",
       "      <th>chol</th>\n",
       "      <th>fbs</th>\n",
       "      <th>restecg</th>\n",
       "      <th>thalachh</th>\n",
       "      <th>exng</th>\n",
       "      <th>oldpeak</th>\n",
       "      <th>slp</th>\n",
       "      <th>caa</th>\n",
       "      <th>thall</th>\n",
       "      <th>output</th>\n",
       "    </tr>\n",
       "  </thead>\n",
       "  <tbody>\n",
       "    <tr>\n",
       "      <th>0</th>\n",
       "      <td>63</td>\n",
       "      <td>1</td>\n",
       "      <td>3</td>\n",
       "      <td>145</td>\n",
       "      <td>233</td>\n",
       "      <td>1</td>\n",
       "      <td>0</td>\n",
       "      <td>150</td>\n",
       "      <td>0</td>\n",
       "      <td>2.3</td>\n",
       "      <td>0</td>\n",
       "      <td>0</td>\n",
       "      <td>1</td>\n",
       "      <td>1</td>\n",
       "    </tr>\n",
       "    <tr>\n",
       "      <th>1</th>\n",
       "      <td>37</td>\n",
       "      <td>1</td>\n",
       "      <td>2</td>\n",
       "      <td>130</td>\n",
       "      <td>250</td>\n",
       "      <td>0</td>\n",
       "      <td>1</td>\n",
       "      <td>187</td>\n",
       "      <td>0</td>\n",
       "      <td>3.5</td>\n",
       "      <td>0</td>\n",
       "      <td>0</td>\n",
       "      <td>2</td>\n",
       "      <td>1</td>\n",
       "    </tr>\n",
       "    <tr>\n",
       "      <th>2</th>\n",
       "      <td>41</td>\n",
       "      <td>0</td>\n",
       "      <td>1</td>\n",
       "      <td>130</td>\n",
       "      <td>204</td>\n",
       "      <td>0</td>\n",
       "      <td>0</td>\n",
       "      <td>172</td>\n",
       "      <td>0</td>\n",
       "      <td>1.4</td>\n",
       "      <td>2</td>\n",
       "      <td>0</td>\n",
       "      <td>2</td>\n",
       "      <td>1</td>\n",
       "    </tr>\n",
       "    <tr>\n",
       "      <th>3</th>\n",
       "      <td>56</td>\n",
       "      <td>1</td>\n",
       "      <td>1</td>\n",
       "      <td>120</td>\n",
       "      <td>236</td>\n",
       "      <td>0</td>\n",
       "      <td>1</td>\n",
       "      <td>178</td>\n",
       "      <td>0</td>\n",
       "      <td>0.8</td>\n",
       "      <td>2</td>\n",
       "      <td>0</td>\n",
       "      <td>2</td>\n",
       "      <td>1</td>\n",
       "    </tr>\n",
       "    <tr>\n",
       "      <th>4</th>\n",
       "      <td>57</td>\n",
       "      <td>0</td>\n",
       "      <td>0</td>\n",
       "      <td>120</td>\n",
       "      <td>354</td>\n",
       "      <td>0</td>\n",
       "      <td>1</td>\n",
       "      <td>163</td>\n",
       "      <td>1</td>\n",
       "      <td>0.6</td>\n",
       "      <td>2</td>\n",
       "      <td>0</td>\n",
       "      <td>2</td>\n",
       "      <td>1</td>\n",
       "    </tr>\n",
       "  </tbody>\n",
       "</table>\n",
       "</div>"
      ],
      "text/plain": [
       "   age  sex  cp  trtbps  chol  fbs  restecg  thalachh  exng  oldpeak  slp  \\\n",
       "0   63    1   3     145   233    1        0       150     0      2.3    0   \n",
       "1   37    1   2     130   250    0        1       187     0      3.5    0   \n",
       "2   41    0   1     130   204    0        0       172     0      1.4    2   \n",
       "3   56    1   1     120   236    0        1       178     0      0.8    2   \n",
       "4   57    0   0     120   354    0        1       163     1      0.6    2   \n",
       "\n",
       "   caa  thall  output  \n",
       "0    0      1       1  \n",
       "1    0      2       1  \n",
       "2    0      2       1  \n",
       "3    0      2       1  \n",
       "4    0      2       1  "
      ]
     },
     "metadata": {},
     "execution_count": 4
    }
   ],
   "metadata": {}
  },
  {
   "cell_type": "markdown",
   "source": [
    "Was mann bereits erkennt ist das das Dataframe aus 14 Kolonnen und einer Vielzahl an Zeilen besteht. Die erste Kolonne welche keinen Namen hat (also diese vor \"age\") is der Index des Dataframes, also eine Nummerierung jeder Zeile. Ebenfalls sieht mann hier das jede Zeile einen Patienten beschreibt und jeder Kolonnen-Parameter einen Physiologischen Wert des Patienten.\n",
    "\n",
    "Parameter:\n",
    "* **Alter** -> age : Age of the patient\n",
    "* **Geschlecht** -> sex : Sex of the patient\n",
    "* **Angina** -> exang: exercise induced angina (1 = yes; 0 = no)\n",
    "* **Anzahl Hauptvessel** ->    ca: number of major vessels (0-3)\n",
    "* **Brustschmerzen** -> cp : (1: typical angina, 2: atypical angina, 3: non-anginal pain, 4: asymptomatic)\n",
    "* **Ruheblutdruck** -> trtbps : resting blood pressure (in mm Hg)\n",
    "* **Cholesterol** -> chol : cholestoral in mg/dl fetched via BMI sensor\n",
    "* **Nüchternblutzucker** -> fbs : (fasting blood sugar > 120 mg/dl) (1 = true; 0 = false)\n",
    "* **Elektrokardiographische Ergebnisse im Ruhezustand** -> rest_ecg : resting electrocardiographic results (0: normal, 1: having ST-T wave abnormality, 2: left ventricular hypertrophy)\n",
    "* **erreichte maximale Herzfrequenz** -> thalach : maximum heart rate achieved\n",
    "* **Ausgabe** -> Output : (0 = less chance of heart attack 1= more chance of heart attack)\n",
    "\n",
    "\n",
    "Hier noch einige wichtige Punkte zu den Parametern:\n",
    "* Was mann in dieser Beschreibung ebenfalls sieht ist das einige der Parameter **codiert** sind, heisst anstatt einen Wert, wie beim Alter, ist nur eine Zahl angegeben, wie beispielsweise beim Parameter \"Angina\" wo einen 1 Ja und eine 0 Nein bedeutet. Grundsätzlich möchte man Kategorische Variablen (Ja/Nein, Gut/Schlecht, etc.) als Zahlenwerte abbilden weshalb diese codiert werden!\n",
    "* Der Parameter **Ausgabe** ist ein besonders wichtiger Teil dieses Datensets, denn dieser beschreibt die Wahrscheinlichkeit auf eine Herzattacke des Patienten. Dieses Datenset hat also eine Reihen an Physiologischen Paramters und die zugehörige Wahrscheinlichkeit auf eine Herzattacke. Mit statistischen Methoden kann man ein Model entwickeln welche es erlaubt genau diesen **Ausgabe** Parameter aufgrund der anderen Werte vorasuzusagen!\n",
    "\n",
    "### 3.2 Werte anzeigen\n",
    "Bezüglich der Inspektion des Dataframes kann man sich auch bestimmte Zeilen anschauen. Hierzu wir der gesuchte Index mittels des \".loc[Zeile, Kolonne]\" Befehls and das Dataframe angefügt. Hierzu noch einige Beispiele:\n",
    "* \"df.iloc[1,2]\" zeigt den Wert der zweiten Zeile und dritten Kolonne (Python zählt bei 0!)\n",
    "* \"df.ilog[0:4,2]\" zeigt Werte von 5 Zeilen und der dritten Kolonne\n",
    "* \"df.iloc[1,:]\" zeigt alle Werte der zweiten Zeile and (\":\")"
   ],
   "metadata": {}
  },
  {
   "cell_type": "code",
   "execution_count": 5,
   "source": [
    "df.iloc[99,0:3]"
   ],
   "outputs": [
    {
     "output_type": "execute_result",
     "data": {
      "text/plain": [
       "age    53.0\n",
       "sex     1.0\n",
       "cp      2.0\n",
       "Name: 99, dtype: float64"
      ]
     },
     "metadata": {},
     "execution_count": 5
    }
   ],
   "metadata": {}
  },
  {
   "cell_type": "markdown",
   "source": [
    "\"df.iloc[99,0:3]\" zeigt also Werte der Parameter \"age\", \"sex\" und \"cp\" des Patienten mit dem Index 99"
   ],
   "metadata": {}
  },
  {
   "cell_type": "markdown",
   "source": [
    "---\n",
    "---"
   ],
   "metadata": {}
  },
  {
   "cell_type": "markdown",
   "source": [
    "## Kontrollaufgabe 2\n",
    "Beschreiben Sie welche Werte in der nächste Zelle angzeigt werden (Beschreibung in der darunterliegenden Markdown Zelle)"
   ],
   "metadata": {}
  },
  {
   "cell_type": "code",
   "execution_count": 6,
   "source": [
    "df.iloc[97:99,0]"
   ],
   "outputs": [
    {
     "output_type": "execute_result",
     "data": {
      "text/plain": [
       "97    52\n",
       "98    43\n",
       "Name: age, dtype: int64"
      ]
     },
     "metadata": {},
     "execution_count": 6
    }
   ],
   "metadata": {}
  },
  {
   "cell_type": "markdown",
   "source": [
    "<Beschreibung>"
   ],
   "metadata": {}
  },
  {
   "cell_type": "markdown",
   "source": [
    "Beschreibung:"
   ],
   "metadata": {}
  },
  {
   "cell_type": "code",
   "execution_count": 7,
   "source": [
    "df.loc[2,:]"
   ],
   "outputs": [
    {
     "output_type": "execute_result",
     "data": {
      "text/plain": [
       "age          41.0\n",
       "sex           0.0\n",
       "cp            1.0\n",
       "trtbps      130.0\n",
       "chol        204.0\n",
       "fbs           0.0\n",
       "restecg       0.0\n",
       "thalachh    172.0\n",
       "exng          0.0\n",
       "oldpeak       1.4\n",
       "slp           2.0\n",
       "caa           0.0\n",
       "thall         2.0\n",
       "output        1.0\n",
       "Name: 2, dtype: float64"
      ]
     },
     "metadata": {},
     "execution_count": 7
    }
   ],
   "metadata": {}
  },
  {
   "cell_type": "markdown",
   "source": [
    "Beschreibung:"
   ],
   "metadata": {}
  },
  {
   "cell_type": "markdown",
   "source": [
    "---\n",
    "---"
   ],
   "metadata": {}
  },
  {
   "cell_type": "markdown",
   "source": [
    "### 3.3 Dataframe Info\n",
    "\n",
    "Nun gibt es weitere Befehle welche den Inhalt eines Dataframes beschreiben. So gibt der \".info()\" Befehlt einen überblick über das Dataframe. Besonders wichtig hier ist der Dtype welcher beschreibt im welchem Datentyp die jeweiligen Kolonnen erfasst sind."
   ],
   "metadata": {}
  },
  {
   "cell_type": "code",
   "execution_count": 8,
   "source": [
    "df.info()"
   ],
   "outputs": [
    {
     "output_type": "stream",
     "name": "stdout",
     "text": [
      "<class 'pandas.core.frame.DataFrame'>\n",
      "RangeIndex: 303 entries, 0 to 302\n",
      "Data columns (total 14 columns):\n",
      " #   Column    Non-Null Count  Dtype  \n",
      "---  ------    --------------  -----  \n",
      " 0   age       303 non-null    int64  \n",
      " 1   sex       303 non-null    int64  \n",
      " 2   cp        303 non-null    int64  \n",
      " 3   trtbps    303 non-null    int64  \n",
      " 4   chol      303 non-null    int64  \n",
      " 5   fbs       303 non-null    int64  \n",
      " 6   restecg   303 non-null    int64  \n",
      " 7   thalachh  303 non-null    int64  \n",
      " 8   exng      303 non-null    int64  \n",
      " 9   oldpeak   303 non-null    float64\n",
      " 10  slp       303 non-null    int64  \n",
      " 11  caa       303 non-null    int64  \n",
      " 12  thall     303 non-null    int64  \n",
      " 13  output    303 non-null    int64  \n",
      "dtypes: float64(1), int64(13)\n",
      "memory usage: 33.3 KB\n"
     ]
    }
   ],
   "metadata": {}
  },
  {
   "cell_type": "markdown",
   "source": [
    "### 3.4 Leere Zellen\n",
    "\n",
    "Ebenfalls wichtig ist es zu schauen ob eventuell leere Zellen im Dataframe vorhanden sind. Also Zellen in welche keine Werte geschrieben sind (Die Zahl null wäre ein Wert). Um dies schnell zu überprüfen wird der Befehl \".isnull()\" angewendet, dieser Zeigt dan im ganzen Dataframe eine leere Zelle vorhanden ist (False = Wert ist vorhanden, True = hier fehlt ein Wert und Zelle ist leer)."
   ],
   "metadata": {}
  },
  {
   "cell_type": "code",
   "execution_count": 9,
   "source": [
    "df.isnull()"
   ],
   "outputs": [
    {
     "output_type": "execute_result",
     "data": {
      "text/html": [
       "<div>\n",
       "<style scoped>\n",
       "    .dataframe tbody tr th:only-of-type {\n",
       "        vertical-align: middle;\n",
       "    }\n",
       "\n",
       "    .dataframe tbody tr th {\n",
       "        vertical-align: top;\n",
       "    }\n",
       "\n",
       "    .dataframe thead th {\n",
       "        text-align: right;\n",
       "    }\n",
       "</style>\n",
       "<table border=\"1\" class=\"dataframe\">\n",
       "  <thead>\n",
       "    <tr style=\"text-align: right;\">\n",
       "      <th></th>\n",
       "      <th>age</th>\n",
       "      <th>sex</th>\n",
       "      <th>cp</th>\n",
       "      <th>trtbps</th>\n",
       "      <th>chol</th>\n",
       "      <th>fbs</th>\n",
       "      <th>restecg</th>\n",
       "      <th>thalachh</th>\n",
       "      <th>exng</th>\n",
       "      <th>oldpeak</th>\n",
       "      <th>slp</th>\n",
       "      <th>caa</th>\n",
       "      <th>thall</th>\n",
       "      <th>output</th>\n",
       "    </tr>\n",
       "  </thead>\n",
       "  <tbody>\n",
       "    <tr>\n",
       "      <th>0</th>\n",
       "      <td>False</td>\n",
       "      <td>False</td>\n",
       "      <td>False</td>\n",
       "      <td>False</td>\n",
       "      <td>False</td>\n",
       "      <td>False</td>\n",
       "      <td>False</td>\n",
       "      <td>False</td>\n",
       "      <td>False</td>\n",
       "      <td>False</td>\n",
       "      <td>False</td>\n",
       "      <td>False</td>\n",
       "      <td>False</td>\n",
       "      <td>False</td>\n",
       "    </tr>\n",
       "    <tr>\n",
       "      <th>1</th>\n",
       "      <td>False</td>\n",
       "      <td>False</td>\n",
       "      <td>False</td>\n",
       "      <td>False</td>\n",
       "      <td>False</td>\n",
       "      <td>False</td>\n",
       "      <td>False</td>\n",
       "      <td>False</td>\n",
       "      <td>False</td>\n",
       "      <td>False</td>\n",
       "      <td>False</td>\n",
       "      <td>False</td>\n",
       "      <td>False</td>\n",
       "      <td>False</td>\n",
       "    </tr>\n",
       "    <tr>\n",
       "      <th>2</th>\n",
       "      <td>False</td>\n",
       "      <td>False</td>\n",
       "      <td>False</td>\n",
       "      <td>False</td>\n",
       "      <td>False</td>\n",
       "      <td>False</td>\n",
       "      <td>False</td>\n",
       "      <td>False</td>\n",
       "      <td>False</td>\n",
       "      <td>False</td>\n",
       "      <td>False</td>\n",
       "      <td>False</td>\n",
       "      <td>False</td>\n",
       "      <td>False</td>\n",
       "    </tr>\n",
       "    <tr>\n",
       "      <th>3</th>\n",
       "      <td>False</td>\n",
       "      <td>False</td>\n",
       "      <td>False</td>\n",
       "      <td>False</td>\n",
       "      <td>False</td>\n",
       "      <td>False</td>\n",
       "      <td>False</td>\n",
       "      <td>False</td>\n",
       "      <td>False</td>\n",
       "      <td>False</td>\n",
       "      <td>False</td>\n",
       "      <td>False</td>\n",
       "      <td>False</td>\n",
       "      <td>False</td>\n",
       "    </tr>\n",
       "    <tr>\n",
       "      <th>4</th>\n",
       "      <td>False</td>\n",
       "      <td>False</td>\n",
       "      <td>False</td>\n",
       "      <td>False</td>\n",
       "      <td>False</td>\n",
       "      <td>False</td>\n",
       "      <td>False</td>\n",
       "      <td>False</td>\n",
       "      <td>False</td>\n",
       "      <td>False</td>\n",
       "      <td>False</td>\n",
       "      <td>False</td>\n",
       "      <td>False</td>\n",
       "      <td>False</td>\n",
       "    </tr>\n",
       "    <tr>\n",
       "      <th>...</th>\n",
       "      <td>...</td>\n",
       "      <td>...</td>\n",
       "      <td>...</td>\n",
       "      <td>...</td>\n",
       "      <td>...</td>\n",
       "      <td>...</td>\n",
       "      <td>...</td>\n",
       "      <td>...</td>\n",
       "      <td>...</td>\n",
       "      <td>...</td>\n",
       "      <td>...</td>\n",
       "      <td>...</td>\n",
       "      <td>...</td>\n",
       "      <td>...</td>\n",
       "    </tr>\n",
       "    <tr>\n",
       "      <th>298</th>\n",
       "      <td>False</td>\n",
       "      <td>False</td>\n",
       "      <td>False</td>\n",
       "      <td>False</td>\n",
       "      <td>False</td>\n",
       "      <td>False</td>\n",
       "      <td>False</td>\n",
       "      <td>False</td>\n",
       "      <td>False</td>\n",
       "      <td>False</td>\n",
       "      <td>False</td>\n",
       "      <td>False</td>\n",
       "      <td>False</td>\n",
       "      <td>False</td>\n",
       "    </tr>\n",
       "    <tr>\n",
       "      <th>299</th>\n",
       "      <td>False</td>\n",
       "      <td>False</td>\n",
       "      <td>False</td>\n",
       "      <td>False</td>\n",
       "      <td>False</td>\n",
       "      <td>False</td>\n",
       "      <td>False</td>\n",
       "      <td>False</td>\n",
       "      <td>False</td>\n",
       "      <td>False</td>\n",
       "      <td>False</td>\n",
       "      <td>False</td>\n",
       "      <td>False</td>\n",
       "      <td>False</td>\n",
       "    </tr>\n",
       "    <tr>\n",
       "      <th>300</th>\n",
       "      <td>False</td>\n",
       "      <td>False</td>\n",
       "      <td>False</td>\n",
       "      <td>False</td>\n",
       "      <td>False</td>\n",
       "      <td>False</td>\n",
       "      <td>False</td>\n",
       "      <td>False</td>\n",
       "      <td>False</td>\n",
       "      <td>False</td>\n",
       "      <td>False</td>\n",
       "      <td>False</td>\n",
       "      <td>False</td>\n",
       "      <td>False</td>\n",
       "    </tr>\n",
       "    <tr>\n",
       "      <th>301</th>\n",
       "      <td>False</td>\n",
       "      <td>False</td>\n",
       "      <td>False</td>\n",
       "      <td>False</td>\n",
       "      <td>False</td>\n",
       "      <td>False</td>\n",
       "      <td>False</td>\n",
       "      <td>False</td>\n",
       "      <td>False</td>\n",
       "      <td>False</td>\n",
       "      <td>False</td>\n",
       "      <td>False</td>\n",
       "      <td>False</td>\n",
       "      <td>False</td>\n",
       "    </tr>\n",
       "    <tr>\n",
       "      <th>302</th>\n",
       "      <td>False</td>\n",
       "      <td>False</td>\n",
       "      <td>False</td>\n",
       "      <td>False</td>\n",
       "      <td>False</td>\n",
       "      <td>False</td>\n",
       "      <td>False</td>\n",
       "      <td>False</td>\n",
       "      <td>False</td>\n",
       "      <td>False</td>\n",
       "      <td>False</td>\n",
       "      <td>False</td>\n",
       "      <td>False</td>\n",
       "      <td>False</td>\n",
       "    </tr>\n",
       "  </tbody>\n",
       "</table>\n",
       "<p>303 rows × 14 columns</p>\n",
       "</div>"
      ],
      "text/plain": [
       "       age    sex     cp  trtbps   chol    fbs  restecg  thalachh   exng  \\\n",
       "0    False  False  False   False  False  False    False     False  False   \n",
       "1    False  False  False   False  False  False    False     False  False   \n",
       "2    False  False  False   False  False  False    False     False  False   \n",
       "3    False  False  False   False  False  False    False     False  False   \n",
       "4    False  False  False   False  False  False    False     False  False   \n",
       "..     ...    ...    ...     ...    ...    ...      ...       ...    ...   \n",
       "298  False  False  False   False  False  False    False     False  False   \n",
       "299  False  False  False   False  False  False    False     False  False   \n",
       "300  False  False  False   False  False  False    False     False  False   \n",
       "301  False  False  False   False  False  False    False     False  False   \n",
       "302  False  False  False   False  False  False    False     False  False   \n",
       "\n",
       "     oldpeak    slp    caa  thall  output  \n",
       "0      False  False  False  False   False  \n",
       "1      False  False  False  False   False  \n",
       "2      False  False  False  False   False  \n",
       "3      False  False  False  False   False  \n",
       "4      False  False  False  False   False  \n",
       "..       ...    ...    ...    ...     ...  \n",
       "298    False  False  False  False   False  \n",
       "299    False  False  False  False   False  \n",
       "300    False  False  False  False   False  \n",
       "301    False  False  False  False   False  \n",
       "302    False  False  False  False   False  \n",
       "\n",
       "[303 rows x 14 columns]"
      ]
     },
     "metadata": {},
     "execution_count": 9
    }
   ],
   "metadata": {}
  },
  {
   "cell_type": "markdown",
   "source": [
    "Natürlich möchte mann nun icht das ganze Dataframe nach \"True\" durchschen und somit wendet man einen weiteren Befehl an. Mit dem \".sum()\" Befehl können die Anzahl an \"True\" gezählt werden und dieser kann einfach an den vorherigen Befehl angehängt werden"
   ],
   "metadata": {}
  },
  {
   "cell_type": "code",
   "execution_count": 10,
   "source": [
    "df.isnull().sum()"
   ],
   "outputs": [
    {
     "output_type": "execute_result",
     "data": {
      "text/plain": [
       "age         0\n",
       "sex         0\n",
       "cp          0\n",
       "trtbps      0\n",
       "chol        0\n",
       "fbs         0\n",
       "restecg     0\n",
       "thalachh    0\n",
       "exng        0\n",
       "oldpeak     0\n",
       "slp         0\n",
       "caa         0\n",
       "thall       0\n",
       "output      0\n",
       "dtype: int64"
      ]
     },
     "metadata": {},
     "execution_count": 10
    }
   ],
   "metadata": {}
  },
  {
   "cell_type": "markdown",
   "source": [
    "Somit hat es keine leeren Zellen im Dataframe\n",
    "\n",
    "### 3.5 Schnelle statistische Auswertung\n",
    "\n",
    "Der Befehl \".describe()\" generiert eine einfache statistische Auwertung über jede Kolonne. Dies erlaubt es eine Überblick über die Integrität der Daten zu erhalten."
   ],
   "metadata": {}
  },
  {
   "cell_type": "code",
   "execution_count": 11,
   "source": [
    "df.describe()"
   ],
   "outputs": [
    {
     "output_type": "execute_result",
     "data": {
      "text/html": [
       "<div>\n",
       "<style scoped>\n",
       "    .dataframe tbody tr th:only-of-type {\n",
       "        vertical-align: middle;\n",
       "    }\n",
       "\n",
       "    .dataframe tbody tr th {\n",
       "        vertical-align: top;\n",
       "    }\n",
       "\n",
       "    .dataframe thead th {\n",
       "        text-align: right;\n",
       "    }\n",
       "</style>\n",
       "<table border=\"1\" class=\"dataframe\">\n",
       "  <thead>\n",
       "    <tr style=\"text-align: right;\">\n",
       "      <th></th>\n",
       "      <th>age</th>\n",
       "      <th>sex</th>\n",
       "      <th>cp</th>\n",
       "      <th>trtbps</th>\n",
       "      <th>chol</th>\n",
       "      <th>fbs</th>\n",
       "      <th>restecg</th>\n",
       "      <th>thalachh</th>\n",
       "      <th>exng</th>\n",
       "      <th>oldpeak</th>\n",
       "      <th>slp</th>\n",
       "      <th>caa</th>\n",
       "      <th>thall</th>\n",
       "      <th>output</th>\n",
       "    </tr>\n",
       "  </thead>\n",
       "  <tbody>\n",
       "    <tr>\n",
       "      <th>count</th>\n",
       "      <td>303.000000</td>\n",
       "      <td>303.000000</td>\n",
       "      <td>303.000000</td>\n",
       "      <td>303.000000</td>\n",
       "      <td>303.000000</td>\n",
       "      <td>303.000000</td>\n",
       "      <td>303.000000</td>\n",
       "      <td>303.000000</td>\n",
       "      <td>303.000000</td>\n",
       "      <td>303.000000</td>\n",
       "      <td>303.000000</td>\n",
       "      <td>303.000000</td>\n",
       "      <td>303.000000</td>\n",
       "      <td>303.000000</td>\n",
       "    </tr>\n",
       "    <tr>\n",
       "      <th>mean</th>\n",
       "      <td>54.366337</td>\n",
       "      <td>0.683168</td>\n",
       "      <td>0.966997</td>\n",
       "      <td>131.623762</td>\n",
       "      <td>246.264026</td>\n",
       "      <td>0.148515</td>\n",
       "      <td>0.528053</td>\n",
       "      <td>149.646865</td>\n",
       "      <td>0.326733</td>\n",
       "      <td>1.039604</td>\n",
       "      <td>1.399340</td>\n",
       "      <td>0.729373</td>\n",
       "      <td>2.313531</td>\n",
       "      <td>0.544554</td>\n",
       "    </tr>\n",
       "    <tr>\n",
       "      <th>std</th>\n",
       "      <td>9.082101</td>\n",
       "      <td>0.466011</td>\n",
       "      <td>1.032052</td>\n",
       "      <td>17.538143</td>\n",
       "      <td>51.830751</td>\n",
       "      <td>0.356198</td>\n",
       "      <td>0.525860</td>\n",
       "      <td>22.905161</td>\n",
       "      <td>0.469794</td>\n",
       "      <td>1.161075</td>\n",
       "      <td>0.616226</td>\n",
       "      <td>1.022606</td>\n",
       "      <td>0.612277</td>\n",
       "      <td>0.498835</td>\n",
       "    </tr>\n",
       "    <tr>\n",
       "      <th>min</th>\n",
       "      <td>29.000000</td>\n",
       "      <td>0.000000</td>\n",
       "      <td>0.000000</td>\n",
       "      <td>94.000000</td>\n",
       "      <td>126.000000</td>\n",
       "      <td>0.000000</td>\n",
       "      <td>0.000000</td>\n",
       "      <td>71.000000</td>\n",
       "      <td>0.000000</td>\n",
       "      <td>0.000000</td>\n",
       "      <td>0.000000</td>\n",
       "      <td>0.000000</td>\n",
       "      <td>0.000000</td>\n",
       "      <td>0.000000</td>\n",
       "    </tr>\n",
       "    <tr>\n",
       "      <th>25%</th>\n",
       "      <td>47.500000</td>\n",
       "      <td>0.000000</td>\n",
       "      <td>0.000000</td>\n",
       "      <td>120.000000</td>\n",
       "      <td>211.000000</td>\n",
       "      <td>0.000000</td>\n",
       "      <td>0.000000</td>\n",
       "      <td>133.500000</td>\n",
       "      <td>0.000000</td>\n",
       "      <td>0.000000</td>\n",
       "      <td>1.000000</td>\n",
       "      <td>0.000000</td>\n",
       "      <td>2.000000</td>\n",
       "      <td>0.000000</td>\n",
       "    </tr>\n",
       "    <tr>\n",
       "      <th>50%</th>\n",
       "      <td>55.000000</td>\n",
       "      <td>1.000000</td>\n",
       "      <td>1.000000</td>\n",
       "      <td>130.000000</td>\n",
       "      <td>240.000000</td>\n",
       "      <td>0.000000</td>\n",
       "      <td>1.000000</td>\n",
       "      <td>153.000000</td>\n",
       "      <td>0.000000</td>\n",
       "      <td>0.800000</td>\n",
       "      <td>1.000000</td>\n",
       "      <td>0.000000</td>\n",
       "      <td>2.000000</td>\n",
       "      <td>1.000000</td>\n",
       "    </tr>\n",
       "    <tr>\n",
       "      <th>75%</th>\n",
       "      <td>61.000000</td>\n",
       "      <td>1.000000</td>\n",
       "      <td>2.000000</td>\n",
       "      <td>140.000000</td>\n",
       "      <td>274.500000</td>\n",
       "      <td>0.000000</td>\n",
       "      <td>1.000000</td>\n",
       "      <td>166.000000</td>\n",
       "      <td>1.000000</td>\n",
       "      <td>1.600000</td>\n",
       "      <td>2.000000</td>\n",
       "      <td>1.000000</td>\n",
       "      <td>3.000000</td>\n",
       "      <td>1.000000</td>\n",
       "    </tr>\n",
       "    <tr>\n",
       "      <th>max</th>\n",
       "      <td>77.000000</td>\n",
       "      <td>1.000000</td>\n",
       "      <td>3.000000</td>\n",
       "      <td>200.000000</td>\n",
       "      <td>564.000000</td>\n",
       "      <td>1.000000</td>\n",
       "      <td>2.000000</td>\n",
       "      <td>202.000000</td>\n",
       "      <td>1.000000</td>\n",
       "      <td>6.200000</td>\n",
       "      <td>2.000000</td>\n",
       "      <td>4.000000</td>\n",
       "      <td>3.000000</td>\n",
       "      <td>1.000000</td>\n",
       "    </tr>\n",
       "  </tbody>\n",
       "</table>\n",
       "</div>"
      ],
      "text/plain": [
       "              age         sex          cp      trtbps        chol         fbs  \\\n",
       "count  303.000000  303.000000  303.000000  303.000000  303.000000  303.000000   \n",
       "mean    54.366337    0.683168    0.966997  131.623762  246.264026    0.148515   \n",
       "std      9.082101    0.466011    1.032052   17.538143   51.830751    0.356198   \n",
       "min     29.000000    0.000000    0.000000   94.000000  126.000000    0.000000   \n",
       "25%     47.500000    0.000000    0.000000  120.000000  211.000000    0.000000   \n",
       "50%     55.000000    1.000000    1.000000  130.000000  240.000000    0.000000   \n",
       "75%     61.000000    1.000000    2.000000  140.000000  274.500000    0.000000   \n",
       "max     77.000000    1.000000    3.000000  200.000000  564.000000    1.000000   \n",
       "\n",
       "          restecg    thalachh        exng     oldpeak         slp         caa  \\\n",
       "count  303.000000  303.000000  303.000000  303.000000  303.000000  303.000000   \n",
       "mean     0.528053  149.646865    0.326733    1.039604    1.399340    0.729373   \n",
       "std      0.525860   22.905161    0.469794    1.161075    0.616226    1.022606   \n",
       "min      0.000000   71.000000    0.000000    0.000000    0.000000    0.000000   \n",
       "25%      0.000000  133.500000    0.000000    0.000000    1.000000    0.000000   \n",
       "50%      1.000000  153.000000    0.000000    0.800000    1.000000    0.000000   \n",
       "75%      1.000000  166.000000    1.000000    1.600000    2.000000    1.000000   \n",
       "max      2.000000  202.000000    1.000000    6.200000    2.000000    4.000000   \n",
       "\n",
       "            thall      output  \n",
       "count  303.000000  303.000000  \n",
       "mean     2.313531    0.544554  \n",
       "std      0.612277    0.498835  \n",
       "min      0.000000    0.000000  \n",
       "25%      2.000000    0.000000  \n",
       "50%      2.000000    1.000000  \n",
       "75%      3.000000    1.000000  \n",
       "max      3.000000    1.000000  "
      ]
     },
     "metadata": {},
     "execution_count": 11
    }
   ],
   "metadata": {}
  },
  {
   "cell_type": "markdown",
   "source": [
    "Hier sieht man Beispielsweise das das Durchschnittsalter (mean in der Kolonne `age`) 54 Jahre ist oder das der jüngste Patien 29 Jahre und er älteste 77 Jahre alt ist.\n",
    "\n",
    "---\n",
    "---\n",
    "## Kontrollaufgabe 3\n",
    "Mann kann eine Kolonne eines Dataframes direkt erfassen in dem man folgende Struktur nutzt `df[\"Kolonnennamen]` und auch gleich einen entsprechenden Befehl auf diese Kolonne ausführen. Beispielsweise kann man mit `df[\"age\"].sum()` das Alter aller Patienten summieren.\n",
    "\n",
    "* Schreiben sie den Code um den Durchschnitt der Kolonne `chol` zu berechnen.\n",
    "* Schreiben sie den Code um das maximale Alter aus der Kolonne `age` zu berechnen\n",
    "\n",
    "**Hinweis**: Überlegen Sie sich die entsprechenden Englishen Begriffe und such nach der entsprechenden Funktion unter [https://pandas.pydata.org/docs/reference/frame.html](https://pandas.pydata.org/docs/reference/frame.html)."
   ],
   "metadata": {}
  },
  {
   "cell_type": "code",
   "execution_count": null,
   "source": [
    "# Hier den Code schreiben\n"
   ],
   "outputs": [],
   "metadata": {}
  },
  {
   "cell_type": "markdown",
   "source": [
    "---\n",
    "---"
   ],
   "metadata": {}
  },
  {
   "cell_type": "markdown",
   "source": [
    "\n",
    "\n",
    "### 3.6 Dublikate\n",
    "Nun möchte man noch überprüfen obe enventuell ein Patient doppel, also als Dublikat erfasst wurde. Ähnlich zum `.isnull()` Befehlt wird hierzu der `.duplicated()` und `.sum()` Befehl in Kombination angewendet"
   ],
   "metadata": {}
  },
  {
   "cell_type": "code",
   "execution_count": 12,
   "source": [
    "df.duplicated().sum()"
   ],
   "outputs": [
    {
     "output_type": "execute_result",
     "data": {
      "text/plain": [
       "1"
      ]
     },
     "metadata": {},
     "execution_count": 12
    }
   ],
   "metadata": {}
  },
  {
   "cell_type": "markdown",
   "source": [
    "Somit hat es dein Dublikat im Datensatz vorhanden.\n",
    "\n",
    "Nun möchte man dieses natürlich löschen um die entsprechende Zeile zu finden wird der `.duplicated()` Befehl als index verwendet."
   ],
   "metadata": {}
  },
  {
   "cell_type": "code",
   "execution_count": null,
   "source": [
    "df.duplicated()"
   ],
   "outputs": [],
   "metadata": {}
  },
  {
   "cell_type": "markdown",
   "source": [
    "In einer Zeile ist also der Wert \"True\" vorhanden, um die bestimmte Zeile zu finden wird dieser Index mit dem Befehl `.loc[Index]` kombiniert."
   ],
   "metadata": {}
  },
  {
   "cell_type": "code",
   "execution_count": null,
   "source": [
    "df.loc[df.duplicated()]"
   ],
   "outputs": [],
   "metadata": {}
  },
  {
   "cell_type": "markdown",
   "source": [
    "Somit ist die Zeile mit dem Index 164 ein Duplikat. Wobei die Zeile mit dem Index 163 sehr wahrscheinlich der erste Original eintrag ist"
   ],
   "metadata": {}
  },
  {
   "cell_type": "code",
   "execution_count": null,
   "source": [
    "df.iloc[163:165,:]"
   ],
   "outputs": [],
   "metadata": {}
  },
  {
   "cell_type": "markdown",
   "source": [
    "Nun könnnen wir also die Zeile mit dem Index 164 aus dem Dataframe entfernen. Hierzu wird einfach der Befehl `.drob_duplicates()` angewendet."
   ],
   "metadata": {}
  },
  {
   "cell_type": "code",
   "execution_count": null,
   "source": [
    "df= df.drop_duplicates()"
   ],
   "outputs": [],
   "metadata": {}
  },
  {
   "cell_type": "markdown",
   "source": [
    "Damit im index keine Lücke entsteht (162,163,[ ], 165,166) wird der Index zurückgesetzt."
   ],
   "metadata": {}
  },
  {
   "cell_type": "code",
   "execution_count": null,
   "source": [
    "df= df.reset_index(drop=True)"
   ],
   "outputs": [],
   "metadata": {}
  },
  {
   "cell_type": "markdown",
   "source": [
    "Jetzt sollte alles passen und kein Duplikat vorhanden sein."
   ],
   "metadata": {}
  },
  {
   "cell_type": "code",
   "execution_count": null,
   "source": [
    "df.loc[163:164]"
   ],
   "outputs": [],
   "metadata": {}
  },
  {
   "cell_type": "markdown",
   "source": [
    "# 4 Daten Visualisieren\n",
    "---\n",
    "Matplotlib, Seaborn, Plotly Express oder ggplot, um nur einizge zu nennen, sind Visalisierungs-Pakete für Python. Jedes dieser Werkzeuge hat Vor-und Nachteile im Bezug die Syntax, Zielplot und Dateninput. Einige sind ausgelegt auf grosse Datenmene andere auf einfaches Userinterface oder wurden von anderen Programmiersprachen zu Python portiert. Somit ist es of der Fall das man je nach Zielplot zwischen diese Paketen wechselt oder man sich auf eines fixiert aufgrund des Interfaces oder anderen Gründen. \n",
    "\n",
    "<img src='https://python.casa/assets/img/topic8_Plots_Python.jpg' width=\"700\" height=\"400\">\n",
    "\n",
    "### 4.1 Pandas plot\n",
    "Pandas selber beinhaltet einige Visualisierungfunktionen welche als Methoden integriert sind.\n",
    "\n",
    "Mit dem `.plot()` Befehlt wird eine Visualisierung des ganzen Dataframes erstellt."
   ],
   "metadata": {}
  },
  {
   "cell_type": "code",
   "execution_count": 14,
   "source": [
    "import matplotlib\n",
    "df.plot()"
   ],
   "outputs": [
    {
     "output_type": "execute_result",
     "data": {
      "text/plain": [
       "<AxesSubplot:>"
      ]
     },
     "metadata": {},
     "execution_count": 14
    },
    {
     "output_type": "display_data",
     "data": {
      "image/png": "[encoded data removed]",
      "text/plain": [
       "<Figure size 432x288 with 1 Axes>"
      ]
     },
     "metadata": {
      "needs_background": "light"
     }
    }
   ],
   "metadata": {}
  },
  {
   "cell_type": "code",
   "execution_count": null,
   "source": [
    "df.plot.scatter(x=\"age\", y=\"chol\")"
   ],
   "outputs": [],
   "metadata": {}
  },
  {
   "cell_type": "markdown",
   "source": [
    "Die Punkte zeigen somit die Überlappund des Alter eines Patienten und dem zugehörigen Cholesterol Wert.\n",
    "\n",
    "Möchte man nur einen betimmten Parameter plotten wird der Kolonnenname indexiert `df[\"Kolonnenamen\"]`."
   ],
   "metadata": {}
  },
  {
   "cell_type": "code",
   "execution_count": 16,
   "source": [
    "df[\"age\"].plot()"
   ],
   "outputs": [
    {
     "output_type": "execute_result",
     "data": {
      "text/plain": [
       "<AxesSubplot:>"
      ]
     },
     "metadata": {},
     "execution_count": 16
    },
    {
     "output_type": "display_data",
     "data": {
      "image/png": "[encoded data removed]",
      "text/plain": [
       "<Figure size 432x288 with 1 Axes>"
      ]
     },
     "metadata": {
      "needs_background": "light"
     }
    }
   ],
   "metadata": {}
  },
  {
   "cell_type": "markdown",
   "source": [
    "Die obige Grafik ist nun sehr minimal und es fehlen beschreibende Informationen. Weitere Paremeter können nun in den Klammern des `.plot()` Befehls erfasst werden.\n",
    "\n",
    "Generell sind alle Parameter unter folgendem Link ersichtlich: **[https://pandas.pydata.org/docs/reference/api/pandas.DataFrame.plot.html](https://pandas.pydata.org/docs/reference/api/pandas.DataFrame.plot.html)**\n",
    "\n",
    "Hier sind einige Beispiele dazu:\n",
    "* Title der Grafik -> title=\"title\"\n",
    "* Grafik Grösse -> figsize=(x,y)\n",
    "* x- und y-Achsentitel -> xlabel=\"xlabel\", ylabel=\"xlabel\"\n",
    "* Rotation der X-Achsen Indexierung -> rot=10\n",
    "* Legende -> legende=True"
   ],
   "metadata": {}
  },
  {
   "cell_type": "code",
   "execution_count": 15,
   "source": [
    "df[\"age\"].plot(figsize=(10, 5),title=\"Alter der erfassten Patieneten\",xlabel=\"Patienten Index\", ylabel=\"Alter\", rot=45, legend=True)"
   ],
   "outputs": [
    {
     "output_type": "execute_result",
     "data": {
      "text/plain": [
       "<AxesSubplot:title={'center':'Alter der erfassten Patieneten'}, xlabel='Patienten Index', ylabel='Alter'>"
      ]
     },
     "metadata": {},
     "execution_count": 15
    },
    {
     "output_type": "display_data",
     "data": {
      "image/png": "[encoded data removed]",
      "text/plain": [
       "<Figure size 720x360 with 1 Axes>"
      ]
     },
     "metadata": {
      "needs_background": "light"
     }
    }
   ],
   "metadata": {}
  },
  {
   "cell_type": "markdown",
   "source": [
    "Jetzt ist die Grafik sinnvoll formatiert, jedoch mach es eigentlich gar keinen Sinn das Alter der Patienten auf diese Art zu Visualisieren, da man gar keine Informationen aus dieser Grafik extrahieren kann.\n",
    "\n",
    "### 4.2 Visualisierung auswählen\n",
    "\n",
    "Je nach Datentyp, Quelle, Zusammensetzung und Ziel sollte eine bestimmte Visualisierung ausgewählt werden. Generell orientirt man sich daran ob man an einer Verteilung, einem Vergleich, ans Zusammenhänge oder an einer Zusammensetzung interessiert ist und eine entsprechende representierbare Grafik erstellen möchte.\n",
    "\n",
    "<img src='https://python.casa/assets/img/topic8_choose_graph.jpg' width=\"700\" height=\"600\">\n",
    "\n",
    "Im Bezug auf den Parameter `age` wäre man zum Beispiel an der Verteilung interessiert, also wieviele Patienten eines bestimmten Alter es gibt. Hierzu eignet ein Histogram Plot. Diese Art von Plot kann ebenfalls mit Pandas generiert werde mittel des `.hist()` Befehls."
   ],
   "metadata": {}
  },
  {
   "cell_type": "code",
   "execution_count": 17,
   "source": [
    "df[\"age\"].hist()"
   ],
   "outputs": [
    {
     "output_type": "execute_result",
     "data": {
      "text/plain": [
       "<AxesSubplot:>"
      ]
     },
     "metadata": {},
     "execution_count": 17
    },
    {
     "output_type": "display_data",
     "data": {
      "image/png": "[encoded data removed]",
      "text/plain": [
       "<Figure size 432x288 with 1 Axes>"
      ]
     },
     "metadata": {
      "needs_background": "light"
     }
    }
   ],
   "metadata": {}
  },
  {
   "cell_type": "markdown",
   "source": [
    "Auf der y-Achse ist die Anzahl Patienten in einer bestimmten Alterskategorie aufgeführt. Auf der x-Achse sind also gleichmässige Abschnitte welche eine Kategorie bilden. So sind zum Beispiel ca 2 Patienten in Alterskategorie von ca 20-34 Jahre alt. In der Kategorie 56-63 Jahre sindca run 62 Patienten. Jetzt kann man die Anzahl an Alterskategorien noch erhöhen in dem den Parameter `bins=50` einfügt."
   ],
   "metadata": {}
  },
  {
   "cell_type": "code",
   "execution_count": 18,
   "source": [
    "df[\"age\"].hist(bins=100, figsize=(10, 8), grid=False)"
   ],
   "outputs": [
    {
     "output_type": "execute_result",
     "data": {
      "text/plain": [
       "<AxesSubplot:>"
      ]
     },
     "metadata": {},
     "execution_count": 18
    },
    {
     "output_type": "display_data",
     "data": {
      "image/png": "[encoded data removed]",
      "text/plain": [
       "<Figure size 720x576 with 1 Axes>"
      ]
     },
     "metadata": {
      "needs_background": "light"
     }
    }
   ],
   "metadata": {}
  },
  {
   "cell_type": "markdown",
   "source": [
    "Diese Grafik ist schon einiges Übersichtlicher und gibt eine klare Übersich über die Altersverteilung der Patienten.\n",
    "\n",
    "---\n",
    "---\n",
    "## Kontrollaufgabe 4\n",
    "Schreiben sie den Code um den folgenden plot zu generiern \n",
    "\n",
    "<img src='https://python.casa/assets/img/topic8_aufgabe.jpg' width=\"400\" height=\"280\">"
   ],
   "metadata": {}
  },
  {
   "cell_type": "code",
   "execution_count": null,
   "source": [
    "# Hier den Code schreiben\n"
   ],
   "outputs": [],
   "metadata": {}
  },
  {
   "cell_type": "markdown",
   "source": [
    "---\n",
    "---"
   ],
   "metadata": {}
  },
  {
   "cell_type": "markdown",
   "source": [
    "### 4.3 Statistische Visualisierungen\n",
    "Besonder wichtig sind Visualisierungen welche Statistische Auswertungen bildlich unterstützen. Wie bereits weiter oben beschrieben kann mit dem `.describe()` Befehl eine statistische auswertung über die Kolonnen erstellt werden."
   ],
   "metadata": {}
  },
  {
   "cell_type": "code",
   "execution_count": null,
   "source": [
    "df[\"age\"].describe()"
   ],
   "outputs": [],
   "metadata": {}
  },
  {
   "cell_type": "markdown",
   "source": [
    "Diese Statistischen Parameter kann auf einfache weise mit einem Boxplot representieren. Den entsprechenden Befehl das is `.boxplot()` wobei noch eine bestimme Kolonne als Parameter bestimmt werden muss."
   ],
   "metadata": {}
  },
  {
   "cell_type": "code",
   "execution_count": null,
   "source": [
    "df.boxplot(column=\"age\", figsize=(5, 4),grid=False)"
   ],
   "outputs": [],
   "metadata": {}
  },
  {
   "cell_type": "markdown",
   "source": [
    "Diese ist somit eine visuell representierung von statistischen Basisparametern. Boxplots können mit einem weiteren Dataframe parameter erweitert werden. So ist man zum Beispiel interssiert and den Altersunterschieden zwischen Mann und Frau."
   ],
   "metadata": {}
  },
  {
   "cell_type": "code",
   "execution_count": 19,
   "source": [
    "df.boxplot(column=\"age\", by=\"sex\", figsize=(8, 5),grid=False)"
   ],
   "outputs": [
    {
     "output_type": "execute_result",
     "data": {
      "text/plain": [
       "<AxesSubplot:title={'center':'age'}, xlabel='sex'>"
      ]
     },
     "metadata": {},
     "execution_count": 19
    },
    {
     "output_type": "display_data",
     "data": {
      "image/png": "[encoded data removed]",
      "text/plain": [
       "<Figure size 576x360 with 1 Axes>"
      ]
     },
     "metadata": {
      "needs_background": "light"
     }
    }
   ],
   "metadata": {}
  },
  {
   "cell_type": "markdown",
   "source": [
    "### 4.4 Abhängigkeiten zwischen Parametern erkennen\n",
    "Sogennante Korrelationsplots sind oft einen statistische Visulasierung welche verwendet wird um Zusammenhänge zwischen verschiedenen Parametern zu finden. \n",
    "\n",
    "Eine einfache Methode hierzu ist es den Pearson Koeffizient zwischen zwei Parametern zu berechnen So wird zum Beispel der Parameter `age` und `chol` als das Alter und der Cholesterolspiegel gegenübergestellt. Dies zuerst mit einem Scatterplot visualisiert werden"
   ],
   "metadata": {}
  },
  {
   "cell_type": "code",
   "execution_count": 20,
   "source": [
    "df.plot.scatter(x=\"age\", y=\"chol\")"
   ],
   "outputs": [
    {
     "output_type": "execute_result",
     "data": {
      "text/plain": [
       "<AxesSubplot:xlabel='age', ylabel='chol'>"
      ]
     },
     "metadata": {},
     "execution_count": 20
    },
    {
     "output_type": "display_data",
     "data": {
      "image/png": "[encoded data removed]",
      "text/plain": [
       "<Figure size 432x288 with 1 Axes>"
      ]
     },
     "metadata": {
      "needs_background": "light"
     }
    }
   ],
   "metadata": {}
  },
  {
   "cell_type": "markdown",
   "source": [
    "Steigt nun der Cholesterolspiege mit steigendem Alter ergibt des einen positive Pearson Koeffizient, wobei eine absolute Abhängigkeit zwischen diesen Wert bei 1 liegen würde.\n",
    "\n",
    "In der folgenden Übersicht ist aufgezeigt wie sich der Pearson Koeffizien verhält:\n",
    "\n",
    "<img src='https://python.casa/assets/img/topic8_pearson.jpg' width=\"650\" height=\"400\">"
   ],
   "metadata": {}
  },
  {
   "cell_type": "markdown",
   "source": [
    "Damit man nicht jedes Parameter Paar einzeln berechnen muss erstellt man eine Korrelationsmatrix wobei dann jeder Parameter gegenüber jedem Parameter verrechnet wird. Diese Korrelationsmatrix wird einfach mit dem Befehl `.corr()` erstellt."
   ],
   "metadata": {}
  },
  {
   "cell_type": "code",
   "execution_count": 21,
   "source": [
    "df.corr()"
   ],
   "outputs": [
    {
     "output_type": "execute_result",
     "data": {
      "text/html": [
       "<div>\n",
       "<style scoped>\n",
       "    .dataframe tbody tr th:only-of-type {\n",
       "        vertical-align: middle;\n",
       "    }\n",
       "\n",
       "    .dataframe tbody tr th {\n",
       "        vertical-align: top;\n",
       "    }\n",
       "\n",
       "    .dataframe thead th {\n",
       "        text-align: right;\n",
       "    }\n",
       "</style>\n",
       "<table border=\"1\" class=\"dataframe\">\n",
       "  <thead>\n",
       "    <tr style=\"text-align: right;\">\n",
       "      <th></th>\n",
       "      <th>age</th>\n",
       "      <th>sex</th>\n",
       "      <th>cp</th>\n",
       "      <th>trtbps</th>\n",
       "      <th>chol</th>\n",
       "      <th>fbs</th>\n",
       "      <th>restecg</th>\n",
       "      <th>thalachh</th>\n",
       "      <th>exng</th>\n",
       "      <th>oldpeak</th>\n",
       "      <th>slp</th>\n",
       "      <th>caa</th>\n",
       "      <th>thall</th>\n",
       "      <th>output</th>\n",
       "    </tr>\n",
       "  </thead>\n",
       "  <tbody>\n",
       "    <tr>\n",
       "      <th>age</th>\n",
       "      <td>1.000000</td>\n",
       "      <td>-0.098447</td>\n",
       "      <td>-0.068653</td>\n",
       "      <td>0.279351</td>\n",
       "      <td>0.213678</td>\n",
       "      <td>0.121308</td>\n",
       "      <td>-0.116211</td>\n",
       "      <td>-0.398522</td>\n",
       "      <td>0.096801</td>\n",
       "      <td>0.210013</td>\n",
       "      <td>-0.168814</td>\n",
       "      <td>0.276326</td>\n",
       "      <td>0.068001</td>\n",
       "      <td>-0.225439</td>\n",
       "    </tr>\n",
       "    <tr>\n",
       "      <th>sex</th>\n",
       "      <td>-0.098447</td>\n",
       "      <td>1.000000</td>\n",
       "      <td>-0.049353</td>\n",
       "      <td>-0.056769</td>\n",
       "      <td>-0.197912</td>\n",
       "      <td>0.045032</td>\n",
       "      <td>-0.058196</td>\n",
       "      <td>-0.044020</td>\n",
       "      <td>0.141664</td>\n",
       "      <td>0.096093</td>\n",
       "      <td>-0.030711</td>\n",
       "      <td>0.118261</td>\n",
       "      <td>0.210041</td>\n",
       "      <td>-0.280937</td>\n",
       "    </tr>\n",
       "    <tr>\n",
       "      <th>cp</th>\n",
       "      <td>-0.068653</td>\n",
       "      <td>-0.049353</td>\n",
       "      <td>1.000000</td>\n",
       "      <td>0.047608</td>\n",
       "      <td>-0.076904</td>\n",
       "      <td>0.094444</td>\n",
       "      <td>0.044421</td>\n",
       "      <td>0.295762</td>\n",
       "      <td>-0.394280</td>\n",
       "      <td>-0.149230</td>\n",
       "      <td>0.119717</td>\n",
       "      <td>-0.181053</td>\n",
       "      <td>-0.161736</td>\n",
       "      <td>0.433798</td>\n",
       "    </tr>\n",
       "    <tr>\n",
       "      <th>trtbps</th>\n",
       "      <td>0.279351</td>\n",
       "      <td>-0.056769</td>\n",
       "      <td>0.047608</td>\n",
       "      <td>1.000000</td>\n",
       "      <td>0.123174</td>\n",
       "      <td>0.177531</td>\n",
       "      <td>-0.114103</td>\n",
       "      <td>-0.046698</td>\n",
       "      <td>0.067616</td>\n",
       "      <td>0.193216</td>\n",
       "      <td>-0.121475</td>\n",
       "      <td>0.101389</td>\n",
       "      <td>0.062210</td>\n",
       "      <td>-0.144931</td>\n",
       "    </tr>\n",
       "    <tr>\n",
       "      <th>chol</th>\n",
       "      <td>0.213678</td>\n",
       "      <td>-0.197912</td>\n",
       "      <td>-0.076904</td>\n",
       "      <td>0.123174</td>\n",
       "      <td>1.000000</td>\n",
       "      <td>0.013294</td>\n",
       "      <td>-0.151040</td>\n",
       "      <td>-0.009940</td>\n",
       "      <td>0.067023</td>\n",
       "      <td>0.053952</td>\n",
       "      <td>-0.004038</td>\n",
       "      <td>0.070511</td>\n",
       "      <td>0.098803</td>\n",
       "      <td>-0.085239</td>\n",
       "    </tr>\n",
       "    <tr>\n",
       "      <th>fbs</th>\n",
       "      <td>0.121308</td>\n",
       "      <td>0.045032</td>\n",
       "      <td>0.094444</td>\n",
       "      <td>0.177531</td>\n",
       "      <td>0.013294</td>\n",
       "      <td>1.000000</td>\n",
       "      <td>-0.084189</td>\n",
       "      <td>-0.008567</td>\n",
       "      <td>0.025665</td>\n",
       "      <td>0.005747</td>\n",
       "      <td>-0.059894</td>\n",
       "      <td>0.137979</td>\n",
       "      <td>-0.032019</td>\n",
       "      <td>-0.028046</td>\n",
       "    </tr>\n",
       "    <tr>\n",
       "      <th>restecg</th>\n",
       "      <td>-0.116211</td>\n",
       "      <td>-0.058196</td>\n",
       "      <td>0.044421</td>\n",
       "      <td>-0.114103</td>\n",
       "      <td>-0.151040</td>\n",
       "      <td>-0.084189</td>\n",
       "      <td>1.000000</td>\n",
       "      <td>0.044123</td>\n",
       "      <td>-0.070733</td>\n",
       "      <td>-0.058770</td>\n",
       "      <td>0.093045</td>\n",
       "      <td>-0.072042</td>\n",
       "      <td>-0.011981</td>\n",
       "      <td>0.137230</td>\n",
       "    </tr>\n",
       "    <tr>\n",
       "      <th>thalachh</th>\n",
       "      <td>-0.398522</td>\n",
       "      <td>-0.044020</td>\n",
       "      <td>0.295762</td>\n",
       "      <td>-0.046698</td>\n",
       "      <td>-0.009940</td>\n",
       "      <td>-0.008567</td>\n",
       "      <td>0.044123</td>\n",
       "      <td>1.000000</td>\n",
       "      <td>-0.378812</td>\n",
       "      <td>-0.344187</td>\n",
       "      <td>0.386784</td>\n",
       "      <td>-0.213177</td>\n",
       "      <td>-0.096439</td>\n",
       "      <td>0.421741</td>\n",
       "    </tr>\n",
       "    <tr>\n",
       "      <th>exng</th>\n",
       "      <td>0.096801</td>\n",
       "      <td>0.141664</td>\n",
       "      <td>-0.394280</td>\n",
       "      <td>0.067616</td>\n",
       "      <td>0.067023</td>\n",
       "      <td>0.025665</td>\n",
       "      <td>-0.070733</td>\n",
       "      <td>-0.378812</td>\n",
       "      <td>1.000000</td>\n",
       "      <td>0.288223</td>\n",
       "      <td>-0.257748</td>\n",
       "      <td>0.115739</td>\n",
       "      <td>0.206754</td>\n",
       "      <td>-0.436757</td>\n",
       "    </tr>\n",
       "    <tr>\n",
       "      <th>oldpeak</th>\n",
       "      <td>0.210013</td>\n",
       "      <td>0.096093</td>\n",
       "      <td>-0.149230</td>\n",
       "      <td>0.193216</td>\n",
       "      <td>0.053952</td>\n",
       "      <td>0.005747</td>\n",
       "      <td>-0.058770</td>\n",
       "      <td>-0.344187</td>\n",
       "      <td>0.288223</td>\n",
       "      <td>1.000000</td>\n",
       "      <td>-0.577537</td>\n",
       "      <td>0.222682</td>\n",
       "      <td>0.210244</td>\n",
       "      <td>-0.430696</td>\n",
       "    </tr>\n",
       "    <tr>\n",
       "      <th>slp</th>\n",
       "      <td>-0.168814</td>\n",
       "      <td>-0.030711</td>\n",
       "      <td>0.119717</td>\n",
       "      <td>-0.121475</td>\n",
       "      <td>-0.004038</td>\n",
       "      <td>-0.059894</td>\n",
       "      <td>0.093045</td>\n",
       "      <td>0.386784</td>\n",
       "      <td>-0.257748</td>\n",
       "      <td>-0.577537</td>\n",
       "      <td>1.000000</td>\n",
       "      <td>-0.080155</td>\n",
       "      <td>-0.104764</td>\n",
       "      <td>0.345877</td>\n",
       "    </tr>\n",
       "    <tr>\n",
       "      <th>caa</th>\n",
       "      <td>0.276326</td>\n",
       "      <td>0.118261</td>\n",
       "      <td>-0.181053</td>\n",
       "      <td>0.101389</td>\n",
       "      <td>0.070511</td>\n",
       "      <td>0.137979</td>\n",
       "      <td>-0.072042</td>\n",
       "      <td>-0.213177</td>\n",
       "      <td>0.115739</td>\n",
       "      <td>0.222682</td>\n",
       "      <td>-0.080155</td>\n",
       "      <td>1.000000</td>\n",
       "      <td>0.151832</td>\n",
       "      <td>-0.391724</td>\n",
       "    </tr>\n",
       "    <tr>\n",
       "      <th>thall</th>\n",
       "      <td>0.068001</td>\n",
       "      <td>0.210041</td>\n",
       "      <td>-0.161736</td>\n",
       "      <td>0.062210</td>\n",
       "      <td>0.098803</td>\n",
       "      <td>-0.032019</td>\n",
       "      <td>-0.011981</td>\n",
       "      <td>-0.096439</td>\n",
       "      <td>0.206754</td>\n",
       "      <td>0.210244</td>\n",
       "      <td>-0.104764</td>\n",
       "      <td>0.151832</td>\n",
       "      <td>1.000000</td>\n",
       "      <td>-0.344029</td>\n",
       "    </tr>\n",
       "    <tr>\n",
       "      <th>output</th>\n",
       "      <td>-0.225439</td>\n",
       "      <td>-0.280937</td>\n",
       "      <td>0.433798</td>\n",
       "      <td>-0.144931</td>\n",
       "      <td>-0.085239</td>\n",
       "      <td>-0.028046</td>\n",
       "      <td>0.137230</td>\n",
       "      <td>0.421741</td>\n",
       "      <td>-0.436757</td>\n",
       "      <td>-0.430696</td>\n",
       "      <td>0.345877</td>\n",
       "      <td>-0.391724</td>\n",
       "      <td>-0.344029</td>\n",
       "      <td>1.000000</td>\n",
       "    </tr>\n",
       "  </tbody>\n",
       "</table>\n",
       "</div>"
      ],
      "text/plain": [
       "               age       sex        cp    trtbps      chol       fbs  \\\n",
       "age       1.000000 -0.098447 -0.068653  0.279351  0.213678  0.121308   \n",
       "sex      -0.098447  1.000000 -0.049353 -0.056769 -0.197912  0.045032   \n",
       "cp       -0.068653 -0.049353  1.000000  0.047608 -0.076904  0.094444   \n",
       "trtbps    0.279351 -0.056769  0.047608  1.000000  0.123174  0.177531   \n",
       "chol      0.213678 -0.197912 -0.076904  0.123174  1.000000  0.013294   \n",
       "fbs       0.121308  0.045032  0.094444  0.177531  0.013294  1.000000   \n",
       "restecg  -0.116211 -0.058196  0.044421 -0.114103 -0.151040 -0.084189   \n",
       "thalachh -0.398522 -0.044020  0.295762 -0.046698 -0.009940 -0.008567   \n",
       "exng      0.096801  0.141664 -0.394280  0.067616  0.067023  0.025665   \n",
       "oldpeak   0.210013  0.096093 -0.149230  0.193216  0.053952  0.005747   \n",
       "slp      -0.168814 -0.030711  0.119717 -0.121475 -0.004038 -0.059894   \n",
       "caa       0.276326  0.118261 -0.181053  0.101389  0.070511  0.137979   \n",
       "thall     0.068001  0.210041 -0.161736  0.062210  0.098803 -0.032019   \n",
       "output   -0.225439 -0.280937  0.433798 -0.144931 -0.085239 -0.028046   \n",
       "\n",
       "           restecg  thalachh      exng   oldpeak       slp       caa  \\\n",
       "age      -0.116211 -0.398522  0.096801  0.210013 -0.168814  0.276326   \n",
       "sex      -0.058196 -0.044020  0.141664  0.096093 -0.030711  0.118261   \n",
       "cp        0.044421  0.295762 -0.394280 -0.149230  0.119717 -0.181053   \n",
       "trtbps   -0.114103 -0.046698  0.067616  0.193216 -0.121475  0.101389   \n",
       "chol     -0.151040 -0.009940  0.067023  0.053952 -0.004038  0.070511   \n",
       "fbs      -0.084189 -0.008567  0.025665  0.005747 -0.059894  0.137979   \n",
       "restecg   1.000000  0.044123 -0.070733 -0.058770  0.093045 -0.072042   \n",
       "thalachh  0.044123  1.000000 -0.378812 -0.344187  0.386784 -0.213177   \n",
       "exng     -0.070733 -0.378812  1.000000  0.288223 -0.257748  0.115739   \n",
       "oldpeak  -0.058770 -0.344187  0.288223  1.000000 -0.577537  0.222682   \n",
       "slp       0.093045  0.386784 -0.257748 -0.577537  1.000000 -0.080155   \n",
       "caa      -0.072042 -0.213177  0.115739  0.222682 -0.080155  1.000000   \n",
       "thall    -0.011981 -0.096439  0.206754  0.210244 -0.104764  0.151832   \n",
       "output    0.137230  0.421741 -0.436757 -0.430696  0.345877 -0.391724   \n",
       "\n",
       "             thall    output  \n",
       "age       0.068001 -0.225439  \n",
       "sex       0.210041 -0.280937  \n",
       "cp       -0.161736  0.433798  \n",
       "trtbps    0.062210 -0.144931  \n",
       "chol      0.098803 -0.085239  \n",
       "fbs      -0.032019 -0.028046  \n",
       "restecg  -0.011981  0.137230  \n",
       "thalachh -0.096439  0.421741  \n",
       "exng      0.206754 -0.436757  \n",
       "oldpeak   0.210244 -0.430696  \n",
       "slp      -0.104764  0.345877  \n",
       "caa       0.151832 -0.391724  \n",
       "thall     1.000000 -0.344029  \n",
       "output   -0.344029  1.000000  "
      ]
     },
     "metadata": {},
     "execution_count": 21
    }
   ],
   "metadata": {}
  },
  {
   "cell_type": "markdown",
   "source": [
    "Nun kann man diese Matrix nach hohen (oder tiefen Werten) durchsuchen um Paramterpaare zu finden welche stark voneinen Abhängig sind. Dabei wäre man besonders an der `output` Zeile interessiert da diese Ja die Wahrscheinlichkeit auf einen Herzinfarkt aufzeigen würde um somit welcher andere Parameter den grössten Einfluss darauf hat.\n",
    "\n",
    "Wichtig ist das beim Korrelationsplot die diagonalen Werte ignoriert werden können das diese ja den Pearson Koeffizient des Parameters mit sich selber, also dem Wert 1, aufzeigt.\n",
    "\n",
    "Da der Mensch nicht gut is im scrennen von Zahlen können wir den Korrelationsplot mit eine Farbskala erweitern. Hierzu wir die Visualisierungsbibilothek plotly-express verwenden und der dazugehörige Befehtl `.imshow()`"
   ],
   "metadata": {}
  },
  {
   "cell_type": "code",
   "execution_count": 24,
   "source": [
    "px.imshow(df.corr())"
   ],
   "outputs": [
    {
     "output_type": "error",
     "ename": "ValueError",
     "evalue": "Mime type rendering requires nbformat>=4.2.0 but it is not installed",
     "traceback": [
      "\u001b[0;31m---------------------------------------------------------------------------\u001b[0m",
      "\u001b[0;31mValueError\u001b[0m                                Traceback (most recent call last)",
      "File \u001b[0;32m~/.pyenv/versions/3.8.6/lib/python3.8/site-packages/IPython/core/formatters.py:921\u001b[0m, in \u001b[0;36mIPythonDisplayFormatter.__call__\u001b[0;34m(self, obj)\u001b[0m\n\u001b[1;32m    919\u001b[0m method \u001b[38;5;241m=\u001b[39m get_real_method(obj, \u001b[38;5;28mself\u001b[39m\u001b[38;5;241m.\u001b[39mprint_method)\n\u001b[1;32m    920\u001b[0m \u001b[38;5;28;01mif\u001b[39;00m method \u001b[38;5;129;01mis\u001b[39;00m \u001b[38;5;129;01mnot\u001b[39;00m \u001b[38;5;28;01mNone\u001b[39;00m:\n\u001b[0;32m--> 921\u001b[0m     \u001b[43mmethod\u001b[49m\u001b[43m(\u001b[49m\u001b[43m)\u001b[49m\n\u001b[1;32m    922\u001b[0m     \u001b[38;5;28;01mreturn\u001b[39;00m \u001b[38;5;28;01mTrue\u001b[39;00m\n",
      "File \u001b[0;32m~/.pyenv/versions/3.8.6/lib/python3.8/site-packages/plotly/basedatatypes.py:844\u001b[0m, in \u001b[0;36mBaseFigure._ipython_display_\u001b[0;34m(self)\u001b[0m\n\u001b[1;32m    841\u001b[0m \u001b[38;5;28;01mimport\u001b[39;00m \u001b[38;5;21;01mplotly\u001b[39;00m\u001b[38;5;21;01m.\u001b[39;00m\u001b[38;5;21;01mio\u001b[39;00m \u001b[38;5;28;01mas\u001b[39;00m \u001b[38;5;21;01mpio\u001b[39;00m\n\u001b[1;32m    843\u001b[0m \u001b[38;5;28;01mif\u001b[39;00m pio\u001b[38;5;241m.\u001b[39mrenderers\u001b[38;5;241m.\u001b[39mrender_on_display \u001b[38;5;129;01mand\u001b[39;00m pio\u001b[38;5;241m.\u001b[39mrenderers\u001b[38;5;241m.\u001b[39mdefault:\n\u001b[0;32m--> 844\u001b[0m     \u001b[43mpio\u001b[49m\u001b[38;5;241;43m.\u001b[39;49m\u001b[43mshow\u001b[49m\u001b[43m(\u001b[49m\u001b[38;5;28;43mself\u001b[39;49m\u001b[43m)\u001b[49m\n\u001b[1;32m    845\u001b[0m \u001b[38;5;28;01melse\u001b[39;00m:\n\u001b[1;32m    846\u001b[0m     \u001b[38;5;28mprint\u001b[39m(\u001b[38;5;28mrepr\u001b[39m(\u001b[38;5;28mself\u001b[39m))\n",
      "File \u001b[0;32m~/.pyenv/versions/3.8.6/lib/python3.8/site-packages/plotly/io/_renderers.py:397\u001b[0m, in \u001b[0;36mshow\u001b[0;34m(fig, renderer, validate, **kwargs)\u001b[0m\n\u001b[1;32m    392\u001b[0m         \u001b[38;5;28;01mraise\u001b[39;00m \u001b[38;5;167;01mValueError\u001b[39;00m(\n\u001b[1;32m    393\u001b[0m             \u001b[38;5;124m\"\u001b[39m\u001b[38;5;124mMime type rendering requires ipython but it is not installed\u001b[39m\u001b[38;5;124m\"\u001b[39m\n\u001b[1;32m    394\u001b[0m         )\n\u001b[1;32m    396\u001b[0m     \u001b[38;5;28;01mif\u001b[39;00m \u001b[38;5;129;01mnot\u001b[39;00m nbformat \u001b[38;5;129;01mor\u001b[39;00m LooseVersion(nbformat\u001b[38;5;241m.\u001b[39m__version__) \u001b[38;5;241m<\u001b[39m LooseVersion(\u001b[38;5;124m\"\u001b[39m\u001b[38;5;124m4.2.0\u001b[39m\u001b[38;5;124m\"\u001b[39m):\n\u001b[0;32m--> 397\u001b[0m         \u001b[38;5;28;01mraise\u001b[39;00m \u001b[38;5;167;01mValueError\u001b[39;00m(\n\u001b[1;32m    398\u001b[0m             \u001b[38;5;124m\"\u001b[39m\u001b[38;5;124mMime type rendering requires nbformat>=4.2.0 but it is not installed\u001b[39m\u001b[38;5;124m\"\u001b[39m\n\u001b[1;32m    399\u001b[0m         )\n\u001b[1;32m    401\u001b[0m     ipython_display\u001b[38;5;241m.\u001b[39mdisplay(bundle, raw\u001b[38;5;241m=\u001b[39m\u001b[38;5;28;01mTrue\u001b[39;00m)\n\u001b[1;32m    403\u001b[0m \u001b[38;5;66;03m# external renderers\u001b[39;00m\n",
      "\u001b[0;31mValueError\u001b[0m: Mime type rendering requires nbformat>=4.2.0 but it is not installed"
     ]
    },
    {
     "output_type": "execute_result",
     "data": {
      "application/vnd.plotly.v1+json": {
       "data": [
        {
         "coloraxis": "coloraxis",
         "name": "0",
         "x": [
          "age",
          "sex",
          "cp",
          "trtbps",
          "chol",
          "fbs",
          "restecg",
          "thalachh",
          "exng",
          "oldpeak",
          "slp",
          "caa",
          "thall",
          "output"
         ],
         "y": [
          "age",
          "sex",
          "cp",
          "trtbps",
          "chol",
          "fbs",
          "restecg",
          "thalachh",
          "exng",
          "oldpeak",
          "slp",
          "caa",
          "thall",
          "output"
         ],
         "z": [
          [
           0.9999999999999992,
           -0.09844660247479399,
           -0.06865301584014492,
           0.27935090656128836,
           0.21367795655956182,
           0.12130764809337466,
           -0.11621089815852964,
           -0.3985219381210673,
           0.09680082645526772,
           0.21001256735867346,
           -0.16881423801209555,
           0.27632624401913897,
           0.0680013770546516,
           -0.22543871587483746
          ],
          [
           -0.09844660247479399,
           1.0000000000000053,
           -0.04935287534698945,
           -0.05676882396964329,
           -0.19791217414110698,
           0.04503178919356073,
           -0.05819626770375457,
           -0.044019907769574686,
           0.141663810991506,
           0.09609287706773877,
           -0.03071056730317237,
           0.11826141332035998,
           0.2100410956372075,
           -0.2809365755017679
          ],
          [
           -0.06865301584014492,
           -0.04935287534698945,
           1.0000000000000016,
           0.04760776064464854,
           -0.07690439103320773,
           0.09444403499533162,
           0.04442059251016387,
           0.2957621245879106,
           -0.3942802684950216,
           -0.14923015809708087,
           0.11971658853470624,
           -0.1810530260534954,
           -0.1617355705100222,
           0.43379826150689327
          ],
          [
           0.27935090656128836,
           -0.05676882396964329,
           0.04760776064464854,
           1.0000000000000002,
           0.12317420653239064,
           0.17753054193446002,
           -0.11410278639187016,
           -0.04669772814795433,
           0.06761611953876392,
           0.1932164724095367,
           -0.12147458192645014,
           0.10138898530055133,
           0.062209887630861486,
           -0.1449311284977516
          ],
          [
           0.21367795655956182,
           -0.19791217414110698,
           -0.07690439103320773,
           0.12317420653239064,
           1,
           0.013293602251671557,
           -0.15104007833751204,
           -0.009939838642698222,
           0.06702278257394266,
           0.05395191998699381,
           -0.0040377703696837216,
           0.07051092522607601,
           0.09880299250014489,
           -0.08523910513756904
          ],
          [
           0.12130764809337466,
           0.04503178919356073,
           0.09444403499533162,
           0.17753054193446002,
           0.013293602251671557,
           0.9999999999999976,
           -0.08418905443102676,
           -0.008567107343486842,
           0.025665147202126017,
           0.005747223459644281,
           -0.059894178290418,
           0.1379793270278514,
           -0.03201933931349762,
           -0.02804576027271281
          ],
          [
           -0.11621089815852964,
           -0.05819626770375457,
           0.04442059251016387,
           -0.11410278639187016,
           -0.15104007833751204,
           -0.08418905443102676,
           1.0000000000000007,
           0.04412344408543704,
           -0.07073285587236651,
           -0.05877022631983714,
           0.0930448209744819,
           -0.07204243324692992,
           -0.011981404599806306,
           0.13722950287377306
          ],
          [
           -0.3985219381210673,
           -0.044019907769574686,
           0.2957621245879106,
           -0.04669772814795433,
           -0.009939838642698222,
           -0.008567107343486842,
           0.04412344408543704,
           0.9999999999999992,
           -0.378812093851487,
           -0.34418694796671606,
           0.3867844098148191,
           -0.21317692811538974,
           -0.09643913165982132,
           0.4217409338106748
          ],
          [
           0.09680082645526772,
           0.141663810991506,
           -0.3942802684950216,
           0.06761611953876392,
           0.06702278257394266,
           0.025665147202126017,
           -0.07073285587236651,
           -0.378812093851487,
           1.0000000000000027,
           0.28822280778276543,
           -0.2577483685301662,
           0.1157393780705061,
           0.20675378773953834,
           -0.436757083353301
          ],
          [
           0.21001256735867346,
           0.09609287706773877,
           -0.14923015809708087,
           0.1932164724095367,
           0.05395191998699381,
           0.005747223459644281,
           -0.05877022631983714,
           -0.34418694796671606,
           0.28822280778276543,
           0.9999999999999989,
           -0.5775368167291408,
           0.22268232182782352,
           0.21024412598264872,
           -0.4306960016873686
          ],
          [
           -0.16881423801209555,
           -0.03071056730317237,
           0.11971658853470624,
           -0.12147458192645014,
           -0.0040377703696837216,
           -0.059894178290418,
           0.0930448209744819,
           0.3867844098148191,
           -0.2577483685301662,
           -0.5775368167291408,
           1.000000000000003,
           -0.08015521021463966,
           -0.10476379462149575,
           0.34587707824172353
          ],
          [
           0.27632624401913897,
           0.11826141332035998,
           -0.1810530260534954,
           0.10138898530055133,
           0.07051092522607601,
           0.1379793270278514,
           -0.07204243324692992,
           -0.21317692811538974,
           0.1157393780705061,
           0.22268232182782352,
           -0.08015521021463966,
           0.9999999999999998,
           0.15183212548208871,
           -0.3917239923512514
          ],
          [
           0.0680013770546516,
           0.2100410956372075,
           -0.1617355705100222,
           0.062209887630861486,
           0.09880299250014489,
           -0.03201933931349762,
           -0.011981404599806306,
           -0.09643913165982132,
           0.20675378773953834,
           0.21024412598264872,
           -0.10476379462149575,
           0.15183212548208871,
           1.000000000000001,
           -0.34402926803831063
          ],
          [
           -0.22543871587483746,
           -0.2809365755017679,
           0.43379826150689327,
           -0.1449311284977516,
           -0.08523910513756904,
           -0.02804576027271281,
           0.13722950287377306,
           0.4217409338106748,
           -0.436757083353301,
           -0.4306960016873686,
           0.34587707824172353,
           -0.3917239923512514,
           -0.34402926803831063,
           1.0000000000000042
          ]
         ],
         "type": "heatmap",
         "xaxis": "x",
         "yaxis": "y",
         "hovertemplate": "x: %{x}<br>y: %{y}<br>color: %{z}<extra></extra>"
        }
       ],
       "layout": {
        "template": {
         "data": {
          "bar": [
           {
            "error_x": {
             "color": "#2a3f5f"
            },
            "error_y": {
             "color": "#2a3f5f"
            },
            "marker": {
             "line": {
              "color": "#E5ECF6",
              "width": 0.5
             },
             "pattern": {
              "fillmode": "overlay",
              "size": 10,
              "solidity": 0.2
             }
            },
            "type": "bar"
           }
          ],
          "barpolar": [
           {
            "marker": {
             "line": {
              "color": "#E5ECF6",
              "width": 0.5
             },
             "pattern": {
              "fillmode": "overlay",
              "size": 10,
              "solidity": 0.2
             }
            },
            "type": "barpolar"
           }
          ],
          "carpet": [
           {
            "aaxis": {
             "endlinecolor": "#2a3f5f",
             "gridcolor": "white",
             "linecolor": "white",
             "minorgridcolor": "white",
             "startlinecolor": "#2a3f5f"
            },
            "baxis": {
             "endlinecolor": "#2a3f5f",
             "gridcolor": "white",
             "linecolor": "white",
             "minorgridcolor": "white",
             "startlinecolor": "#2a3f5f"
            },
            "type": "carpet"
           }
          ],
          "choropleth": [
           {
            "colorbar": {
             "outlinewidth": 0,
             "ticks": ""
            },
            "type": "choropleth"
           }
          ],
          "contour": [
           {
            "colorbar": {
             "outlinewidth": 0,
             "ticks": ""
            },
            "colorscale": [
             [
              0,
              "#0d0887"
             ],
             [
              0.1111111111111111,
              "#46039f"
             ],
             [
              0.2222222222222222,
              "#7201a8"
             ],
             [
              0.3333333333333333,
              "#9c179e"
             ],
             [
              0.4444444444444444,
              "#bd3786"
             ],
             [
              0.5555555555555556,
              "#d8576b"
             ],
             [
              0.6666666666666666,
              "#ed7953"
             ],
             [
              0.7777777777777778,
              "#fb9f3a"
             ],
             [
              0.8888888888888888,
              "#fdca26"
             ],
             [
              1,
              "#f0f921"
             ]
            ],
            "type": "contour"
           }
          ],
          "contourcarpet": [
           {
            "colorbar": {
             "outlinewidth": 0,
             "ticks": ""
            },
            "type": "contourcarpet"
           }
          ],
          "heatmap": [
           {
            "colorbar": {
             "outlinewidth": 0,
             "ticks": ""
            },
            "colorscale": [
             [
              0,
              "#0d0887"
             ],
             [
              0.1111111111111111,
              "#46039f"
             ],
             [
              0.2222222222222222,
              "#7201a8"
             ],
             [
              0.3333333333333333,
              "#9c179e"
             ],
             [
              0.4444444444444444,
              "#bd3786"
             ],
             [
              0.5555555555555556,
              "#d8576b"
             ],
             [
              0.6666666666666666,
              "#ed7953"
             ],
             [
              0.7777777777777778,
              "#fb9f3a"
             ],
             [
              0.8888888888888888,
              "#fdca26"
             ],
             [
              1,
              "#f0f921"
             ]
            ],
            "type": "heatmap"
           }
          ],
          "heatmapgl": [
           {
            "colorbar": {
             "outlinewidth": 0,
             "ticks": ""
            },
            "colorscale": [
             [
              0,
              "#0d0887"
             ],
             [
              0.1111111111111111,
              "#46039f"
             ],
             [
              0.2222222222222222,
              "#7201a8"
             ],
             [
              0.3333333333333333,
              "#9c179e"
             ],
             [
              0.4444444444444444,
              "#bd3786"
             ],
             [
              0.5555555555555556,
              "#d8576b"
             ],
             [
              0.6666666666666666,
              "#ed7953"
             ],
             [
              0.7777777777777778,
              "#fb9f3a"
             ],
             [
              0.8888888888888888,
              "#fdca26"
             ],
             [
              1,
              "#f0f921"
             ]
            ],
            "type": "heatmapgl"
           }
          ],
          "histogram": [
           {
            "marker": {
             "pattern": {
              "fillmode": "overlay",
              "size": 10,
              "solidity": 0.2
             }
            },
            "type": "histogram"
           }
          ],
          "histogram2d": [
           {
            "colorbar": {
             "outlinewidth": 0,
             "ticks": ""
            },
            "colorscale": [
             [
              0,
              "#0d0887"
             ],
             [
              0.1111111111111111,
              "#46039f"
             ],
             [
              0.2222222222222222,
              "#7201a8"
             ],
             [
              0.3333333333333333,
              "#9c179e"
             ],
             [
              0.4444444444444444,
              "#bd3786"
             ],
             [
              0.5555555555555556,
              "#d8576b"
             ],
             [
              0.6666666666666666,
              "#ed7953"
             ],
             [
              0.7777777777777778,
              "#fb9f3a"
             ],
             [
              0.8888888888888888,
              "#fdca26"
             ],
             [
              1,
              "#f0f921"
             ]
            ],
            "type": "histogram2d"
           }
          ],
          "histogram2dcontour": [
           {
            "colorbar": {
             "outlinewidth": 0,
             "ticks": ""
            },
            "colorscale": [
             [
              0,
              "#0d0887"
             ],
             [
              0.1111111111111111,
              "#46039f"
             ],
             [
              0.2222222222222222,
              "#7201a8"
             ],
             [
              0.3333333333333333,
              "#9c179e"
             ],
             [
              0.4444444444444444,
              "#bd3786"
             ],
             [
              0.5555555555555556,
              "#d8576b"
             ],
             [
              0.6666666666666666,
              "#ed7953"
             ],
             [
              0.7777777777777778,
              "#fb9f3a"
             ],
             [
              0.8888888888888888,
              "#fdca26"
             ],
             [
              1,
              "#f0f921"
             ]
            ],
            "type": "histogram2dcontour"
           }
          ],
          "mesh3d": [
           {
            "colorbar": {
             "outlinewidth": 0,
             "ticks": ""
            },
            "type": "mesh3d"
           }
          ],
          "parcoords": [
           {
            "line": {
             "colorbar": {
              "outlinewidth": 0,
              "ticks": ""
             }
            },
            "type": "parcoords"
           }
          ],
          "pie": [
           {
            "automargin": true,
            "type": "pie"
           }
          ],
          "scatter": [
           {
            "marker": {
             "colorbar": {
              "outlinewidth": 0,
              "ticks": ""
             }
            },
            "type": "scatter"
           }
          ],
          "scatter3d": [
           {
            "line": {
             "colorbar": {
              "outlinewidth": 0,
              "ticks": ""
             }
            },
            "marker": {
             "colorbar": {
              "outlinewidth": 0,
              "ticks": ""
             }
            },
            "type": "scatter3d"
           }
          ],
          "scattercarpet": [
           {
            "marker": {
             "colorbar": {
              "outlinewidth": 0,
              "ticks": ""
             }
            },
            "type": "scattercarpet"
           }
          ],
          "scattergeo": [
           {
            "marker": {
             "colorbar": {
              "outlinewidth": 0,
              "ticks": ""
             }
            },
            "type": "scattergeo"
           }
          ],
          "scattergl": [
           {
            "marker": {
             "colorbar": {
              "outlinewidth": 0,
              "ticks": ""
             }
            },
            "type": "scattergl"
           }
          ],
          "scattermapbox": [
           {
            "marker": {
             "colorbar": {
              "outlinewidth": 0,
              "ticks": ""
             }
            },
            "type": "scattermapbox"
           }
          ],
          "scatterpolar": [
           {
            "marker": {
             "colorbar": {
              "outlinewidth": 0,
              "ticks": ""
             }
            },
            "type": "scatterpolar"
           }
          ],
          "scatterpolargl": [
           {
            "marker": {
             "colorbar": {
              "outlinewidth": 0,
              "ticks": ""
             }
            },
            "type": "scatterpolargl"
           }
          ],
          "scatterternary": [
           {
            "marker": {
             "colorbar": {
              "outlinewidth": 0,
              "ticks": ""
             }
            },
            "type": "scatterternary"
           }
          ],
          "surface": [
           {
            "colorbar": {
             "outlinewidth": 0,
             "ticks": ""
            },
            "colorscale": [
             [
              0,
              "#0d0887"
             ],
             [
              0.1111111111111111,
              "#46039f"
             ],
             [
              0.2222222222222222,
              "#7201a8"
             ],
             [
              0.3333333333333333,
              "#9c179e"
             ],
             [
              0.4444444444444444,
              "#bd3786"
             ],
             [
              0.5555555555555556,
              "#d8576b"
             ],
             [
              0.6666666666666666,
              "#ed7953"
             ],
             [
              0.7777777777777778,
              "#fb9f3a"
             ],
             [
              0.8888888888888888,
              "#fdca26"
             ],
             [
              1,
              "#f0f921"
             ]
            ],
            "type": "surface"
           }
          ],
          "table": [
           {
            "cells": {
             "fill": {
              "color": "#EBF0F8"
             },
             "line": {
              "color": "white"
             }
            },
            "header": {
             "fill": {
              "color": "#C8D4E3"
             },
             "line": {
              "color": "white"
             }
            },
            "type": "table"
           }
          ]
         },
         "layout": {
          "annotationdefaults": {
           "arrowcolor": "#2a3f5f",
           "arrowhead": 0,
           "arrowwidth": 1
          },
          "autotypenumbers": "strict",
          "coloraxis": {
           "colorbar": {
            "outlinewidth": 0,
            "ticks": ""
           }
          },
          "colorscale": {
           "diverging": [
            [
             0,
             "#8e0152"
            ],
            [
             0.1,
             "#c51b7d"
            ],
            [
             0.2,
             "#de77ae"
            ],
            [
             0.3,
             "#f1b6da"
            ],
            [
             0.4,
             "#fde0ef"
            ],
            [
             0.5,
             "#f7f7f7"
            ],
            [
             0.6,
             "#e6f5d0"
            ],
            [
             0.7,
             "#b8e186"
            ],
            [
             0.8,
             "#7fbc41"
            ],
            [
             0.9,
             "#4d9221"
            ],
            [
             1,
             "#276419"
            ]
           ],
           "sequential": [
            [
             0,
             "#0d0887"
            ],
            [
             0.1111111111111111,
             "#46039f"
            ],
            [
             0.2222222222222222,
             "#7201a8"
            ],
            [
             0.3333333333333333,
             "#9c179e"
            ],
            [
             0.4444444444444444,
             "#bd3786"
            ],
            [
             0.5555555555555556,
             "#d8576b"
            ],
            [
             0.6666666666666666,
             "#ed7953"
            ],
            [
             0.7777777777777778,
             "#fb9f3a"
            ],
            [
             0.8888888888888888,
             "#fdca26"
            ],
            [
             1,
             "#f0f921"
            ]
           ],
           "sequentialminus": [
            [
             0,
             "#0d0887"
            ],
            [
             0.1111111111111111,
             "#46039f"
            ],
            [
             0.2222222222222222,
             "#7201a8"
            ],
            [
             0.3333333333333333,
             "#9c179e"
            ],
            [
             0.4444444444444444,
             "#bd3786"
            ],
            [
             0.5555555555555556,
             "#d8576b"
            ],
            [
             0.6666666666666666,
             "#ed7953"
            ],
            [
             0.7777777777777778,
             "#fb9f3a"
            ],
            [
             0.8888888888888888,
             "#fdca26"
            ],
            [
             1,
             "#f0f921"
            ]
           ]
          },
          "colorway": [
           "#636efa",
           "#EF553B",
           "#00cc96",
           "#ab63fa",
           "#FFA15A",
           "#19d3f3",
           "#FF6692",
           "#B6E880",
           "#FF97FF",
           "#FECB52"
          ],
          "font": {
           "color": "#2a3f5f"
          },
          "geo": {
           "bgcolor": "white",
           "lakecolor": "white",
           "landcolor": "#E5ECF6",
           "showlakes": true,
           "showland": true,
           "subunitcolor": "white"
          },
          "hoverlabel": {
           "align": "left"
          },
          "hovermode": "closest",
          "mapbox": {
           "style": "light"
          },
          "paper_bgcolor": "white",
          "plot_bgcolor": "#E5ECF6",
          "polar": {
           "angularaxis": {
            "gridcolor": "white",
            "linecolor": "white",
            "ticks": ""
           },
           "bgcolor": "#E5ECF6",
           "radialaxis": {
            "gridcolor": "white",
            "linecolor": "white",
            "ticks": ""
           }
          },
          "scene": {
           "xaxis": {
            "backgroundcolor": "#E5ECF6",
            "gridcolor": "white",
            "gridwidth": 2,
            "linecolor": "white",
            "showbackground": true,
            "ticks": "",
            "zerolinecolor": "white"
           },
           "yaxis": {
            "backgroundcolor": "#E5ECF6",
            "gridcolor": "white",
            "gridwidth": 2,
            "linecolor": "white",
            "showbackground": true,
            "ticks": "",
            "zerolinecolor": "white"
           },
           "zaxis": {
            "backgroundcolor": "#E5ECF6",
            "gridcolor": "white",
            "gridwidth": 2,
            "linecolor": "white",
            "showbackground": true,
            "ticks": "",
            "zerolinecolor": "white"
           }
          },
          "shapedefaults": {
           "line": {
            "color": "#2a3f5f"
           }
          },
          "ternary": {
           "aaxis": {
            "gridcolor": "white",
            "linecolor": "white",
            "ticks": ""
           },
           "baxis": {
            "gridcolor": "white",
            "linecolor": "white",
            "ticks": ""
           },
           "bgcolor": "#E5ECF6",
           "caxis": {
            "gridcolor": "white",
            "linecolor": "white",
            "ticks": ""
           }
          },
          "title": {
           "x": 0.05
          },
          "xaxis": {
           "automargin": true,
           "gridcolor": "white",
           "linecolor": "white",
           "ticks": "",
           "title": {
            "standoff": 15
           },
           "zerolinecolor": "white",
           "zerolinewidth": 2
          },
          "yaxis": {
           "automargin": true,
           "gridcolor": "white",
           "linecolor": "white",
           "ticks": "",
           "title": {
            "standoff": 15
           },
           "zerolinecolor": "white",
           "zerolinewidth": 2
          }
         }
        },
        "xaxis": {
         "anchor": "y",
         "domain": [
          0,
          1
         ],
         "scaleanchor": "y",
         "constrain": "domain"
        },
        "yaxis": {
         "anchor": "x",
         "domain": [
          0,
          1
         ],
         "autorange": "reversed",
         "constrain": "domain"
        },
        "coloraxis": {
         "colorscale": [
          [
           0,
           "#0d0887"
          ],
          [
           0.1111111111111111,
           "#46039f"
          ],
          [
           0.2222222222222222,
           "#7201a8"
          ],
          [
           0.3333333333333333,
           "#9c179e"
          ],
          [
           0.4444444444444444,
           "#bd3786"
          ],
          [
           0.5555555555555556,
           "#d8576b"
          ],
          [
           0.6666666666666666,
           "#ed7953"
          ],
          [
           0.7777777777777778,
           "#fb9f3a"
          ],
          [
           0.8888888888888888,
           "#fdca26"
          ],
          [
           1,
           "#f0f921"
          ]
         ]
        },
        "margin": {
         "t": 60
        }
       },
       "config": {
        "plotlyServerURL": "https://plot.ly"
       }
      },
      "text/html": [
       "<div>                        <script type=\"text/javascript\">window.PlotlyConfig = {MathJaxConfig: 'local'};</script>\n",
       "        <script src=\"https://cdn.plot.ly/plotly-2.8.3.min.js\"></script>                <div id=\"1cc4415a-1c45-41db-a4f8-9b0fa48a61fc\" class=\"plotly-graph-div\" style=\"height:100%; width:100%;\"></div>            <script type=\"text/javascript\">                                    window.PLOTLYENV=window.PLOTLYENV || {};                                    if (document.getElementById(\"1cc4415a-1c45-41db-a4f8-9b0fa48a61fc\")) {                    Plotly.newPlot(                        \"1cc4415a-1c45-41db-a4f8-9b0fa48a61fc\",                        [{\"coloraxis\":\"coloraxis\",\"name\":\"0\",\"x\":[\"age\",\"sex\",\"cp\",\"trtbps\",\"chol\",\"fbs\",\"restecg\",\"thalachh\",\"exng\",\"oldpeak\",\"slp\",\"caa\",\"thall\",\"output\"],\"y\":[\"age\",\"sex\",\"cp\",\"trtbps\",\"chol\",\"fbs\",\"restecg\",\"thalachh\",\"exng\",\"oldpeak\",\"slp\",\"caa\",\"thall\",\"output\"],\"z\":[[0.9999999999999992,-0.09844660247479399,-0.06865301584014492,0.27935090656128836,0.21367795655956182,0.12130764809337466,-0.11621089815852964,-0.3985219381210673,0.09680082645526772,0.21001256735867346,-0.16881423801209555,0.27632624401913897,0.0680013770546516,-0.22543871587483746],[-0.09844660247479399,1.0000000000000053,-0.04935287534698945,-0.05676882396964329,-0.19791217414110698,0.04503178919356073,-0.05819626770375457,-0.044019907769574686,0.141663810991506,0.09609287706773877,-0.03071056730317237,0.11826141332035998,0.2100410956372075,-0.2809365755017679],[-0.06865301584014492,-0.04935287534698945,1.0000000000000016,0.04760776064464854,-0.07690439103320773,0.09444403499533162,0.04442059251016387,0.2957621245879106,-0.3942802684950216,-0.14923015809708087,0.11971658853470624,-0.1810530260534954,-0.1617355705100222,0.43379826150689327],[0.27935090656128836,-0.05676882396964329,0.04760776064464854,1.0000000000000002,0.12317420653239064,0.17753054193446002,-0.11410278639187016,-0.04669772814795433,0.06761611953876392,0.1932164724095367,-0.12147458192645014,0.10138898530055133,0.062209887630861486,-0.1449311284977516],[0.21367795655956182,-0.19791217414110698,-0.07690439103320773,0.12317420653239064,1.0,0.013293602251671557,-0.15104007833751204,-0.009939838642698222,0.06702278257394266,0.05395191998699381,-0.0040377703696837216,0.07051092522607601,0.09880299250014489,-0.08523910513756904],[0.12130764809337466,0.04503178919356073,0.09444403499533162,0.17753054193446002,0.013293602251671557,0.9999999999999976,-0.08418905443102676,-0.008567107343486842,0.025665147202126017,0.005747223459644281,-0.059894178290418,0.1379793270278514,-0.03201933931349762,-0.02804576027271281],[-0.11621089815852964,-0.05819626770375457,0.04442059251016387,-0.11410278639187016,-0.15104007833751204,-0.08418905443102676,1.0000000000000007,0.04412344408543704,-0.07073285587236651,-0.05877022631983714,0.0930448209744819,-0.07204243324692992,-0.011981404599806306,0.13722950287377306],[-0.3985219381210673,-0.044019907769574686,0.2957621245879106,-0.04669772814795433,-0.009939838642698222,-0.008567107343486842,0.04412344408543704,0.9999999999999992,-0.378812093851487,-0.34418694796671606,0.3867844098148191,-0.21317692811538974,-0.09643913165982132,0.4217409338106748],[0.09680082645526772,0.141663810991506,-0.3942802684950216,0.06761611953876392,0.06702278257394266,0.025665147202126017,-0.07073285587236651,-0.378812093851487,1.0000000000000027,0.28822280778276543,-0.2577483685301662,0.1157393780705061,0.20675378773953834,-0.436757083353301],[0.21001256735867346,0.09609287706773877,-0.14923015809708087,0.1932164724095367,0.05395191998699381,0.005747223459644281,-0.05877022631983714,-0.34418694796671606,0.28822280778276543,0.9999999999999989,-0.5775368167291408,0.22268232182782352,0.21024412598264872,-0.4306960016873686],[-0.16881423801209555,-0.03071056730317237,0.11971658853470624,-0.12147458192645014,-0.0040377703696837216,-0.059894178290418,0.0930448209744819,0.3867844098148191,-0.2577483685301662,-0.5775368167291408,1.000000000000003,-0.08015521021463966,-0.10476379462149575,0.34587707824172353],[0.27632624401913897,0.11826141332035998,-0.1810530260534954,0.10138898530055133,0.07051092522607601,0.1379793270278514,-0.07204243324692992,-0.21317692811538974,0.1157393780705061,0.22268232182782352,-0.08015521021463966,0.9999999999999998,0.15183212548208871,-0.3917239923512514],[0.0680013770546516,0.2100410956372075,-0.1617355705100222,0.062209887630861486,0.09880299250014489,-0.03201933931349762,-0.011981404599806306,-0.09643913165982132,0.20675378773953834,0.21024412598264872,-0.10476379462149575,0.15183212548208871,1.000000000000001,-0.34402926803831063],[-0.22543871587483746,-0.2809365755017679,0.43379826150689327,-0.1449311284977516,-0.08523910513756904,-0.02804576027271281,0.13722950287377306,0.4217409338106748,-0.436757083353301,-0.4306960016873686,0.34587707824172353,-0.3917239923512514,-0.34402926803831063,1.0000000000000042]],\"type\":\"heatmap\",\"xaxis\":\"x\",\"yaxis\":\"y\",\"hovertemplate\":\"x: %{x}<br>y: %{y}<br>color: %{z}<extra></extra>\"}],                        {\"template\":{\"data\":{\"bar\":[{\"error_x\":{\"color\":\"#2a3f5f\"},\"error_y\":{\"color\":\"#2a3f5f\"},\"marker\":{\"line\":{\"color\":\"#E5ECF6\",\"width\":0.5},\"pattern\":{\"fillmode\":\"overlay\",\"size\":10,\"solidity\":0.2}},\"type\":\"bar\"}],\"barpolar\":[{\"marker\":{\"line\":{\"color\":\"#E5ECF6\",\"width\":0.5},\"pattern\":{\"fillmode\":\"overlay\",\"size\":10,\"solidity\":0.2}},\"type\":\"barpolar\"}],\"carpet\":[{\"aaxis\":{\"endlinecolor\":\"#2a3f5f\",\"gridcolor\":\"white\",\"linecolor\":\"white\",\"minorgridcolor\":\"white\",\"startlinecolor\":\"#2a3f5f\"},\"baxis\":{\"endlinecolor\":\"#2a3f5f\",\"gridcolor\":\"white\",\"linecolor\":\"white\",\"minorgridcolor\":\"white\",\"startlinecolor\":\"#2a3f5f\"},\"type\":\"carpet\"}],\"choropleth\":[{\"colorbar\":{\"outlinewidth\":0,\"ticks\":\"\"},\"type\":\"choropleth\"}],\"contour\":[{\"colorbar\":{\"outlinewidth\":0,\"ticks\":\"\"},\"colorscale\":[[0.0,\"#0d0887\"],[0.1111111111111111,\"#46039f\"],[0.2222222222222222,\"#7201a8\"],[0.3333333333333333,\"#9c179e\"],[0.4444444444444444,\"#bd3786\"],[0.5555555555555556,\"#d8576b\"],[0.6666666666666666,\"#ed7953\"],[0.7777777777777778,\"#fb9f3a\"],[0.8888888888888888,\"#fdca26\"],[1.0,\"#f0f921\"]],\"type\":\"contour\"}],\"contourcarpet\":[{\"colorbar\":{\"outlinewidth\":0,\"ticks\":\"\"},\"type\":\"contourcarpet\"}],\"heatmap\":[{\"colorbar\":{\"outlinewidth\":0,\"ticks\":\"\"},\"colorscale\":[[0.0,\"#0d0887\"],[0.1111111111111111,\"#46039f\"],[0.2222222222222222,\"#7201a8\"],[0.3333333333333333,\"#9c179e\"],[0.4444444444444444,\"#bd3786\"],[0.5555555555555556,\"#d8576b\"],[0.6666666666666666,\"#ed7953\"],[0.7777777777777778,\"#fb9f3a\"],[0.8888888888888888,\"#fdca26\"],[1.0,\"#f0f921\"]],\"type\":\"heatmap\"}],\"heatmapgl\":[{\"colorbar\":{\"outlinewidth\":0,\"ticks\":\"\"},\"colorscale\":[[0.0,\"#0d0887\"],[0.1111111111111111,\"#46039f\"],[0.2222222222222222,\"#7201a8\"],[0.3333333333333333,\"#9c179e\"],[0.4444444444444444,\"#bd3786\"],[0.5555555555555556,\"#d8576b\"],[0.6666666666666666,\"#ed7953\"],[0.7777777777777778,\"#fb9f3a\"],[0.8888888888888888,\"#fdca26\"],[1.0,\"#f0f921\"]],\"type\":\"heatmapgl\"}],\"histogram\":[{\"marker\":{\"pattern\":{\"fillmode\":\"overlay\",\"size\":10,\"solidity\":0.2}},\"type\":\"histogram\"}],\"histogram2d\":[{\"colorbar\":{\"outlinewidth\":0,\"ticks\":\"\"},\"colorscale\":[[0.0,\"#0d0887\"],[0.1111111111111111,\"#46039f\"],[0.2222222222222222,\"#7201a8\"],[0.3333333333333333,\"#9c179e\"],[0.4444444444444444,\"#bd3786\"],[0.5555555555555556,\"#d8576b\"],[0.6666666666666666,\"#ed7953\"],[0.7777777777777778,\"#fb9f3a\"],[0.8888888888888888,\"#fdca26\"],[1.0,\"#f0f921\"]],\"type\":\"histogram2d\"}],\"histogram2dcontour\":[{\"colorbar\":{\"outlinewidth\":0,\"ticks\":\"\"},\"colorscale\":[[0.0,\"#0d0887\"],[0.1111111111111111,\"#46039f\"],[0.2222222222222222,\"#7201a8\"],[0.3333333333333333,\"#9c179e\"],[0.4444444444444444,\"#bd3786\"],[0.5555555555555556,\"#d8576b\"],[0.6666666666666666,\"#ed7953\"],[0.7777777777777778,\"#fb9f3a\"],[0.8888888888888888,\"#fdca26\"],[1.0,\"#f0f921\"]],\"type\":\"histogram2dcontour\"}],\"mesh3d\":[{\"colorbar\":{\"outlinewidth\":0,\"ticks\":\"\"},\"type\":\"mesh3d\"}],\"parcoords\":[{\"line\":{\"colorbar\":{\"outlinewidth\":0,\"ticks\":\"\"}},\"type\":\"parcoords\"}],\"pie\":[{\"automargin\":true,\"type\":\"pie\"}],\"scatter\":[{\"marker\":{\"colorbar\":{\"outlinewidth\":0,\"ticks\":\"\"}},\"type\":\"scatter\"}],\"scatter3d\":[{\"line\":{\"colorbar\":{\"outlinewidth\":0,\"ticks\":\"\"}},\"marker\":{\"colorbar\":{\"outlinewidth\":0,\"ticks\":\"\"}},\"type\":\"scatter3d\"}],\"scattercarpet\":[{\"marker\":{\"colorbar\":{\"outlinewidth\":0,\"ticks\":\"\"}},\"type\":\"scattercarpet\"}],\"scattergeo\":[{\"marker\":{\"colorbar\":{\"outlinewidth\":0,\"ticks\":\"\"}},\"type\":\"scattergeo\"}],\"scattergl\":[{\"marker\":{\"colorbar\":{\"outlinewidth\":0,\"ticks\":\"\"}},\"type\":\"scattergl\"}],\"scattermapbox\":[{\"marker\":{\"colorbar\":{\"outlinewidth\":0,\"ticks\":\"\"}},\"type\":\"scattermapbox\"}],\"scatterpolar\":[{\"marker\":{\"colorbar\":{\"outlinewidth\":0,\"ticks\":\"\"}},\"type\":\"scatterpolar\"}],\"scatterpolargl\":[{\"marker\":{\"colorbar\":{\"outlinewidth\":0,\"ticks\":\"\"}},\"type\":\"scatterpolargl\"}],\"scatterternary\":[{\"marker\":{\"colorbar\":{\"outlinewidth\":0,\"ticks\":\"\"}},\"type\":\"scatterternary\"}],\"surface\":[{\"colorbar\":{\"outlinewidth\":0,\"ticks\":\"\"},\"colorscale\":[[0.0,\"#0d0887\"],[0.1111111111111111,\"#46039f\"],[0.2222222222222222,\"#7201a8\"],[0.3333333333333333,\"#9c179e\"],[0.4444444444444444,\"#bd3786\"],[0.5555555555555556,\"#d8576b\"],[0.6666666666666666,\"#ed7953\"],[0.7777777777777778,\"#fb9f3a\"],[0.8888888888888888,\"#fdca26\"],[1.0,\"#f0f921\"]],\"type\":\"surface\"}],\"table\":[{\"cells\":{\"fill\":{\"color\":\"#EBF0F8\"},\"line\":{\"color\":\"white\"}},\"header\":{\"fill\":{\"color\":\"#C8D4E3\"},\"line\":{\"color\":\"white\"}},\"type\":\"table\"}]},\"layout\":{\"annotationdefaults\":{\"arrowcolor\":\"#2a3f5f\",\"arrowhead\":0,\"arrowwidth\":1},\"autotypenumbers\":\"strict\",\"coloraxis\":{\"colorbar\":{\"outlinewidth\":0,\"ticks\":\"\"}},\"colorscale\":{\"diverging\":[[0,\"#8e0152\"],[0.1,\"#c51b7d\"],[0.2,\"#de77ae\"],[0.3,\"#f1b6da\"],[0.4,\"#fde0ef\"],[0.5,\"#f7f7f7\"],[0.6,\"#e6f5d0\"],[0.7,\"#b8e186\"],[0.8,\"#7fbc41\"],[0.9,\"#4d9221\"],[1,\"#276419\"]],\"sequential\":[[0.0,\"#0d0887\"],[0.1111111111111111,\"#46039f\"],[0.2222222222222222,\"#7201a8\"],[0.3333333333333333,\"#9c179e\"],[0.4444444444444444,\"#bd3786\"],[0.5555555555555556,\"#d8576b\"],[0.6666666666666666,\"#ed7953\"],[0.7777777777777778,\"#fb9f3a\"],[0.8888888888888888,\"#fdca26\"],[1.0,\"#f0f921\"]],\"sequentialminus\":[[0.0,\"#0d0887\"],[0.1111111111111111,\"#46039f\"],[0.2222222222222222,\"#7201a8\"],[0.3333333333333333,\"#9c179e\"],[0.4444444444444444,\"#bd3786\"],[0.5555555555555556,\"#d8576b\"],[0.6666666666666666,\"#ed7953\"],[0.7777777777777778,\"#fb9f3a\"],[0.8888888888888888,\"#fdca26\"],[1.0,\"#f0f921\"]]},\"colorway\":[\"#636efa\",\"#EF553B\",\"#00cc96\",\"#ab63fa\",\"#FFA15A\",\"#19d3f3\",\"#FF6692\",\"#B6E880\",\"#FF97FF\",\"#FECB52\"],\"font\":{\"color\":\"#2a3f5f\"},\"geo\":{\"bgcolor\":\"white\",\"lakecolor\":\"white\",\"landcolor\":\"#E5ECF6\",\"showlakes\":true,\"showland\":true,\"subunitcolor\":\"white\"},\"hoverlabel\":{\"align\":\"left\"},\"hovermode\":\"closest\",\"mapbox\":{\"style\":\"light\"},\"paper_bgcolor\":\"white\",\"plot_bgcolor\":\"#E5ECF6\",\"polar\":{\"angularaxis\":{\"gridcolor\":\"white\",\"linecolor\":\"white\",\"ticks\":\"\"},\"bgcolor\":\"#E5ECF6\",\"radialaxis\":{\"gridcolor\":\"white\",\"linecolor\":\"white\",\"ticks\":\"\"}},\"scene\":{\"xaxis\":{\"backgroundcolor\":\"#E5ECF6\",\"gridcolor\":\"white\",\"gridwidth\":2,\"linecolor\":\"white\",\"showbackground\":true,\"ticks\":\"\",\"zerolinecolor\":\"white\"},\"yaxis\":{\"backgroundcolor\":\"#E5ECF6\",\"gridcolor\":\"white\",\"gridwidth\":2,\"linecolor\":\"white\",\"showbackground\":true,\"ticks\":\"\",\"zerolinecolor\":\"white\"},\"zaxis\":{\"backgroundcolor\":\"#E5ECF6\",\"gridcolor\":\"white\",\"gridwidth\":2,\"linecolor\":\"white\",\"showbackground\":true,\"ticks\":\"\",\"zerolinecolor\":\"white\"}},\"shapedefaults\":{\"line\":{\"color\":\"#2a3f5f\"}},\"ternary\":{\"aaxis\":{\"gridcolor\":\"white\",\"linecolor\":\"white\",\"ticks\":\"\"},\"baxis\":{\"gridcolor\":\"white\",\"linecolor\":\"white\",\"ticks\":\"\"},\"bgcolor\":\"#E5ECF6\",\"caxis\":{\"gridcolor\":\"white\",\"linecolor\":\"white\",\"ticks\":\"\"}},\"title\":{\"x\":0.05},\"xaxis\":{\"automargin\":true,\"gridcolor\":\"white\",\"linecolor\":\"white\",\"ticks\":\"\",\"title\":{\"standoff\":15},\"zerolinecolor\":\"white\",\"zerolinewidth\":2},\"yaxis\":{\"automargin\":true,\"gridcolor\":\"white\",\"linecolor\":\"white\",\"ticks\":\"\",\"title\":{\"standoff\":15},\"zerolinecolor\":\"white\",\"zerolinewidth\":2}}},\"xaxis\":{\"anchor\":\"y\",\"domain\":[0.0,1.0],\"scaleanchor\":\"y\",\"constrain\":\"domain\"},\"yaxis\":{\"anchor\":\"x\",\"domain\":[0.0,1.0],\"autorange\":\"reversed\",\"constrain\":\"domain\"},\"coloraxis\":{\"colorscale\":[[0.0,\"#0d0887\"],[0.1111111111111111,\"#46039f\"],[0.2222222222222222,\"#7201a8\"],[0.3333333333333333,\"#9c179e\"],[0.4444444444444444,\"#bd3786\"],[0.5555555555555556,\"#d8576b\"],[0.6666666666666666,\"#ed7953\"],[0.7777777777777778,\"#fb9f3a\"],[0.8888888888888888,\"#fdca26\"],[1.0,\"#f0f921\"]]},\"margin\":{\"t\":60}},                        {\"responsive\": true}                    )                };                            </script>        </div>"
      ],
      "text/plain": [
       "Figure({\n",
       "    'data': [{'coloraxis': 'coloraxis',\n",
       "              'hovertemplate': 'x: %{x}<br>y: %{y}<br>color: %{z}<extra></extra>',\n",
       "              'name': '0',\n",
       "              'type': 'heatmap',\n",
       "              'x': array(['age', 'sex', 'cp', 'trtbps', 'chol', 'fbs', 'restecg', 'thalachh',\n",
       "                          'exng', 'oldpeak', 'slp', 'caa', 'thall', 'output'], dtype=object),\n",
       "              'xaxis': 'x',\n",
       "              'y': array(['age', 'sex', 'cp', 'trtbps', 'chol', 'fbs', 'restecg', 'thalachh',\n",
       "                          'exng', 'oldpeak', 'slp', 'caa', 'thall', 'output'], dtype=object),\n",
       "              'yaxis': 'y',\n",
       "              'z': array([[ 1.        , -0.0984466 , -0.06865302,  0.27935091,  0.21367796,\n",
       "                            0.12130765, -0.1162109 , -0.39852194,  0.09680083,  0.21001257,\n",
       "                           -0.16881424,  0.27632624,  0.06800138, -0.22543872],\n",
       "                          [-0.0984466 ,  1.        , -0.04935288, -0.05676882, -0.19791217,\n",
       "                            0.04503179, -0.05819627, -0.04401991,  0.14166381,  0.09609288,\n",
       "                           -0.03071057,  0.11826141,  0.2100411 , -0.28093658],\n",
       "                          [-0.06865302, -0.04935288,  1.        ,  0.04760776, -0.07690439,\n",
       "                            0.09444403,  0.04442059,  0.29576212, -0.39428027, -0.14923016,\n",
       "                            0.11971659, -0.18105303, -0.16173557,  0.43379826],\n",
       "                          [ 0.27935091, -0.05676882,  0.04760776,  1.        ,  0.12317421,\n",
       "                            0.17753054, -0.11410279, -0.04669773,  0.06761612,  0.19321647,\n",
       "                           -0.12147458,  0.10138899,  0.06220989, -0.14493113],\n",
       "                          [ 0.21367796, -0.19791217, -0.07690439,  0.12317421,  1.        ,\n",
       "                            0.0132936 , -0.15104008, -0.00993984,  0.06702278,  0.05395192,\n",
       "                           -0.00403777,  0.07051093,  0.09880299, -0.08523911],\n",
       "                          [ 0.12130765,  0.04503179,  0.09444403,  0.17753054,  0.0132936 ,\n",
       "                            1.        , -0.08418905, -0.00856711,  0.02566515,  0.00574722,\n",
       "                           -0.05989418,  0.13797933, -0.03201934, -0.02804576],\n",
       "                          [-0.1162109 , -0.05819627,  0.04442059, -0.11410279, -0.15104008,\n",
       "                           -0.08418905,  1.        ,  0.04412344, -0.07073286, -0.05877023,\n",
       "                            0.09304482, -0.07204243, -0.0119814 ,  0.1372295 ],\n",
       "                          [-0.39852194, -0.04401991,  0.29576212, -0.04669773, -0.00993984,\n",
       "                           -0.00856711,  0.04412344,  1.        , -0.37881209, -0.34418695,\n",
       "                            0.38678441, -0.21317693, -0.09643913,  0.42174093],\n",
       "                          [ 0.09680083,  0.14166381, -0.39428027,  0.06761612,  0.06702278,\n",
       "                            0.02566515, -0.07073286, -0.37881209,  1.        ,  0.28822281,\n",
       "                           -0.25774837,  0.11573938,  0.20675379, -0.43675708],\n",
       "                          [ 0.21001257,  0.09609288, -0.14923016,  0.19321647,  0.05395192,\n",
       "                            0.00574722, -0.05877023, -0.34418695,  0.28822281,  1.        ,\n",
       "                           -0.57753682,  0.22268232,  0.21024413, -0.430696  ],\n",
       "                          [-0.16881424, -0.03071057,  0.11971659, -0.12147458, -0.00403777,\n",
       "                           -0.05989418,  0.09304482,  0.38678441, -0.25774837, -0.57753682,\n",
       "                            1.        , -0.08015521, -0.10476379,  0.34587708],\n",
       "                          [ 0.27632624,  0.11826141, -0.18105303,  0.10138899,  0.07051093,\n",
       "                            0.13797933, -0.07204243, -0.21317693,  0.11573938,  0.22268232,\n",
       "                           -0.08015521,  1.        ,  0.15183213, -0.39172399],\n",
       "                          [ 0.06800138,  0.2100411 , -0.16173557,  0.06220989,  0.09880299,\n",
       "                           -0.03201934, -0.0119814 , -0.09643913,  0.20675379,  0.21024413,\n",
       "                           -0.10476379,  0.15183213,  1.        , -0.34402927],\n",
       "                          [-0.22543872, -0.28093658,  0.43379826, -0.14493113, -0.08523911,\n",
       "                           -0.02804576,  0.1372295 ,  0.42174093, -0.43675708, -0.430696  ,\n",
       "                            0.34587708, -0.39172399, -0.34402927,  1.        ]])}],\n",
       "    'layout': {'coloraxis': {'colorscale': [[0.0, '#0d0887'], [0.1111111111111111,\n",
       "                                            '#46039f'], [0.2222222222222222,\n",
       "                                            '#7201a8'], [0.3333333333333333,\n",
       "                                            '#9c179e'], [0.4444444444444444,\n",
       "                                            '#bd3786'], [0.5555555555555556,\n",
       "                                            '#d8576b'], [0.6666666666666666,\n",
       "                                            '#ed7953'], [0.7777777777777778,\n",
       "                                            '#fb9f3a'], [0.8888888888888888,\n",
       "                                            '#fdca26'], [1.0, '#f0f921']]},\n",
       "               'margin': {'t': 60},\n",
       "               'template': '...',\n",
       "               'xaxis': {'anchor': 'y', 'constrain': 'domain', 'domain': [0.0, 1.0], 'scaleanchor': 'y'},\n",
       "               'yaxis': {'anchor': 'x', 'autorange': 'reversed', 'constrain': 'domain', 'domain': [0.0, 1.0]}}\n",
       "})"
      ]
     },
     "metadata": {},
     "execution_count": 24
    }
   ],
   "metadata": {}
  },
  {
   "cell_type": "markdown",
   "source": [
    "# 5 Machine Learning (\"AI\") in a Nutshell\n",
    "---\n",
    "Machine Learning und AI ist ein aktuelles Thema und wird in verschiedenen technischen Bereichen eingesetzt, so auch im Gesundheitsbereich. Oft wird dabeim diffusen Begriffen wie \"deeplearning\", \"ai\", \"general artifical intelligence\" oder \"machine learning\" verwendet. Dabei wird oft menschen ähnliche Intelligenz suggeriert wo gar keine ist!\n",
    "\n",
    "Dieses Kapitel soll auf einfache weise das erstellen einer \"AI\" aufzeigen. Dabei spielen heute besonders grossen Datenmengen eine Rolle da diese es erlauben Iterative statistische Methoden zu \"trainieren\" ohne das man manuell Parameter einstellen muss. Um dies zu erreichen geht man immer nach dem gleichen Prinzip vor welches in der folgenden Grafik aufgzeigt ist:\n",
    "\n",
    "<img src='https://python.casa/assets/img/topic8_ml_procedure.jpg' width=\"650\" height=\"300\">\n"
   ],
   "metadata": {}
  },
  {
   "cell_type": "markdown",
   "source": [
    "### Pyhton Paket laden\n",
    "Hierzu verwenden wir die sklearn Bibliothek, eine Software für das erstellen von machine learning modellen mit Python"
   ],
   "metadata": {}
  },
  {
   "cell_type": "code",
   "execution_count": null,
   "source": [
    "import sklearn\n",
    "from sklearn.preprocessing import StandardScaler\n",
    "from sklearn.model_selection import train_test_split\n",
    "from sklearn.linear_model import LogisticRegression\n",
    "from sklearn.metrics import confusion_matrix\n",
    "from sklearn.metrics import accuracy_score,precision_score,recall_score,f1_score"
   ],
   "outputs": [],
   "metadata": {}
  },
  {
   "cell_type": "markdown",
   "source": [
    "### 5.1 Get Data | Daten laden\n",
    "Hierzu verwenden wir wieder das \"heart.csv\" Datenset und laden dies nochmals neu als Dataframe\n"
   ],
   "metadata": {}
  },
  {
   "cell_type": "code",
   "execution_count": null,
   "source": [
    "try:\n",
    "    df = pd.read_csv('heart.csv')\n",
    "except:\n",
    "    df = pd.read_csv('/kaggle/input/heart-attack-analysis-prediction-dataset/heart.csv')"
   ],
   "outputs": [],
   "metadata": {}
  },
  {
   "cell_type": "markdown",
   "source": [
    "### 5.2 Clean, Prepare & Manuplate Data | Bereinigung, Vorbereitung und Manipulation der Daten\n",
    "Der wichtigste Schritt bildet die Aufarbeitung und Vorbereitung des Datensatzes um diesen für das Trainingen des Models bereit zu haben.\n",
    "\n",
    "Hier nochmals eine kurze Übersicht über den Datensatz:\n",
    "* Parameternazahl = 14 \n",
    "* Anzahl Werte pro Kolonnen 303\n",
    "\n",
    "Dies können wir nochmals auch mit dem \".shape\" Paramer überprüfen:"
   ],
   "metadata": {}
  },
  {
   "cell_type": "code",
   "execution_count": null,
   "source": [
    "df.shape"
   ],
   "outputs": [],
   "metadata": {}
  },
  {
   "cell_type": "markdown",
   "source": [
    "Der erste Wert beschreibt hier die anzahl Zeilen (hier = 303) und die zweite Zahl die Anzahl Kolonnen (also 14 Parameter)\n",
    "\n",
    "Als nächste wird das Dataframe aufgetrennt in eine Eingangs und Ausgangsdaten set. Dabei bilden alles Physiologischen Parameter den Eingangsdatensatz und die Kolonne \"output\" unseren Ausgangsdatensatz. Somit möchten wir auf grund unseres Eingangs Parameter den Ausgangsparameter voraussagen.\n",
    "* Eingang -> Input Paramter (age, sex, cp, trtbps, chol, fbs, restecg, thalachh, exng, oldpeak, slp, caa, thall)\n",
    "* Ausgang -> Output Parameter (output)\n",
    "\n",
    "In der Regel werden zwei neue Dataframes gebilded, das Eingangsdatenframe **X** und das Ausgangsdataframe **Y**:"
   ],
   "metadata": {}
  },
  {
   "cell_type": "code",
   "execution_count": null,
   "source": [
    "X= df.iloc[:,:-1].values\n",
    "Y= df.iloc[:,-1].values"
   ],
   "outputs": [],
   "metadata": {}
  },
  {
   "cell_type": "markdown",
   "source": [
    "Wir können nochmals die Zusammensetzung mit dem \".shape\" Befehl überprüfen"
   ],
   "metadata": {}
  },
  {
   "cell_type": "code",
   "execution_count": null,
   "source": [
    "print(X.shape)\n",
    "print(Y.shape)"
   ],
   "outputs": [],
   "metadata": {}
  },
  {
   "cell_type": "markdown",
   "source": [
    "Nun werden noch bestimmte Parameter skaliert, heisst die Werte bestimmter Kolonnen werden angpasst damit diese nicht überproportianal das zu trainierende Modell beinflussen.\n",
    "\n",
    "<img src='https://python.casa/assets/img/topic8_scaling.jpg' width=\"450\" height=\"400\">\n",
    "\n",
    "Dabei muss man oft nur bestimmter Parameter skalieren welch in diesem Fall die folgenden wären\n",
    "* \"age\",\"trtbps\",\"chol\",\"thalachh\" und \"oldpeak\"\n",
    "\n",
    "Dies sind die Kolonnen Nr. 0 3 4 5 6 und 8 im Dataframe, also die folgenden Werte:"
   ],
   "metadata": {}
  },
  {
   "cell_type": "code",
   "execution_count": null,
   "source": [
    "X[0:4,[0,3,4,5,6,8]]"
   ],
   "outputs": [],
   "metadata": {}
  },
  {
   "cell_type": "markdown",
   "source": [
    "Für die Skalierung wird eine Funktion von sklearn verwendet"
   ],
   "metadata": {}
  },
  {
   "cell_type": "code",
   "execution_count": null,
   "source": [
    "X[:,[0,3,4,5,6,8]]=sklearn.preprocessing.StandardScaler().fit_transform(X[:,[0,3,4,5,6,8]])"
   ],
   "outputs": [],
   "metadata": {}
  },
  {
   "cell_type": "markdown",
   "source": [
    "Die skalierten Werte sehen nun so aus:"
   ],
   "metadata": {}
  },
  {
   "cell_type": "code",
   "execution_count": null,
   "source": [
    "X[0:4,[0,3,4,5,6,8]]"
   ],
   "outputs": [],
   "metadata": {}
  },
  {
   "cell_type": "markdown",
   "source": [
    "Weiter müssen die beiden Dataframes X und Y nochmals aufgetrennt werden und war in ein Trainings und Test Datenset. Dabei werden die beiden Trainingsdatensets verwendet um das Model zu trainieren und die beiden Testdatensets umd das Model anschliessend zu überprüfen. Oft nimmt man run 60-70% der Daten für das Training und den Rest für das Testen."
   ],
   "metadata": {}
  },
  {
   "cell_type": "code",
   "execution_count": null,
   "source": [
    "Xtrain,Xtest,Ytrain,Ytest= sklearn.model_selection.train_test_split(X,Y,test_size=0.25,random_state=2)"
   ],
   "outputs": [],
   "metadata": {}
  },
  {
   "cell_type": "markdown",
   "source": [
    "### 5.3 Train Model | Das Model trainieren\n",
    "Sobald die Daten augearbeitet sind kann man das Model trainieren. Dabei werden nur die Trainingsdaten verwendet (hier Xtrain und Ytrain).\n",
    "\n",
    "Das Model welches trainiert wird eine logistisches Regressionsmodel. Dabei haben alle Eingangswerte (X1, X2, X3, Xn,...) einen zugehörigen Gweichtsparameter (W1, W2, W3, Wn). Diese Gewichtsparameter werden währen des Trainings automatisch optimiert damit Eingangsparameter welche einen grossen Einfluss auf den Ausgang des Models haben ein entpsrechend grosses Gewicht erhalten und umgekehrt.\n",
    "\n",
    "<img src='https://python.casa/assets/img/topic8_lr.jpg' width=\"950\" height=\"280\">\n",
    "\n",
    "Das Training wird in der nächsten Zelle beinhaltet und die Gewichtsparameter werden über 1000 Iterationen angepasst."
   ],
   "metadata": {}
  },
  {
   "cell_type": "code",
   "execution_count": null,
   "source": [
    "lr=sklearn.linear_model.LogisticRegression(max_iter=1000).fit(Xtrain,Ytrain)"
   ],
   "outputs": [],
   "metadata": {}
  },
  {
   "cell_type": "markdown",
   "source": [
    "Die oben erwähnten Gewichte können nach dem Training inspieziert werden"
   ],
   "metadata": {}
  },
  {
   "cell_type": "code",
   "execution_count": null,
   "source": [
    "lr.coef_"
   ],
   "outputs": [],
   "metadata": {}
  },
  {
   "cell_type": "markdown",
   "source": [
    "### 5.4 Test Data | Test Daten\n",
    "Um nun das trainierte Modell auszuwerten werden die beiden Testdatensets angewendet. Als Output möchte man am Ende etwas über die \"Performace\" des trainierten Modelles erfahren. Also zum Beispiel dessen Prezision oder Richtigkeit\n",
    "\n",
    "<img src='https://python.casa/assets/img/topic8_stats.jpg' width=\"650\" height=\"200\">\n",
    "\n",
    "Um das Modell zu evalueieren wird dabei eine Konfusions-Matrix generiert welche die Grundlage bildet für weitere statistische Aussagen."
   ],
   "metadata": {}
  },
  {
   "cell_type": "code",
   "execution_count": null,
   "source": [
    "sklearn.metrics.confusion_matrix(Ytest,lr.predict(Xtest))"
   ],
   "outputs": [],
   "metadata": {}
  },
  {
   "cell_type": "markdown",
   "source": [
    "Die werten in der Konfusionsmatrix können dann weiter berechnet werden umd einen score für die \"Richtigkeit\" (Accuracy), \"Prezision\" (Precision) und \"Wiederfindung\" (Recall)"
   ],
   "metadata": {}
  },
  {
   "cell_type": "code",
   "execution_count": null,
   "source": [
    "print('Accuracy score: ','{:.3}'.format(sklearn.metrics.accuracy_score(Ytest, lr.predict(Xtest))*100), \"%\")\n",
    "print('Precision score: ','{:.3}'.format(sklearn.metrics.precision_score(Ytest,lr.predict(Xtest))*100), \"%\")\n",
    "print('Recall score: ','{:.3}'.format(sklearn.metrics.recall_score(Ytest,lr.predict(Xtest))*100), \"%\")"
   ],
   "outputs": [],
   "metadata": {}
  },
  {
   "cell_type": "markdown",
   "source": [
    "### 5.5 Anwendung des Modells\n",
    "Ist das Modell fertig optimiert kann mann es auf neue Daten anwenden. Als Beispiel wird ein ein neues Datenset eines Patienten generiert."
   ],
   "metadata": {}
  },
  {
   "cell_type": "code",
   "execution_count": null,
   "source": [
    "newData=[[-1.50691664e-01,  6.81005225e-01,  1.00257707e+00, -9.27377842e-02, -5.10243757e-03,  1.00000000e+00,  0.00000000e+00,  1.73000000e+02,\n",
    "              0.00000000e+00,  0.00000000e+00,  2.00000000e+00,  3.00000000e+00, 2.00000000e+00]]"
   ],
   "outputs": [],
   "metadata": {}
  },
  {
   "cell_type": "markdown",
   "source": [
    "Das neue Datenset eines Patienten kann dann mit dem \".predict()\" Befehlt ausgewertet werden."
   ],
   "metadata": {}
  },
  {
   "cell_type": "code",
   "execution_count": null,
   "source": [
    "print(\"Heart attack risk level: \", lr.predict(newData)[0])"
   ],
   "outputs": [],
   "metadata": {}
  },
  {
   "cell_type": "markdown",
   "source": [
    "Der Ausgangswert ist nun 1 und er Patient hätte ein erhöhtes Herz Infarkt Risiko."
   ],
   "metadata": {}
  },
  {
   "cell_type": "markdown",
   "source": [
    "\n",
    "\n",
    "<img src='https://python.casa/assets/img/topic8_xkcd.jpg' width=\"600\" height=\"600\">"
   ],
   "metadata": {}
  }
 ],
 "metadata": {
  "interpreter": {
   "hash": "40fa215dad0e994e7adf7fc4b2715ad13f1cc7259c6abf1f98740877a22b9116"
  },
  "kernelspec": {
   "name": "python3",
   "display_name": "Python 3.8.6 64-bit ('3.8.6': pyenv)"
  },
  "language_info": {
   "codemirror_mode": {
    "name": "ipython",
    "version": 3
   },
   "file_extension": ".py",
   "mimetype": "text/x-python",
   "name": "python",
   "nbconvert_exporter": "python",
   "pygments_lexer": "ipython3",
   "version": "3.8.6"
  },
  "orig_nbformat": 4
 },
 "nbformat": 4,
 "nbformat_minor": 2
}