{
 "cells": [
  {
   "cell_type": "markdown",
   "metadata": {},
   "source": [
    "# Jupyter Notebook\n",
    "Wie bereits erkennbar besteht eine Jupyternotebook aus Zellen. In der Regel kann eine Zelle entweder einen Beschreibenend Text beihnalten welcher mittels Markdown Syntax editiert wird oder Code in einer dezidierten Programmiersprache, wie Python.\n",
    "\n",
    "Jupyter Notebooks sind Grundsätzlich Web Applikationen welche als Dokument geteilt und versendet werden können. In der Regel beinhaltet ein Notebook Code, Gleichungen, Visualisierungen und Text. Besonder eignen sich Jupyter Notebooks dazu Datenanalysenschritte aufzuzeigen, diese zu beschreiben und entpsrechende Visualisierungen einzubetten. Dadurch haben sich Jupyter Notebooks besonder im Data Science Bereich als unerlässliches Werkzeug etableirt."
   ]
  },
  {
   "cell_type": "markdown",
   "metadata": {},
   "source": [
    "Dies ist eine Markdown Zelle und erlaubt das formattiern von Text in der entsprechenden Syntax\n",
    "\n",
    "'Hello Jupyter!'\n",
    "\n",
    "**'Hello Jupyter!'**\n",
    "\n",
    "_'Hello Jupyter!'_"
   ]
  },
  {
   "cell_type": "code",
   "execution_count": 8,
   "metadata": {},
   "outputs": [
    {
     "name": "stdout",
     "output_type": "stream",
     "text": [
      "Hello Jupyter!\n"
     ]
    }
   ],
   "source": [
    "# Eine Python Code Zelle kann wie gewohnt kommentiert werden\n",
    "print('Hello Jupyter!')"
   ]
  },
  {
   "cell_type": "markdown",
   "metadata": {},
   "source": [
    "# Python Pakete laden\n",
    "Wie in einem Python Script werden entsprechende Module geladen. Wichtig hier ist das man entsprechende Zellen nicht unbedingt in Reihenfolge ausführen muss.\n",
    "\n",
    "Pandas wird oft als pd geladen um entpsrechend code zu kürzen\n",
    "The pyplot visualization module is the interface for the matplotlib package, it is often loaded as plt"
   ]
  },
  {
   "cell_type": "code",
   "execution_count": 10,
   "metadata": {},
   "outputs": [],
   "source": [
    "import pandas as pd\n",
    "import matplotlib.pyplot as plt\n",
    "import plotly.express as px"
   ]
  },
  {
   "cell_type": "markdown",
   "metadata": {},
   "source": [
    "# Datensatz laden\n",
    "Hierzu werden die Daten of als Pandas Dataframe gespeichert. Dieses Dataframe kann dann einfach manipuliert werden. Weiter ist eine Vielzahl and Funktionen vorhanden welche dein solches Dataframe als Input verwenden."
   ]
  },
  {
   "cell_type": "code",
   "execution_count": 2,
   "metadata": {},
   "outputs": [],
   "source": [
    "df = pd.read_csv('heart.csv')"
   ]
  },
  {
   "cell_type": "markdown",
   "metadata": {},
   "source": [
    "Der nun im dataframe \"df\" gespeicherte Datensatz ist Trainings und Benchmark Datensatz welcher auf Kaggle.com veröffentlicht wurde. Kaggle ist eine Organisation von Data Science Wettbewerben. Dabei werden mehrere Tausend Datenstätze bereitgestellt mit welche Datengestützte Modelle für Prediktive Analysen trainiert werden können. Dabei können entsprechende Modelle unter der Community verglichen werden was den Wettbewerbsaspekt der Platform bildet.\n",
    "\n",
    "https://www.kaggle.com/rashikrahmanpritom/heart-attack-analysis-prediction-dataset\n",
    "\n",
    "<img src='hearts.jpg' width=\"800\" height=\"300\">\n"
   ]
  },
  {
   "cell_type": "markdown",
   "metadata": {},
   "source": [
    "# Datensatz inspizieren\n",
    "Es ist unerlässlich den Datensatz auf Vollstendigkeit und art der erhobenen Daten zu überprüfen. Dabei spielen Lücken in einer Serie (Bsp. fehlende Daten in einer Kolonne in einem Dataframe), Typ der Daten (Bsp. Integer, Float, Strin, etc.), Duplikate (Bsp. Kolonne doppelt erfasst) und Integrität (Bsp.\"na\" anstatt 0) eine wichtige Rolle"
   ]
  },
  {
   "cell_type": "markdown",
   "metadata": {},
   "source": [
    "Um einen Überblick zu erhalten werden die obersten Datenreihen im Dataframe inspiziert."
   ]
  },
  {
   "cell_type": "code",
   "execution_count": 3,
   "metadata": {},
   "outputs": [
    {
     "data": {
      "text/html": [
       "<div>\n",
       "<style scoped>\n",
       "    .dataframe tbody tr th:only-of-type {\n",
       "        vertical-align: middle;\n",
       "    }\n",
       "\n",
       "    .dataframe tbody tr th {\n",
       "        vertical-align: top;\n",
       "    }\n",
       "\n",
       "    .dataframe thead th {\n",
       "        text-align: right;\n",
       "    }\n",
       "</style>\n",
       "<table border=\"1\" class=\"dataframe\">\n",
       "  <thead>\n",
       "    <tr style=\"text-align: right;\">\n",
       "      <th></th>\n",
       "      <th>age</th>\n",
       "      <th>sex</th>\n",
       "      <th>cp</th>\n",
       "      <th>trtbps</th>\n",
       "      <th>chol</th>\n",
       "      <th>fbs</th>\n",
       "      <th>restecg</th>\n",
       "      <th>thalachh</th>\n",
       "      <th>exng</th>\n",
       "      <th>oldpeak</th>\n",
       "      <th>slp</th>\n",
       "      <th>caa</th>\n",
       "      <th>thall</th>\n",
       "      <th>output</th>\n",
       "    </tr>\n",
       "  </thead>\n",
       "  <tbody>\n",
       "    <tr>\n",
       "      <th>0</th>\n",
       "      <td>63</td>\n",
       "      <td>1</td>\n",
       "      <td>3</td>\n",
       "      <td>145</td>\n",
       "      <td>233</td>\n",
       "      <td>1</td>\n",
       "      <td>0</td>\n",
       "      <td>150</td>\n",
       "      <td>0</td>\n",
       "      <td>2.3</td>\n",
       "      <td>0</td>\n",
       "      <td>0</td>\n",
       "      <td>1</td>\n",
       "      <td>1</td>\n",
       "    </tr>\n",
       "    <tr>\n",
       "      <th>1</th>\n",
       "      <td>37</td>\n",
       "      <td>1</td>\n",
       "      <td>2</td>\n",
       "      <td>130</td>\n",
       "      <td>250</td>\n",
       "      <td>0</td>\n",
       "      <td>1</td>\n",
       "      <td>187</td>\n",
       "      <td>0</td>\n",
       "      <td>3.5</td>\n",
       "      <td>0</td>\n",
       "      <td>0</td>\n",
       "      <td>2</td>\n",
       "      <td>1</td>\n",
       "    </tr>\n",
       "    <tr>\n",
       "      <th>2</th>\n",
       "      <td>41</td>\n",
       "      <td>0</td>\n",
       "      <td>1</td>\n",
       "      <td>130</td>\n",
       "      <td>204</td>\n",
       "      <td>0</td>\n",
       "      <td>0</td>\n",
       "      <td>172</td>\n",
       "      <td>0</td>\n",
       "      <td>1.4</td>\n",
       "      <td>2</td>\n",
       "      <td>0</td>\n",
       "      <td>2</td>\n",
       "      <td>1</td>\n",
       "    </tr>\n",
       "    <tr>\n",
       "      <th>3</th>\n",
       "      <td>56</td>\n",
       "      <td>1</td>\n",
       "      <td>1</td>\n",
       "      <td>120</td>\n",
       "      <td>236</td>\n",
       "      <td>0</td>\n",
       "      <td>1</td>\n",
       "      <td>178</td>\n",
       "      <td>0</td>\n",
       "      <td>0.8</td>\n",
       "      <td>2</td>\n",
       "      <td>0</td>\n",
       "      <td>2</td>\n",
       "      <td>1</td>\n",
       "    </tr>\n",
       "    <tr>\n",
       "      <th>4</th>\n",
       "      <td>57</td>\n",
       "      <td>0</td>\n",
       "      <td>0</td>\n",
       "      <td>120</td>\n",
       "      <td>354</td>\n",
       "      <td>0</td>\n",
       "      <td>1</td>\n",
       "      <td>163</td>\n",
       "      <td>1</td>\n",
       "      <td>0.6</td>\n",
       "      <td>2</td>\n",
       "      <td>0</td>\n",
       "      <td>2</td>\n",
       "      <td>1</td>\n",
       "    </tr>\n",
       "  </tbody>\n",
       "</table>\n",
       "</div>"
      ],
      "text/plain": [
       "   age  sex  cp  trtbps  chol  fbs  restecg  thalachh  exng  oldpeak  slp  \\\n",
       "0   63    1   3     145   233    1        0       150     0      2.3    0   \n",
       "1   37    1   2     130   250    0        1       187     0      3.5    0   \n",
       "2   41    0   1     130   204    0        0       172     0      1.4    2   \n",
       "3   56    1   1     120   236    0        1       178     0      0.8    2   \n",
       "4   57    0   0     120   354    0        1       163     1      0.6    2   \n",
       "\n",
       "   caa  thall  output  \n",
       "0    0      1       1  \n",
       "1    0      2       1  \n",
       "2    0      2       1  \n",
       "3    0      2       1  \n",
       "4    0      2       1  "
      ]
     },
     "execution_count": 3,
     "metadata": {},
     "output_type": "execute_result"
    }
   ],
   "source": [
    "df.head(3)"
   ]
  },
  {
   "cell_type": "code",
   "execution_count": 16,
   "metadata": {},
   "outputs": [
    {
     "data": {
      "text/html": [
       "<div>\n",
       "<style scoped>\n",
       "    .dataframe tbody tr th:only-of-type {\n",
       "        vertical-align: middle;\n",
       "    }\n",
       "\n",
       "    .dataframe tbody tr th {\n",
       "        vertical-align: top;\n",
       "    }\n",
       "\n",
       "    .dataframe thead th {\n",
       "        text-align: right;\n",
       "    }\n",
       "</style>\n",
       "<table border=\"1\" class=\"dataframe\">\n",
       "  <thead>\n",
       "    <tr style=\"text-align: right;\">\n",
       "      <th></th>\n",
       "      <th>age</th>\n",
       "      <th>sex</th>\n",
       "      <th>cp</th>\n",
       "      <th>trtbps</th>\n",
       "      <th>chol</th>\n",
       "      <th>fbs</th>\n",
       "      <th>restecg</th>\n",
       "      <th>thalachh</th>\n",
       "      <th>exng</th>\n",
       "      <th>oldpeak</th>\n",
       "      <th>slp</th>\n",
       "      <th>caa</th>\n",
       "      <th>thall</th>\n",
       "      <th>output</th>\n",
       "    </tr>\n",
       "  </thead>\n",
       "  <tbody>\n",
       "    <tr>\n",
       "      <th>298</th>\n",
       "      <td>57</td>\n",
       "      <td>0</td>\n",
       "      <td>0</td>\n",
       "      <td>140</td>\n",
       "      <td>241</td>\n",
       "      <td>0</td>\n",
       "      <td>1</td>\n",
       "      <td>123</td>\n",
       "      <td>1</td>\n",
       "      <td>0.2</td>\n",
       "      <td>1</td>\n",
       "      <td>0</td>\n",
       "      <td>3</td>\n",
       "      <td>0</td>\n",
       "    </tr>\n",
       "    <tr>\n",
       "      <th>77</th>\n",
       "      <td>59</td>\n",
       "      <td>1</td>\n",
       "      <td>1</td>\n",
       "      <td>140</td>\n",
       "      <td>221</td>\n",
       "      <td>0</td>\n",
       "      <td>1</td>\n",
       "      <td>164</td>\n",
       "      <td>1</td>\n",
       "      <td>0.0</td>\n",
       "      <td>2</td>\n",
       "      <td>0</td>\n",
       "      <td>2</td>\n",
       "      <td>1</td>\n",
       "    </tr>\n",
       "    <tr>\n",
       "      <th>197</th>\n",
       "      <td>67</td>\n",
       "      <td>1</td>\n",
       "      <td>0</td>\n",
       "      <td>125</td>\n",
       "      <td>254</td>\n",
       "      <td>1</td>\n",
       "      <td>1</td>\n",
       "      <td>163</td>\n",
       "      <td>0</td>\n",
       "      <td>0.2</td>\n",
       "      <td>1</td>\n",
       "      <td>2</td>\n",
       "      <td>3</td>\n",
       "      <td>0</td>\n",
       "    </tr>\n",
       "    <tr>\n",
       "      <th>288</th>\n",
       "      <td>57</td>\n",
       "      <td>1</td>\n",
       "      <td>0</td>\n",
       "      <td>110</td>\n",
       "      <td>335</td>\n",
       "      <td>0</td>\n",
       "      <td>1</td>\n",
       "      <td>143</td>\n",
       "      <td>1</td>\n",
       "      <td>3.0</td>\n",
       "      <td>1</td>\n",
       "      <td>1</td>\n",
       "      <td>3</td>\n",
       "      <td>0</td>\n",
       "    </tr>\n",
       "  </tbody>\n",
       "</table>\n",
       "</div>"
      ],
      "text/plain": [
       "     age  sex  cp  trtbps  chol  fbs  restecg  thalachh  exng  oldpeak  slp  \\\n",
       "298   57    0   0     140   241    0        1       123     1      0.2    1   \n",
       "77    59    1   1     140   221    0        1       164     1      0.0    2   \n",
       "197   67    1   0     125   254    1        1       163     0      0.2    1   \n",
       "288   57    1   0     110   335    0        1       143     1      3.0    1   \n",
       "\n",
       "     caa  thall  output  \n",
       "298    0      3       0  \n",
       "77     0      2       1  \n",
       "197    2      3       0  \n",
       "288    1      3       0  "
      ]
     },
     "execution_count": 16,
     "metadata": {},
     "output_type": "execute_result"
    }
   ],
   "source": [
    "df.sample(4)"
   ]
  },
  {
   "cell_type": "markdown",
   "metadata": {},
   "source": [
    "Der Datensatz besteht setzt sich somit aus einer vielzahl an Paramtern zusammen welche von Patienten erfasst wurden. Dabei ist jede Kolonne eine Pandas Serie welche zusammen das Dataframe bilden.\n",
    "\n",
    "Parameter:\n",
    "* Age : Age of the patient\n",
    "* Sex : Sex of the patient\n",
    "* exang: exercise induced angina (1 = yes; 0 = no)\n",
    "* ca: number of major vessels (0-3)\n",
    "* cp : Chest Pain type chest pain type\n",
    "    Value 1: typical angina\n",
    "    Value 2: atypical angina\n",
    "    Value 3: non-anginal pain\n",
    "    Value 4: asymptomatic\n",
    "* trtbps : resting blood pressure (in mm Hg)\n",
    "* chol : cholestoral in mg/dl fetched via BMI sensor\n",
    "* fbs : (fasting blood sugar > 120 mg/dl) (1 = true; 0 = false)\n",
    "* rest_ecg : resting electrocardiographic results\n",
    "    Value 0: normal\n",
    "    Value 1: having ST-T wave abnormality (T wave inversions and/or ST elevation or depression of > 0.05 mV)\n",
    "    Value 2: showing probable or definite left ventricular hypertrophy by Estes' criteria\n",
    "* thalach : maximum heart rate achieved\n",
    "* Output : 0= less chance of heart attack 1= more chance of heart attack"
   ]
  },
  {
   "cell_type": "markdown",
   "metadata": {},
   "source": [
    "Der info() command gibt ebenfalls einen überblick über das Dataframe. Besonders wichtig hier ist der Dtype welcher beschreibt im welchem Datentyp die jeweiligen Kolonnen erfasst sind."
   ]
  },
  {
   "cell_type": "code",
   "execution_count": 5,
   "metadata": {},
   "outputs": [
    {
     "name": "stdout",
     "output_type": "stream",
     "text": [
      "<class 'pandas.core.frame.DataFrame'>\n",
      "RangeIndex: 303 entries, 0 to 302\n",
      "Data columns (total 14 columns):\n",
      " #   Column    Non-Null Count  Dtype  \n",
      "---  ------    --------------  -----  \n",
      " 0   age       303 non-null    int64  \n",
      " 1   sex       303 non-null    int64  \n",
      " 2   cp        303 non-null    int64  \n",
      " 3   trtbps    303 non-null    int64  \n",
      " 4   chol      303 non-null    int64  \n",
      " 5   fbs       303 non-null    int64  \n",
      " 6   restecg   303 non-null    int64  \n",
      " 7   thalachh  303 non-null    int64  \n",
      " 8   exng      303 non-null    int64  \n",
      " 9   oldpeak   303 non-null    float64\n",
      " 10  slp       303 non-null    int64  \n",
      " 11  caa       303 non-null    int64  \n",
      " 12  thall     303 non-null    int64  \n",
      " 13  output    303 non-null    int64  \n",
      "dtypes: float64(1), int64(13)\n",
      "memory usage: 33.3 KB\n"
     ]
    }
   ],
   "source": [
    "df.info()"
   ]
  },
  {
   "cell_type": "markdown",
   "metadata": {},
   "source": [
    "\n"
   ]
  },
  {
   "cell_type": "code",
   "execution_count": 6,
   "metadata": {},
   "outputs": [
    {
     "data": {
      "text/plain": [
       "age         0\n",
       "sex         0\n",
       "cp          0\n",
       "trtbps      0\n",
       "chol        0\n",
       "fbs         0\n",
       "restecg     0\n",
       "thalachh    0\n",
       "exng        0\n",
       "oldpeak     0\n",
       "slp         0\n",
       "caa         0\n",
       "thall       0\n",
       "output      0\n",
       "dtype: int64"
      ]
     },
     "execution_count": 6,
     "metadata": {},
     "output_type": "execute_result"
    }
   ],
   "source": [
    "df.isnull().sum()"
   ]
  },
  {
   "cell_type": "markdown",
   "metadata": {},
   "source": [
    "# Daten Visualisieren\n",
    "Matplotlib, Seaborn, Plotly Express oder ggplot, um nur einizge zu nennen, sind Visalisierungs-Pakete für Python. Jedes dieser Werkzeuge hat Vor-und Nachteile im Bezug die Syntax, Zielplot und Dateninput. Einige sind ausgelegt auf grosse Datenmene andere auf einfaches Userinterface oder wurden von anderen Programmiersprachen zu Python portiert. Somit ist es of der Fall das man je nach Zielplot zwischen diese Paketen wechselt oder man sich auf eines fixiert aufgrund des Interfaces oder anderen Gründen. Zwei der meistverbreiteten Pakete sowie die Visualisierungsfunktion in Pandas werden in diesem Kapitel verwendet."
   ]
  },
  {
   "cell_type": "code",
   "execution_count": 43,
   "metadata": {},
   "outputs": [
    {
     "data": {
      "text/plain": [
       "<matplotlib.axes._subplots.AxesSubplot at 0x21e2b67a108>"
      ]
     },
     "execution_count": 43,
     "metadata": {},
     "output_type": "execute_result"
    },
    {
     "data": {
      "image/png": "[encoded data removed]",
      "text/plain": [
       "<Figure size 432x288 with 1 Axes>"
      ]
     },
     "metadata": {
      "needs_background": "light"
     },
     "output_type": "display_data"
    }
   ],
   "source": [
    "df.plot()"
   ]
  },
  {
   "cell_type": "code",
   "execution_count": 37,
   "metadata": {},
   "outputs": [
    {
     "data": {
      "text/plain": [
       "<function matplotlib.pyplot.show(*args, **kw)>"
      ]
     },
     "execution_count": 37,
     "metadata": {},
     "output_type": "execute_result"
    },
    {
     "data": {
      "image/png": "[encoded data removed]",
      "text/plain": [
       "<Figure size 432x288 with 1 Axes>"
      ]
     },
     "metadata": {
      "needs_background": "light"
     },
     "output_type": "display_data"
    }
   ],
   "source": [
    "plt.hist(df[\"age\"])\n",
    "plt.title(\"Age Histogramm\")\n",
    "plt.show"
   ]
  },
  {
   "cell_type": "code",
   "execution_count": 42,
   "metadata": {},
   "outputs": [
    {
     "data": {
      "application/vnd.plotly.v1+json": {
       "config": {
        "plotlyServerURL": "https://plot.ly"
       },
       "data": [
        {
         "coloraxis": "coloraxis",
         "hovertemplate": "x: %{x}<br>y: %{y}<br>color: %{z}<extra></extra>",
         "name": "0",
         "type": "heatmap",
         "x": [
          "age",
          "sex",
          "cp",
          "trtbps",
          "chol",
          "fbs",
          "restecg",
          "thalachh",
          "exng",
          "oldpeak",
          "slp",
          "caa",
          "thall",
          "output"
         ],
         "xaxis": "x",
         "y": [
          "age",
          "sex",
          "cp",
          "trtbps",
          "chol",
          "fbs",
          "restecg",
          "thalachh",
          "exng",
          "oldpeak",
          "slp",
          "caa",
          "thall",
          "output"
         ],
         "yaxis": "y",
         "z": [
          [
           1,
           -0.09844660247479324,
           -0.06865301584014484,
           0.27935090656128847,
           0.21367795655956176,
           0.12130764809337487,
           -0.11621089815852972,
           -0.39852193812106745,
           0.09680082645526768,
           0.2100125673586737,
           -0.16881423801209525,
           0.27632624401913874,
           0.06800137705465183,
           -0.22543871587483694
          ],
          [
           -0.09844660247479324,
           1,
           -0.04935287534698944,
           -0.056768823969643216,
           -0.1979121741411065,
           0.04503178919356075,
           -0.058196267703754606,
           -0.04401990776957466,
           0.1416638109915054,
           0.09609287706773856,
           -0.030710567303172228,
           0.11826141332035968,
           0.21004109563720672,
           -0.2809365755017663
          ],
          [
           -0.06865301584014484,
           -0.04935287534698944,
           1,
           0.04760776064464845,
           -0.07690439103320758,
           0.09444403499533176,
           0.044420592510163705,
           0.2957621245879106,
           -0.39428026849502085,
           -0.14923015809708076,
           0.11971658853470597,
           -0.18105302605349533,
           -0.16173557051002177,
           0.4337982615068916
          ],
          [
           0.27935090656128847,
           -0.056768823969643216,
           0.04760776064464845,
           1,
           0.12317420653239079,
           0.17753054193446027,
           -0.11410278639187017,
           -0.04669772814795437,
           0.06761611953876384,
           0.19321647240953663,
           -0.12147458192645001,
           0.10138898530055154,
           0.0622098876308615,
           -0.14493112849775133
          ],
          [
           0.21367795655956176,
           -0.1979121741411065,
           -0.07690439103320758,
           0.12317420653239079,
           1,
           0.013293602251671576,
           -0.15104007833751207,
           -0.009939838642698234,
           0.06702278257394254,
           0.05395191998699383,
           -0.0040377703696837415,
           0.07051092522607605,
           0.09880299250014489,
           -0.0852391051375688
          ],
          [
           0.12130764809337487,
           0.04503178919356075,
           0.09444403499533176,
           0.17753054193446027,
           0.013293602251671576,
           1,
           -0.08418905443102692,
           -0.008567107343486847,
           0.025665147202126145,
           0.0057472234596442845,
           -0.059894178290417974,
           0.13797932702785168,
           -0.03201933931349752,
           -0.028045760272712838
          ],
          [
           -0.11621089815852972,
           -0.058196267703754606,
           0.044420592510163705,
           -0.11410278639187017,
           -0.15104007833751207,
           -0.08418905443102692,
           1,
           0.04412344408543711,
           -0.07073285587236619,
           -0.05877022631983714,
           0.09304482097448184,
           -0.07204243324692995,
           -0.011981404599806367,
           0.13722950287377314
          ],
          [
           -0.39852193812106745,
           -0.04401990776957466,
           0.2957621245879106,
           -0.04669772814795437,
           -0.009939838642698234,
           -0.008567107343486847,
           0.04412344408543711,
           1,
           -0.37881209385148623,
           -0.34418694796671623,
           0.38678440981481893,
           -0.21317692811538974,
           -0.09643913165982125,
           0.4217409338106738
          ],
          [
           0.09680082645526768,
           0.1416638109915054,
           -0.39428026849502085,
           0.06761611953876384,
           0.06702278257394254,
           0.025665147202126145,
           -0.07073285587236619,
           -0.37881209385148623,
           1,
           0.28822280778276527,
           -0.2577483685301657,
           0.11573937807050595,
           0.20675378773953781,
           -0.4367570833532994
          ],
          [
           0.2100125673586737,
           0.09609287706773856,
           -0.14923015809708076,
           0.19321647240953663,
           0.05395191998699383,
           0.0057472234596442845,
           -0.05877022631983714,
           -0.34418694796671623,
           0.28822280778276527,
           1,
           -0.577536816729141,
           0.22268232182782358,
           0.2102441259826486,
           -0.4306960016873676
          ],
          [
           -0.16881423801209525,
           -0.030710567303172228,
           0.11971658853470597,
           -0.12147458192645001,
           -0.0040377703696837415,
           -0.059894178290417974,
           0.09304482097448184,
           0.38678440981481893,
           -0.2577483685301657,
           -0.577536816729141,
           1,
           -0.08015521021463953,
           -0.10476379462149539,
           0.34587707824172226
          ],
          [
           0.27632624401913874,
           0.11826141332035968,
           -0.18105302605349533,
           0.10138898530055154,
           0.07051092522607605,
           0.13797932702785168,
           -0.07204243324692995,
           -0.21317692811538974,
           0.11573937807050595,
           0.22268232182782358,
           -0.08015521021463953,
           1,
           0.151832125482089,
           -0.3917239923512518
          ],
          [
           0.06800137705465183,
           0.21004109563720672,
           -0.16173557051002177,
           0.0622098876308615,
           0.09880299250014489,
           -0.03201933931349752,
           -0.011981404599806367,
           -0.09643913165982125,
           0.20675378773953781,
           0.2102441259826486,
           -0.10476379462149539,
           0.151832125482089,
           1,
           -0.3440292680383096
          ],
          [
           -0.22543871587483694,
           -0.2809365755017663,
           0.4337982615068916,
           -0.14493112849775133,
           -0.0852391051375688,
           -0.028045760272712838,
           0.13722950287377314,
           0.4217409338106738,
           -0.4367570833532994,
           -0.4306960016873676,
           0.34587707824172226,
           -0.3917239923512518,
           -0.3440292680383096,
           1
          ]
         ]
        }
       ],
       "layout": {
        "coloraxis": {
         "colorscale": [
          [
           0,
           "#0d0887"
          ],
          [
           0.1111111111111111,
           "#46039f"
          ],
          [
           0.2222222222222222,
           "#7201a8"
          ],
          [
           0.3333333333333333,
           "#9c179e"
          ],
          [
           0.4444444444444444,
           "#bd3786"
          ],
          [
           0.5555555555555556,
           "#d8576b"
          ],
          [
           0.6666666666666666,
           "#ed7953"
          ],
          [
           0.7777777777777778,
           "#fb9f3a"
          ],
          [
           0.8888888888888888,
           "#fdca26"
          ],
          [
           1,
           "#f0f921"
          ]
         ]
        },
        "margin": {
         "t": 60
        },
        "template": {
         "data": {
          "bar": [
           {
            "error_x": {
             "color": "#2a3f5f"
            },
            "error_y": {
             "color": "#2a3f5f"
            },
            "marker": {
             "line": {
              "color": "#E5ECF6",
              "width": 0.5
             },
             "pattern": {
              "fillmode": "overlay",
              "size": 10,
              "solidity": 0.2
             }
            },
            "type": "bar"
           }
          ],
          "barpolar": [
           {
            "marker": {
             "line": {
              "color": "#E5ECF6",
              "width": 0.5
             },
             "pattern": {
              "fillmode": "overlay",
              "size": 10,
              "solidity": 0.2
             }
            },
            "type": "barpolar"
           }
          ],
          "carpet": [
           {
            "aaxis": {
             "endlinecolor": "#2a3f5f",
             "gridcolor": "white",
             "linecolor": "white",
             "minorgridcolor": "white",
             "startlinecolor": "#2a3f5f"
            },
            "baxis": {
             "endlinecolor": "#2a3f5f",
             "gridcolor": "white",
             "linecolor": "white",
             "minorgridcolor": "white",
             "startlinecolor": "#2a3f5f"
            },
            "type": "carpet"
           }
          ],
          "choropleth": [
           {
            "colorbar": {
             "outlinewidth": 0,
             "ticks": ""
            },
            "type": "choropleth"
           }
          ],
          "contour": [
           {
            "colorbar": {
             "outlinewidth": 0,
             "ticks": ""
            },
            "colorscale": [
             [
              0,
              "#0d0887"
             ],
             [
              0.1111111111111111,
              "#46039f"
             ],
             [
              0.2222222222222222,
              "#7201a8"
             ],
             [
              0.3333333333333333,
              "#9c179e"
             ],
             [
              0.4444444444444444,
              "#bd3786"
             ],
             [
              0.5555555555555556,
              "#d8576b"
             ],
             [
              0.6666666666666666,
              "#ed7953"
             ],
             [
              0.7777777777777778,
              "#fb9f3a"
             ],
             [
              0.8888888888888888,
              "#fdca26"
             ],
             [
              1,
              "#f0f921"
             ]
            ],
            "type": "contour"
           }
          ],
          "contourcarpet": [
           {
            "colorbar": {
             "outlinewidth": 0,
             "ticks": ""
            },
            "type": "contourcarpet"
           }
          ],
          "heatmap": [
           {
            "colorbar": {
             "outlinewidth": 0,
             "ticks": ""
            },
            "colorscale": [
             [
              0,
              "#0d0887"
             ],
             [
              0.1111111111111111,
              "#46039f"
             ],
             [
              0.2222222222222222,
              "#7201a8"
             ],
             [
              0.3333333333333333,
              "#9c179e"
             ],
             [
              0.4444444444444444,
              "#bd3786"
             ],
             [
              0.5555555555555556,
              "#d8576b"
             ],
             [
              0.6666666666666666,
              "#ed7953"
             ],
             [
              0.7777777777777778,
              "#fb9f3a"
             ],
             [
              0.8888888888888888,
              "#fdca26"
             ],
             [
              1,
              "#f0f921"
             ]
            ],
            "type": "heatmap"
           }
          ],
          "heatmapgl": [
           {
            "colorbar": {
             "outlinewidth": 0,
             "ticks": ""
            },
            "colorscale": [
             [
              0,
              "#0d0887"
             ],
             [
              0.1111111111111111,
              "#46039f"
             ],
             [
              0.2222222222222222,
              "#7201a8"
             ],
             [
              0.3333333333333333,
              "#9c179e"
             ],
             [
              0.4444444444444444,
              "#bd3786"
             ],
             [
              0.5555555555555556,
              "#d8576b"
             ],
             [
              0.6666666666666666,
              "#ed7953"
             ],
             [
              0.7777777777777778,
              "#fb9f3a"
             ],
             [
              0.8888888888888888,
              "#fdca26"
             ],
             [
              1,
              "#f0f921"
             ]
            ],
            "type": "heatmapgl"
           }
          ],
          "histogram": [
           {
            "marker": {
             "pattern": {
              "fillmode": "overlay",
              "size": 10,
              "solidity": 0.2
             }
            },
            "type": "histogram"
           }
          ],
          "histogram2d": [
           {
            "colorbar": {
             "outlinewidth": 0,
             "ticks": ""
            },
            "colorscale": [
             [
              0,
              "#0d0887"
             ],
             [
              0.1111111111111111,
              "#46039f"
             ],
             [
              0.2222222222222222,
              "#7201a8"
             ],
             [
              0.3333333333333333,
              "#9c179e"
             ],
             [
              0.4444444444444444,
              "#bd3786"
             ],
             [
              0.5555555555555556,
              "#d8576b"
             ],
             [
              0.6666666666666666,
              "#ed7953"
             ],
             [
              0.7777777777777778,
              "#fb9f3a"
             ],
             [
              0.8888888888888888,
              "#fdca26"
             ],
             [
              1,
              "#f0f921"
             ]
            ],
            "type": "histogram2d"
           }
          ],
          "histogram2dcontour": [
           {
            "colorbar": {
             "outlinewidth": 0,
             "ticks": ""
            },
            "colorscale": [
             [
              0,
              "#0d0887"
             ],
             [
              0.1111111111111111,
              "#46039f"
             ],
             [
              0.2222222222222222,
              "#7201a8"
             ],
             [
              0.3333333333333333,
              "#9c179e"
             ],
             [
              0.4444444444444444,
              "#bd3786"
             ],
             [
              0.5555555555555556,
              "#d8576b"
             ],
             [
              0.6666666666666666,
              "#ed7953"
             ],
             [
              0.7777777777777778,
              "#fb9f3a"
             ],
             [
              0.8888888888888888,
              "#fdca26"
             ],
             [
              1,
              "#f0f921"
             ]
            ],
            "type": "histogram2dcontour"
           }
          ],
          "mesh3d": [
           {
            "colorbar": {
             "outlinewidth": 0,
             "ticks": ""
            },
            "type": "mesh3d"
           }
          ],
          "parcoords": [
           {
            "line": {
             "colorbar": {
              "outlinewidth": 0,
              "ticks": ""
             }
            },
            "type": "parcoords"
           }
          ],
          "pie": [
           {
            "automargin": true,
            "type": "pie"
           }
          ],
          "scatter": [
           {
            "marker": {
             "colorbar": {
              "outlinewidth": 0,
              "ticks": ""
             }
            },
            "type": "scatter"
           }
          ],
          "scatter3d": [
           {
            "line": {
             "colorbar": {
              "outlinewidth": 0,
              "ticks": ""
             }
            },
            "marker": {
             "colorbar": {
              "outlinewidth": 0,
              "ticks": ""
             }
            },
            "type": "scatter3d"
           }
          ],
          "scattercarpet": [
           {
            "marker": {
             "colorbar": {
              "outlinewidth": 0,
              "ticks": ""
             }
            },
            "type": "scattercarpet"
           }
          ],
          "scattergeo": [
           {
            "marker": {
             "colorbar": {
              "outlinewidth": 0,
              "ticks": ""
             }
            },
            "type": "scattergeo"
           }
          ],
          "scattergl": [
           {
            "marker": {
             "colorbar": {
              "outlinewidth": 0,
              "ticks": ""
             }
            },
            "type": "scattergl"
           }
          ],
          "scattermapbox": [
           {
            "marker": {
             "colorbar": {
              "outlinewidth": 0,
              "ticks": ""
             }
            },
            "type": "scattermapbox"
           }
          ],
          "scatterpolar": [
           {
            "marker": {
             "colorbar": {
              "outlinewidth": 0,
              "ticks": ""
             }
            },
            "type": "scatterpolar"
           }
          ],
          "scatterpolargl": [
           {
            "marker": {
             "colorbar": {
              "outlinewidth": 0,
              "ticks": ""
             }
            },
            "type": "scatterpolargl"
           }
          ],
          "scatterternary": [
           {
            "marker": {
             "colorbar": {
              "outlinewidth": 0,
              "ticks": ""
             }
            },
            "type": "scatterternary"
           }
          ],
          "surface": [
           {
            "colorbar": {
             "outlinewidth": 0,
             "ticks": ""
            },
            "colorscale": [
             [
              0,
              "#0d0887"
             ],
             [
              0.1111111111111111,
              "#46039f"
             ],
             [
              0.2222222222222222,
              "#7201a8"
             ],
             [
              0.3333333333333333,
              "#9c179e"
             ],
             [
              0.4444444444444444,
              "#bd3786"
             ],
             [
              0.5555555555555556,
              "#d8576b"
             ],
             [
              0.6666666666666666,
              "#ed7953"
             ],
             [
              0.7777777777777778,
              "#fb9f3a"
             ],
             [
              0.8888888888888888,
              "#fdca26"
             ],
             [
              1,
              "#f0f921"
             ]
            ],
            "type": "surface"
           }
          ],
          "table": [
           {
            "cells": {
             "fill": {
              "color": "#EBF0F8"
             },
             "line": {
              "color": "white"
             }
            },
            "header": {
             "fill": {
              "color": "#C8D4E3"
             },
             "line": {
              "color": "white"
             }
            },
            "type": "table"
           }
          ]
         },
         "layout": {
          "annotationdefaults": {
           "arrowcolor": "#2a3f5f",
           "arrowhead": 0,
           "arrowwidth": 1
          },
          "autotypenumbers": "strict",
          "coloraxis": {
           "colorbar": {
            "outlinewidth": 0,
            "ticks": ""
           }
          },
          "colorscale": {
           "diverging": [
            [
             0,
             "#8e0152"
            ],
            [
             0.1,
             "#c51b7d"
            ],
            [
             0.2,
             "#de77ae"
            ],
            [
             0.3,
             "#f1b6da"
            ],
            [
             0.4,
             "#fde0ef"
            ],
            [
             0.5,
             "#f7f7f7"
            ],
            [
             0.6,
             "#e6f5d0"
            ],
            [
             0.7,
             "#b8e186"
            ],
            [
             0.8,
             "#7fbc41"
            ],
            [
             0.9,
             "#4d9221"
            ],
            [
             1,
             "#276419"
            ]
           ],
           "sequential": [
            [
             0,
             "#0d0887"
            ],
            [
             0.1111111111111111,
             "#46039f"
            ],
            [
             0.2222222222222222,
             "#7201a8"
            ],
            [
             0.3333333333333333,
             "#9c179e"
            ],
            [
             0.4444444444444444,
             "#bd3786"
            ],
            [
             0.5555555555555556,
             "#d8576b"
            ],
            [
             0.6666666666666666,
             "#ed7953"
            ],
            [
             0.7777777777777778,
             "#fb9f3a"
            ],
            [
             0.8888888888888888,
             "#fdca26"
            ],
            [
             1,
             "#f0f921"
            ]
           ],
           "sequentialminus": [
            [
             0,
             "#0d0887"
            ],
            [
             0.1111111111111111,
             "#46039f"
            ],
            [
             0.2222222222222222,
             "#7201a8"
            ],
            [
             0.3333333333333333,
             "#9c179e"
            ],
            [
             0.4444444444444444,
             "#bd3786"
            ],
            [
             0.5555555555555556,
             "#d8576b"
            ],
            [
             0.6666666666666666,
             "#ed7953"
            ],
            [
             0.7777777777777778,
             "#fb9f3a"
            ],
            [
             0.8888888888888888,
             "#fdca26"
            ],
            [
             1,
             "#f0f921"
            ]
           ]
          },
          "colorway": [
           "#636efa",
           "#EF553B",
           "#00cc96",
           "#ab63fa",
           "#FFA15A",
           "#19d3f3",
           "#FF6692",
           "#B6E880",
           "#FF97FF",
           "#FECB52"
          ],
          "font": {
           "color": "#2a3f5f"
          },
          "geo": {
           "bgcolor": "white",
           "lakecolor": "white",
           "landcolor": "#E5ECF6",
           "showlakes": true,
           "showland": true,
           "subunitcolor": "white"
          },
          "hoverlabel": {
           "align": "left"
          },
          "hovermode": "closest",
          "mapbox": {
           "style": "light"
          },
          "paper_bgcolor": "white",
          "plot_bgcolor": "#E5ECF6",
          "polar": {
           "angularaxis": {
            "gridcolor": "white",
            "linecolor": "white",
            "ticks": ""
           },
           "bgcolor": "#E5ECF6",
           "radialaxis": {
            "gridcolor": "white",
            "linecolor": "white",
            "ticks": ""
           }
          },
          "scene": {
           "xaxis": {
            "backgroundcolor": "#E5ECF6",
            "gridcolor": "white",
            "gridwidth": 2,
            "linecolor": "white",
            "showbackground": true,
            "ticks": "",
            "zerolinecolor": "white"
           },
           "yaxis": {
            "backgroundcolor": "#E5ECF6",
            "gridcolor": "white",
            "gridwidth": 2,
            "linecolor": "white",
            "showbackground": true,
            "ticks": "",
            "zerolinecolor": "white"
           },
           "zaxis": {
            "backgroundcolor": "#E5ECF6",
            "gridcolor": "white",
            "gridwidth": 2,
            "linecolor": "white",
            "showbackground": true,
            "ticks": "",
            "zerolinecolor": "white"
           }
          },
          "shapedefaults": {
           "line": {
            "color": "#2a3f5f"
           }
          },
          "ternary": {
           "aaxis": {
            "gridcolor": "white",
            "linecolor": "white",
            "ticks": ""
           },
           "baxis": {
            "gridcolor": "white",
            "linecolor": "white",
            "ticks": ""
           },
           "bgcolor": "#E5ECF6",
           "caxis": {
            "gridcolor": "white",
            "linecolor": "white",
            "ticks": ""
           }
          },
          "title": {
           "x": 0.05
          },
          "xaxis": {
           "automargin": true,
           "gridcolor": "white",
           "linecolor": "white",
           "ticks": "",
           "title": {
            "standoff": 15
           },
           "zerolinecolor": "white",
           "zerolinewidth": 2
          },
          "yaxis": {
           "automargin": true,
           "gridcolor": "white",
           "linecolor": "white",
           "ticks": "",
           "title": {
            "standoff": 15
           },
           "zerolinecolor": "white",
           "zerolinewidth": 2
          }
         }
        },
        "xaxis": {
         "anchor": "y",
         "constrain": "domain",
         "domain": [
          0,
          1
         ],
         "scaleanchor": "y"
        },
        "yaxis": {
         "anchor": "x",
         "autorange": "reversed",
         "constrain": "domain",
         "domain": [
          0,
          1
         ]
        }
       }
      }
     },
     "metadata": {},
     "output_type": "display_data"
    }
   ],
   "source": [
    "corr = df.corr()\n",
    "fig = px.imshow(corr)\n",
    "fig.show()"
   ]
  },
  {
   "cell_type": "code",
   "execution_count": 31,
   "metadata": {},
   "outputs": [
    {
     "data": {
      "text/html": [
       "<style  type=\"text/css\" >\n",
       "    #T_eac2c230_8371_11ec_94f4_f4d10888cdd0row0_col0 {\n",
       "            background-color:  #b40426;\n",
       "            color:  #f1f1f1;\n",
       "        }    #T_eac2c230_8371_11ec_94f4_f4d10888cdd0row0_col1 {\n",
       "            background-color:  #6788ee;\n",
       "            color:  #000000;\n",
       "        }    #T_eac2c230_8371_11ec_94f4_f4d10888cdd0row0_col2 {\n",
       "            background-color:  #86a9fc;\n",
       "            color:  #000000;\n",
       "        }    #T_eac2c230_8371_11ec_94f4_f4d10888cdd0row0_col3 {\n",
       "            background-color:  #b6cefa;\n",
       "            color:  #000000;\n",
       "        }    #T_eac2c230_8371_11ec_94f4_f4d10888cdd0row0_col4 {\n",
       "            background-color:  #adc9fd;\n",
       "            color:  #000000;\n",
       "        }    #T_eac2c230_8371_11ec_94f4_f4d10888cdd0row0_col5 {\n",
       "            background-color:  #779af7;\n",
       "            color:  #000000;\n",
       "        }    #T_eac2c230_8371_11ec_94f4_f4d10888cdd0row0_col6 {\n",
       "            background-color:  #4358cb;\n",
       "            color:  #f1f1f1;\n",
       "        }    #T_eac2c230_8371_11ec_94f4_f4d10888cdd0row0_col7 {\n",
       "            background-color:  #3b4cc0;\n",
       "            color:  #f1f1f1;\n",
       "        }    #T_eac2c230_8371_11ec_94f4_f4d10888cdd0row0_col8 {\n",
       "            background-color:  #b7cff9;\n",
       "            color:  #000000;\n",
       "        }    #T_eac2c230_8371_11ec_94f4_f4d10888cdd0row0_col9 {\n",
       "            background-color:  #dcdddd;\n",
       "            color:  #000000;\n",
       "        }    #T_eac2c230_8371_11ec_94f4_f4d10888cdd0row0_col10 {\n",
       "            background-color:  #90b2fe;\n",
       "            color:  #000000;\n",
       "        }    #T_eac2c230_8371_11ec_94f4_f4d10888cdd0row0_col11 {\n",
       "            background-color:  #d7dce3;\n",
       "            color:  #000000;\n",
       "        }    #T_eac2c230_8371_11ec_94f4_f4d10888cdd0row0_col12 {\n",
       "            background-color:  #a1c0ff;\n",
       "            color:  #000000;\n",
       "        }    #T_eac2c230_8371_11ec_94f4_f4d10888cdd0row0_col13 {\n",
       "            background-color:  #688aef;\n",
       "            color:  #000000;\n",
       "        }    #T_eac2c230_8371_11ec_94f4_f4d10888cdd0row1_col0 {\n",
       "            background-color:  #80a3fa;\n",
       "            color:  #000000;\n",
       "        }    #T_eac2c230_8371_11ec_94f4_f4d10888cdd0row1_col1 {\n",
       "            background-color:  #b40426;\n",
       "            color:  #f1f1f1;\n",
       "        }    #T_eac2c230_8371_11ec_94f4_f4d10888cdd0row1_col2 {\n",
       "            background-color:  #8caffe;\n",
       "            color:  #000000;\n",
       "        }    #T_eac2c230_8371_11ec_94f4_f4d10888cdd0row1_col3 {\n",
       "            background-color:  #516ddb;\n",
       "            color:  #000000;\n",
       "        }    #T_eac2c230_8371_11ec_94f4_f4d10888cdd0row1_col4 {\n",
       "            background-color:  #3b4cc0;\n",
       "            color:  #f1f1f1;\n",
       "        }    #T_eac2c230_8371_11ec_94f4_f4d10888cdd0row1_col5 {\n",
       "            background-color:  #5f7fe8;\n",
       "            color:  #000000;\n",
       "        }    #T_eac2c230_8371_11ec_94f4_f4d10888cdd0row1_col6 {\n",
       "            background-color:  #536edd;\n",
       "            color:  #000000;\n",
       "        }    #T_eac2c230_8371_11ec_94f4_f4d10888cdd0row1_col7 {\n",
       "            background-color:  #8db0fe;\n",
       "            color:  #000000;\n",
       "        }    #T_eac2c230_8371_11ec_94f4_f4d10888cdd0row1_col8 {\n",
       "            background-color:  #c1d4f4;\n",
       "            color:  #000000;\n",
       "        }    #T_eac2c230_8371_11ec_94f4_f4d10888cdd0row1_col9 {\n",
       "            background-color:  #c9d7f0;\n",
       "            color:  #000000;\n",
       "        }    #T_eac2c230_8371_11ec_94f4_f4d10888cdd0row1_col10 {\n",
       "            background-color:  #aec9fc;\n",
       "            color:  #000000;\n",
       "        }    #T_eac2c230_8371_11ec_94f4_f4d10888cdd0row1_col11 {\n",
       "            background-color:  #b5cdfa;\n",
       "            color:  #000000;\n",
       "        }    #T_eac2c230_8371_11ec_94f4_f4d10888cdd0row1_col12 {\n",
       "            background-color:  #c4d5f3;\n",
       "            color:  #000000;\n",
       "        }    #T_eac2c230_8371_11ec_94f4_f4d10888cdd0row1_col13 {\n",
       "            background-color:  #5b7ae5;\n",
       "            color:  #000000;\n",
       "        }    #T_eac2c230_8371_11ec_94f4_f4d10888cdd0row2_col0 {\n",
       "            background-color:  #88abfd;\n",
       "            color:  #000000;\n",
       "        }    #T_eac2c230_8371_11ec_94f4_f4d10888cdd0row2_col1 {\n",
       "            background-color:  #7597f6;\n",
       "            color:  #000000;\n",
       "        }    #T_eac2c230_8371_11ec_94f4_f4d10888cdd0row2_col2 {\n",
       "            background-color:  #b40426;\n",
       "            color:  #f1f1f1;\n",
       "        }    #T_eac2c230_8371_11ec_94f4_f4d10888cdd0row2_col3 {\n",
       "            background-color:  #7093f3;\n",
       "            color:  #000000;\n",
       "        }    #T_eac2c230_8371_11ec_94f4_f4d10888cdd0row2_col4 {\n",
       "            background-color:  #5977e3;\n",
       "            color:  #000000;\n",
       "        }    #T_eac2c230_8371_11ec_94f4_f4d10888cdd0row2_col5 {\n",
       "            background-color:  #6f92f3;\n",
       "            color:  #000000;\n",
       "        }    #T_eac2c230_8371_11ec_94f4_f4d10888cdd0row2_col6 {\n",
       "            background-color:  #7093f3;\n",
       "            color:  #000000;\n",
       "        }    #T_eac2c230_8371_11ec_94f4_f4d10888cdd0row2_col7 {\n",
       "            background-color:  #dcdddd;\n",
       "            color:  #000000;\n",
       "        }    #T_eac2c230_8371_11ec_94f4_f4d10888cdd0row2_col8 {\n",
       "            background-color:  #4358cb;\n",
       "            color:  #f1f1f1;\n",
       "        }    #T_eac2c230_8371_11ec_94f4_f4d10888cdd0row2_col9 {\n",
       "            background-color:  #94b6ff;\n",
       "            color:  #000000;\n",
       "        }    #T_eac2c230_8371_11ec_94f4_f4d10888cdd0row2_col10 {\n",
       "            background-color:  #cdd9ec;\n",
       "            color:  #000000;\n",
       "        }    #T_eac2c230_8371_11ec_94f4_f4d10888cdd0row2_col11 {\n",
       "            background-color:  #6a8bef;\n",
       "            color:  #000000;\n",
       "        }    #T_eac2c230_8371_11ec_94f4_f4d10888cdd0row2_col12 {\n",
       "            background-color:  #6485ec;\n",
       "            color:  #000000;\n",
       "        }    #T_eac2c230_8371_11ec_94f4_f4d10888cdd0row2_col13 {\n",
       "            background-color:  #f2c9b4;\n",
       "            color:  #000000;\n",
       "        }    #T_eac2c230_8371_11ec_94f4_f4d10888cdd0row3_col0 {\n",
       "            background-color:  #d9dce1;\n",
       "            color:  #000000;\n",
       "        }    #T_eac2c230_8371_11ec_94f4_f4d10888cdd0row3_col1 {\n",
       "            background-color:  #7295f4;\n",
       "            color:  #000000;\n",
       "        }    #T_eac2c230_8371_11ec_94f4_f4d10888cdd0row3_col2 {\n",
       "            background-color:  #a5c3fe;\n",
       "            color:  #000000;\n",
       "        }    #T_eac2c230_8371_11ec_94f4_f4d10888cdd0row3_col3 {\n",
       "            background-color:  #b40426;\n",
       "            color:  #f1f1f1;\n",
       "        }    #T_eac2c230_8371_11ec_94f4_f4d10888cdd0row3_col4 {\n",
       "            background-color:  #93b5fe;\n",
       "            color:  #000000;\n",
       "        }    #T_eac2c230_8371_11ec_94f4_f4d10888cdd0row3_col5 {\n",
       "            background-color:  #89acfd;\n",
       "            color:  #000000;\n",
       "        }    #T_eac2c230_8371_11ec_94f4_f4d10888cdd0row3_col6 {\n",
       "            background-color:  #445acc;\n",
       "            color:  #f1f1f1;\n",
       "        }    #T_eac2c230_8371_11ec_94f4_f4d10888cdd0row3_col7 {\n",
       "            background-color:  #8db0fe;\n",
       "            color:  #000000;\n",
       "        }    #T_eac2c230_8371_11ec_94f4_f4d10888cdd0row3_col8 {\n",
       "            background-color:  #afcafc;\n",
       "            color:  #000000;\n",
       "        }    #T_eac2c230_8371_11ec_94f4_f4d10888cdd0row3_col9 {\n",
       "            background-color:  #dadce0;\n",
       "            color:  #000000;\n",
       "        }    #T_eac2c230_8371_11ec_94f4_f4d10888cdd0row3_col10 {\n",
       "            background-color:  #9bbcff;\n",
       "            color:  #000000;\n",
       "        }    #T_eac2c230_8371_11ec_94f4_f4d10888cdd0row3_col11 {\n",
       "            background-color:  #b1cbfc;\n",
       "            color:  #000000;\n",
       "        }    #T_eac2c230_8371_11ec_94f4_f4d10888cdd0row3_col12 {\n",
       "            background-color:  #9fbfff;\n",
       "            color:  #000000;\n",
       "        }    #T_eac2c230_8371_11ec_94f4_f4d10888cdd0row3_col13 {\n",
       "            background-color:  #7b9ff9;\n",
       "            color:  #000000;\n",
       "        }    #T_eac2c230_8371_11ec_94f4_f4d10888cdd0row4_col0 {\n",
       "            background-color:  #ccd9ed;\n",
       "            color:  #000000;\n",
       "        }    #T_eac2c230_8371_11ec_94f4_f4d10888cdd0row4_col1 {\n",
       "            background-color:  #4e68d8;\n",
       "            color:  #000000;\n",
       "        }    #T_eac2c230_8371_11ec_94f4_f4d10888cdd0row4_col2 {\n",
       "            background-color:  #85a8fc;\n",
       "            color:  #000000;\n",
       "        }    #T_eac2c230_8371_11ec_94f4_f4d10888cdd0row4_col3 {\n",
       "            background-color:  #86a9fc;\n",
       "            color:  #000000;\n",
       "        }    #T_eac2c230_8371_11ec_94f4_f4d10888cdd0row4_col4 {\n",
       "            background-color:  #b40426;\n",
       "            color:  #f1f1f1;\n",
       "        }    #T_eac2c230_8371_11ec_94f4_f4d10888cdd0row4_col5 {\n",
       "            background-color:  #5673e0;\n",
       "            color:  #000000;\n",
       "        }    #T_eac2c230_8371_11ec_94f4_f4d10888cdd0row4_col6 {\n",
       "            background-color:  #3b4cc0;\n",
       "            color:  #f1f1f1;\n",
       "        }    #T_eac2c230_8371_11ec_94f4_f4d10888cdd0row4_col7 {\n",
       "            background-color:  #97b8ff;\n",
       "            color:  #000000;\n",
       "        }    #T_eac2c230_8371_11ec_94f4_f4d10888cdd0row4_col8 {\n",
       "            background-color:  #afcafc;\n",
       "            color:  #000000;\n",
       "        }    #T_eac2c230_8371_11ec_94f4_f4d10888cdd0row4_col9 {\n",
       "            background-color:  #c0d4f5;\n",
       "            color:  #000000;\n",
       "        }    #T_eac2c230_8371_11ec_94f4_f4d10888cdd0row4_col10 {\n",
       "            background-color:  #b5cdfa;\n",
       "            color:  #000000;\n",
       "        }    #T_eac2c230_8371_11ec_94f4_f4d10888cdd0row4_col11 {\n",
       "            background-color:  #aac7fd;\n",
       "            color:  #000000;\n",
       "        }    #T_eac2c230_8371_11ec_94f4_f4d10888cdd0row4_col12 {\n",
       "            background-color:  #a9c6fd;\n",
       "            color:  #000000;\n",
       "        }    #T_eac2c230_8371_11ec_94f4_f4d10888cdd0row4_col13 {\n",
       "            background-color:  #8badfd;\n",
       "            color:  #000000;\n",
       "        }    #T_eac2c230_8371_11ec_94f4_f4d10888cdd0row5_col0 {\n",
       "            background-color:  #b7cff9;\n",
       "            color:  #000000;\n",
       "        }    #T_eac2c230_8371_11ec_94f4_f4d10888cdd0row5_col1 {\n",
       "            background-color:  #8fb1fe;\n",
       "            color:  #000000;\n",
       "        }    #T_eac2c230_8371_11ec_94f4_f4d10888cdd0row5_col2 {\n",
       "            background-color:  #afcafc;\n",
       "            color:  #000000;\n",
       "        }    #T_eac2c230_8371_11ec_94f4_f4d10888cdd0row5_col3 {\n",
       "            background-color:  #98b9ff;\n",
       "            color:  #000000;\n",
       "        }    #T_eac2c230_8371_11ec_94f4_f4d10888cdd0row5_col4 {\n",
       "            background-color:  #7396f5;\n",
       "            color:  #000000;\n",
       "        }    #T_eac2c230_8371_11ec_94f4_f4d10888cdd0row5_col5 {\n",
       "            background-color:  #b40426;\n",
       "            color:  #f1f1f1;\n",
       "        }    #T_eac2c230_8371_11ec_94f4_f4d10888cdd0row5_col6 {\n",
       "            background-color:  #4b64d5;\n",
       "            color:  #f1f1f1;\n",
       "        }    #T_eac2c230_8371_11ec_94f4_f4d10888cdd0row5_col7 {\n",
       "            background-color:  #97b8ff;\n",
       "            color:  #000000;\n",
       "        }    #T_eac2c230_8371_11ec_94f4_f4d10888cdd0row5_col8 {\n",
       "            background-color:  #a6c4fe;\n",
       "            color:  #000000;\n",
       "        }    #T_eac2c230_8371_11ec_94f4_f4d10888cdd0row5_col9 {\n",
       "            background-color:  #b6cefa;\n",
       "            color:  #000000;\n",
       "        }    #T_eac2c230_8371_11ec_94f4_f4d10888cdd0row5_col10 {\n",
       "            background-color:  #a9c6fd;\n",
       "            color:  #000000;\n",
       "        }    #T_eac2c230_8371_11ec_94f4_f4d10888cdd0row5_col11 {\n",
       "            background-color:  #bad0f8;\n",
       "            color:  #000000;\n",
       "        }    #T_eac2c230_8371_11ec_94f4_f4d10888cdd0row5_col12 {\n",
       "            background-color:  #86a9fc;\n",
       "            color:  #000000;\n",
       "        }    #T_eac2c230_8371_11ec_94f4_f4d10888cdd0row5_col13 {\n",
       "            background-color:  #98b9ff;\n",
       "            color:  #000000;\n",
       "        }    #T_eac2c230_8371_11ec_94f4_f4d10888cdd0row6_col0 {\n",
       "            background-color:  #7b9ff9;\n",
       "            color:  #000000;\n",
       "        }    #T_eac2c230_8371_11ec_94f4_f4d10888cdd0row6_col1 {\n",
       "            background-color:  #7295f4;\n",
       "            color:  #000000;\n",
       "        }    #T_eac2c230_8371_11ec_94f4_f4d10888cdd0row6_col2 {\n",
       "            background-color:  #a3c2fe;\n",
       "            color:  #000000;\n",
       "        }    #T_eac2c230_8371_11ec_94f4_f4d10888cdd0row6_col3 {\n",
       "            background-color:  #4257c9;\n",
       "            color:  #f1f1f1;\n",
       "        }    #T_eac2c230_8371_11ec_94f4_f4d10888cdd0row6_col4 {\n",
       "            background-color:  #465ecf;\n",
       "            color:  #f1f1f1;\n",
       "        }    #T_eac2c230_8371_11ec_94f4_f4d10888cdd0row6_col5 {\n",
       "            background-color:  #3b4cc0;\n",
       "            color:  #f1f1f1;\n",
       "        }    #T_eac2c230_8371_11ec_94f4_f4d10888cdd0row6_col6 {\n",
       "            background-color:  #b40426;\n",
       "            color:  #f1f1f1;\n",
       "        }    #T_eac2c230_8371_11ec_94f4_f4d10888cdd0row6_col7 {\n",
       "            background-color:  #a5c3fe;\n",
       "            color:  #000000;\n",
       "        }    #T_eac2c230_8371_11ec_94f4_f4d10888cdd0row6_col8 {\n",
       "            background-color:  #8fb1fe;\n",
       "            color:  #000000;\n",
       "        }    #T_eac2c230_8371_11ec_94f4_f4d10888cdd0row6_col9 {\n",
       "            background-color:  #a9c6fd;\n",
       "            color:  #000000;\n",
       "        }    #T_eac2c230_8371_11ec_94f4_f4d10888cdd0row6_col10 {\n",
       "            background-color:  #c7d7f0;\n",
       "            color:  #000000;\n",
       "        }    #T_eac2c230_8371_11ec_94f4_f4d10888cdd0row6_col11 {\n",
       "            background-color:  #85a8fc;\n",
       "            color:  #000000;\n",
       "        }    #T_eac2c230_8371_11ec_94f4_f4d10888cdd0row6_col12 {\n",
       "            background-color:  #8caffe;\n",
       "            color:  #000000;\n",
       "        }    #T_eac2c230_8371_11ec_94f4_f4d10888cdd0row6_col13 {\n",
       "            background-color:  #c0d4f5;\n",
       "            color:  #000000;\n",
       "        }    #T_eac2c230_8371_11ec_94f4_f4d10888cdd0row7_col0 {\n",
       "            background-color:  #3b4cc0;\n",
       "            color:  #f1f1f1;\n",
       "        }    #T_eac2c230_8371_11ec_94f4_f4d10888cdd0row7_col1 {\n",
       "            background-color:  #7699f6;\n",
       "            color:  #000000;\n",
       "        }    #T_eac2c230_8371_11ec_94f4_f4d10888cdd0row7_col2 {\n",
       "            background-color:  #dbdcde;\n",
       "            color:  #000000;\n",
       "        }    #T_eac2c230_8371_11ec_94f4_f4d10888cdd0row7_col3 {\n",
       "            background-color:  #5470de;\n",
       "            color:  #000000;\n",
       "        }    #T_eac2c230_8371_11ec_94f4_f4d10888cdd0row7_col4 {\n",
       "            background-color:  #6c8ff1;\n",
       "            color:  #000000;\n",
       "        }    #T_eac2c230_8371_11ec_94f4_f4d10888cdd0row7_col5 {\n",
       "            background-color:  #4f69d9;\n",
       "            color:  #000000;\n",
       "        }    #T_eac2c230_8371_11ec_94f4_f4d10888cdd0row7_col6 {\n",
       "            background-color:  #7093f3;\n",
       "            color:  #000000;\n",
       "        }    #T_eac2c230_8371_11ec_94f4_f4d10888cdd0row7_col7 {\n",
       "            background-color:  #b40426;\n",
       "            color:  #f1f1f1;\n",
       "        }    #T_eac2c230_8371_11ec_94f4_f4d10888cdd0row7_col8 {\n",
       "            background-color:  #465ecf;\n",
       "            color:  #f1f1f1;\n",
       "        }    #T_eac2c230_8371_11ec_94f4_f4d10888cdd0row7_col9 {\n",
       "            background-color:  #688aef;\n",
       "            color:  #000000;\n",
       "        }    #T_eac2c230_8371_11ec_94f4_f4d10888cdd0row7_col10 {\n",
       "            background-color:  #f3c8b2;\n",
       "            color:  #000000;\n",
       "        }    #T_eac2c230_8371_11ec_94f4_f4d10888cdd0row7_col11 {\n",
       "            background-color:  #6282ea;\n",
       "            color:  #000000;\n",
       "        }    #T_eac2c230_8371_11ec_94f4_f4d10888cdd0row7_col12 {\n",
       "            background-color:  #7699f6;\n",
       "            color:  #000000;\n",
       "        }    #T_eac2c230_8371_11ec_94f4_f4d10888cdd0row7_col13 {\n",
       "            background-color:  #f1ccb8;\n",
       "            color:  #000000;\n",
       "        }    #T_eac2c230_8371_11ec_94f4_f4d10888cdd0row8_col0 {\n",
       "            background-color:  #b1cbfc;\n",
       "            color:  #000000;\n",
       "        }    #T_eac2c230_8371_11ec_94f4_f4d10888cdd0row8_col1 {\n",
       "            background-color:  #a9c6fd;\n",
       "            color:  #000000;\n",
       "        }    #T_eac2c230_8371_11ec_94f4_f4d10888cdd0row8_col2 {\n",
       "            background-color:  #3b4cc0;\n",
       "            color:  #f1f1f1;\n",
       "        }    #T_eac2c230_8371_11ec_94f4_f4d10888cdd0row8_col3 {\n",
       "            background-color:  #7699f6;\n",
       "            color:  #000000;\n",
       "        }    #T_eac2c230_8371_11ec_94f4_f4d10888cdd0row8_col4 {\n",
       "            background-color:  #82a6fb;\n",
       "            color:  #000000;\n",
       "        }    #T_eac2c230_8371_11ec_94f4_f4d10888cdd0row8_col5 {\n",
       "            background-color:  #5977e3;\n",
       "            color:  #000000;\n",
       "        }    #T_eac2c230_8371_11ec_94f4_f4d10888cdd0row8_col6 {\n",
       "            background-color:  #4f69d9;\n",
       "            color:  #000000;\n",
       "        }    #T_eac2c230_8371_11ec_94f4_f4d10888cdd0row8_col7 {\n",
       "            background-color:  #3e51c5;\n",
       "            color:  #f1f1f1;\n",
       "        }    #T_eac2c230_8371_11ec_94f4_f4d10888cdd0row8_col8 {\n",
       "            background-color:  #b40426;\n",
       "            color:  #f1f1f1;\n",
       "        }    #T_eac2c230_8371_11ec_94f4_f4d10888cdd0row8_col9 {\n",
       "            background-color:  #e9d5cb;\n",
       "            color:  #000000;\n",
       "        }    #T_eac2c230_8371_11ec_94f4_f4d10888cdd0row8_col10 {\n",
       "            background-color:  #7b9ff9;\n",
       "            color:  #000000;\n",
       "        }    #T_eac2c230_8371_11ec_94f4_f4d10888cdd0row8_col11 {\n",
       "            background-color:  #b5cdfa;\n",
       "            color:  #000000;\n",
       "        }    #T_eac2c230_8371_11ec_94f4_f4d10888cdd0row8_col12 {\n",
       "            background-color:  #c3d5f4;\n",
       "            color:  #000000;\n",
       "        }    #T_eac2c230_8371_11ec_94f4_f4d10888cdd0row8_col13 {\n",
       "            background-color:  #3b4cc0;\n",
       "            color:  #f1f1f1;\n",
       "        }    #T_eac2c230_8371_11ec_94f4_f4d10888cdd0row9_col0 {\n",
       "            background-color:  #cbd8ee;\n",
       "            color:  #000000;\n",
       "        }    #T_eac2c230_8371_11ec_94f4_f4d10888cdd0row9_col1 {\n",
       "            background-color:  #9dbdff;\n",
       "            color:  #000000;\n",
       "        }    #T_eac2c230_8371_11ec_94f4_f4d10888cdd0row9_col2 {\n",
       "            background-color:  #7295f4;\n",
       "            color:  #000000;\n",
       "        }    #T_eac2c230_8371_11ec_94f4_f4d10888cdd0row9_col3 {\n",
       "            background-color:  #9dbdff;\n",
       "            color:  #000000;\n",
       "        }    #T_eac2c230_8371_11ec_94f4_f4d10888cdd0row9_col4 {\n",
       "            background-color:  #7ea1fa;\n",
       "            color:  #000000;\n",
       "        }    #T_eac2c230_8371_11ec_94f4_f4d10888cdd0row9_col5 {\n",
       "            background-color:  #5470de;\n",
       "            color:  #000000;\n",
       "        }    #T_eac2c230_8371_11ec_94f4_f4d10888cdd0row9_col6 {\n",
       "            background-color:  #536edd;\n",
       "            color:  #000000;\n",
       "        }    #T_eac2c230_8371_11ec_94f4_f4d10888cdd0row9_col7 {\n",
       "            background-color:  #455cce;\n",
       "            color:  #f1f1f1;\n",
       "        }    #T_eac2c230_8371_11ec_94f4_f4d10888cdd0row9_col8 {\n",
       "            background-color:  #dedcdb;\n",
       "            color:  #000000;\n",
       "        }    #T_eac2c230_8371_11ec_94f4_f4d10888cdd0row9_col9 {\n",
       "            background-color:  #b40426;\n",
       "            color:  #f1f1f1;\n",
       "        }    #T_eac2c230_8371_11ec_94f4_f4d10888cdd0row9_col10 {\n",
       "            background-color:  #3b4cc0;\n",
       "            color:  #f1f1f1;\n",
       "        }    #T_eac2c230_8371_11ec_94f4_f4d10888cdd0row9_col11 {\n",
       "            background-color:  #cdd9ec;\n",
       "            color:  #000000;\n",
       "        }    #T_eac2c230_8371_11ec_94f4_f4d10888cdd0row9_col12 {\n",
       "            background-color:  #c4d5f3;\n",
       "            color:  #000000;\n",
       "        }    #T_eac2c230_8371_11ec_94f4_f4d10888cdd0row9_col13 {\n",
       "            background-color:  #3c4ec2;\n",
       "            color:  #f1f1f1;\n",
       "        }    #T_eac2c230_8371_11ec_94f4_f4d10888cdd0row10_col0 {\n",
       "            background-color:  #6f92f3;\n",
       "            color:  #000000;\n",
       "        }    #T_eac2c230_8371_11ec_94f4_f4d10888cdd0row10_col1 {\n",
       "            background-color:  #7a9df8;\n",
       "            color:  #000000;\n",
       "        }    #T_eac2c230_8371_11ec_94f4_f4d10888cdd0row10_col2 {\n",
       "            background-color:  #b6cefa;\n",
       "            color:  #000000;\n",
       "        }    #T_eac2c230_8371_11ec_94f4_f4d10888cdd0row10_col3 {\n",
       "            background-color:  #4055c8;\n",
       "            color:  #f1f1f1;\n",
       "        }    #T_eac2c230_8371_11ec_94f4_f4d10888cdd0row10_col4 {\n",
       "            background-color:  #6e90f2;\n",
       "            color:  #000000;\n",
       "        }    #T_eac2c230_8371_11ec_94f4_f4d10888cdd0row10_col5 {\n",
       "            background-color:  #4055c8;\n",
       "            color:  #f1f1f1;\n",
       "        }    #T_eac2c230_8371_11ec_94f4_f4d10888cdd0row10_col6 {\n",
       "            background-color:  #80a3fa;\n",
       "            color:  #000000;\n",
       "        }    #T_eac2c230_8371_11ec_94f4_f4d10888cdd0row10_col7 {\n",
       "            background-color:  #ebd3c6;\n",
       "            color:  #000000;\n",
       "        }    #T_eac2c230_8371_11ec_94f4_f4d10888cdd0row10_col8 {\n",
       "            background-color:  #6180e9;\n",
       "            color:  #000000;\n",
       "        }    #T_eac2c230_8371_11ec_94f4_f4d10888cdd0row10_col9 {\n",
       "            background-color:  #3b4cc0;\n",
       "            color:  #f1f1f1;\n",
       "        }    #T_eac2c230_8371_11ec_94f4_f4d10888cdd0row10_col10 {\n",
       "            background-color:  #b40426;\n",
       "            color:  #f1f1f1;\n",
       "        }    #T_eac2c230_8371_11ec_94f4_f4d10888cdd0row10_col11 {\n",
       "            background-color:  #84a7fc;\n",
       "            color:  #000000;\n",
       "        }    #T_eac2c230_8371_11ec_94f4_f4d10888cdd0row10_col12 {\n",
       "            background-color:  #7396f5;\n",
       "            color:  #000000;\n",
       "        }    #T_eac2c230_8371_11ec_94f4_f4d10888cdd0row10_col13 {\n",
       "            background-color:  #e8d6cc;\n",
       "            color:  #000000;\n",
       "        }    #T_eac2c230_8371_11ec_94f4_f4d10888cdd0row11_col0 {\n",
       "            background-color:  #d8dce2;\n",
       "            color:  #000000;\n",
       "        }    #T_eac2c230_8371_11ec_94f4_f4d10888cdd0row11_col1 {\n",
       "            background-color:  #a2c1ff;\n",
       "            color:  #000000;\n",
       "        }    #T_eac2c230_8371_11ec_94f4_f4d10888cdd0row11_col2 {\n",
       "            background-color:  #6b8df0;\n",
       "            color:  #000000;\n",
       "        }    #T_eac2c230_8371_11ec_94f4_f4d10888cdd0row11_col3 {\n",
       "            background-color:  #81a4fb;\n",
       "            color:  #000000;\n",
       "        }    #T_eac2c230_8371_11ec_94f4_f4d10888cdd0row11_col4 {\n",
       "            background-color:  #84a7fc;\n",
       "            color:  #000000;\n",
       "        }    #T_eac2c230_8371_11ec_94f4_f4d10888cdd0row11_col5 {\n",
       "            background-color:  #7da0f9;\n",
       "            color:  #000000;\n",
       "        }    #T_eac2c230_8371_11ec_94f4_f4d10888cdd0row11_col6 {\n",
       "            background-color:  #4f69d9;\n",
       "            color:  #000000;\n",
       "        }    #T_eac2c230_8371_11ec_94f4_f4d10888cdd0row11_col7 {\n",
       "            background-color:  #6384eb;\n",
       "            color:  #000000;\n",
       "        }    #T_eac2c230_8371_11ec_94f4_f4d10888cdd0row11_col8 {\n",
       "            background-color:  #bbd1f8;\n",
       "            color:  #000000;\n",
       "        }    #T_eac2c230_8371_11ec_94f4_f4d10888cdd0row11_col9 {\n",
       "            background-color:  #dedcdb;\n",
       "            color:  #000000;\n",
       "        }    #T_eac2c230_8371_11ec_94f4_f4d10888cdd0row11_col10 {\n",
       "            background-color:  #a3c2fe;\n",
       "            color:  #000000;\n",
       "        }    #T_eac2c230_8371_11ec_94f4_f4d10888cdd0row11_col11 {\n",
       "            background-color:  #b40426;\n",
       "            color:  #f1f1f1;\n",
       "        }    #T_eac2c230_8371_11ec_94f4_f4d10888cdd0row11_col12 {\n",
       "            background-color:  #b6cefa;\n",
       "            color:  #000000;\n",
       "        }    #T_eac2c230_8371_11ec_94f4_f4d10888cdd0row11_col13 {\n",
       "            background-color:  #445acc;\n",
       "            color:  #f1f1f1;\n",
       "        }    #T_eac2c230_8371_11ec_94f4_f4d10888cdd0row12_col0 {\n",
       "            background-color:  #aac7fd;\n",
       "            color:  #000000;\n",
       "        }    #T_eac2c230_8371_11ec_94f4_f4d10888cdd0row12_col1 {\n",
       "            background-color:  #bbd1f8;\n",
       "            color:  #000000;\n",
       "        }    #T_eac2c230_8371_11ec_94f4_f4d10888cdd0row12_col2 {\n",
       "            background-color:  #6f92f3;\n",
       "            color:  #000000;\n",
       "        }    #T_eac2c230_8371_11ec_94f4_f4d10888cdd0row12_col3 {\n",
       "            background-color:  #7597f6;\n",
       "            color:  #000000;\n",
       "        }    #T_eac2c230_8371_11ec_94f4_f4d10888cdd0row12_col4 {\n",
       "            background-color:  #8caffe;\n",
       "            color:  #000000;\n",
       "        }    #T_eac2c230_8371_11ec_94f4_f4d10888cdd0row12_col5 {\n",
       "            background-color:  #4961d2;\n",
       "            color:  #f1f1f1;\n",
       "        }    #T_eac2c230_8371_11ec_94f4_f4d10888cdd0row12_col6 {\n",
       "            background-color:  #5f7fe8;\n",
       "            color:  #000000;\n",
       "        }    #T_eac2c230_8371_11ec_94f4_f4d10888cdd0row12_col7 {\n",
       "            background-color:  #81a4fb;\n",
       "            color:  #000000;\n",
       "        }    #T_eac2c230_8371_11ec_94f4_f4d10888cdd0row12_col8 {\n",
       "            background-color:  #cedaeb;\n",
       "            color:  #000000;\n",
       "        }    #T_eac2c230_8371_11ec_94f4_f4d10888cdd0row12_col9 {\n",
       "            background-color:  #dcdddd;\n",
       "            color:  #000000;\n",
       "        }    #T_eac2c230_8371_11ec_94f4_f4d10888cdd0row12_col10 {\n",
       "            background-color:  #9ebeff;\n",
       "            color:  #000000;\n",
       "        }    #T_eac2c230_8371_11ec_94f4_f4d10888cdd0row12_col11 {\n",
       "            background-color:  #bcd2f7;\n",
       "            color:  #000000;\n",
       "        }    #T_eac2c230_8371_11ec_94f4_f4d10888cdd0row12_col12 {\n",
       "            background-color:  #b40426;\n",
       "            color:  #f1f1f1;\n",
       "        }    #T_eac2c230_8371_11ec_94f4_f4d10888cdd0row12_col13 {\n",
       "            background-color:  #4e68d8;\n",
       "            color:  #000000;\n",
       "        }    #T_eac2c230_8371_11ec_94f4_f4d10888cdd0row13_col0 {\n",
       "            background-color:  #6180e9;\n",
       "            color:  #000000;\n",
       "        }    #T_eac2c230_8371_11ec_94f4_f4d10888cdd0row13_col1 {\n",
       "            background-color:  #3b4cc0;\n",
       "            color:  #f1f1f1;\n",
       "        }    #T_eac2c230_8371_11ec_94f4_f4d10888cdd0row13_col2 {\n",
       "            background-color:  #f1ccb8;\n",
       "            color:  #000000;\n",
       "        }    #T_eac2c230_8371_11ec_94f4_f4d10888cdd0row13_col3 {\n",
       "            background-color:  #3b4cc0;\n",
       "            color:  #f1f1f1;\n",
       "        }    #T_eac2c230_8371_11ec_94f4_f4d10888cdd0row13_col4 {\n",
       "            background-color:  #5875e1;\n",
       "            color:  #000000;\n",
       "        }    #T_eac2c230_8371_11ec_94f4_f4d10888cdd0row13_col5 {\n",
       "            background-color:  #4a63d3;\n",
       "            color:  #f1f1f1;\n",
       "        }    #T_eac2c230_8371_11ec_94f4_f4d10888cdd0row13_col6 {\n",
       "            background-color:  #8db0fe;\n",
       "            color:  #000000;\n",
       "        }    #T_eac2c230_8371_11ec_94f4_f4d10888cdd0row13_col7 {\n",
       "            background-color:  #f0cdbb;\n",
       "            color:  #000000;\n",
       "        }    #T_eac2c230_8371_11ec_94f4_f4d10888cdd0row13_col8 {\n",
       "            background-color:  #3b4cc0;\n",
       "            color:  #f1f1f1;\n",
       "        }    #T_eac2c230_8371_11ec_94f4_f4d10888cdd0row13_col9 {\n",
       "            background-color:  #5673e0;\n",
       "            color:  #000000;\n",
       "        }    #T_eac2c230_8371_11ec_94f4_f4d10888cdd0row13_col10 {\n",
       "            background-color:  #efcebd;\n",
       "            color:  #000000;\n",
       "        }    #T_eac2c230_8371_11ec_94f4_f4d10888cdd0row13_col11 {\n",
       "            background-color:  #3b4cc0;\n",
       "            color:  #f1f1f1;\n",
       "        }    #T_eac2c230_8371_11ec_94f4_f4d10888cdd0row13_col12 {\n",
       "            background-color:  #3b4cc0;\n",
       "            color:  #f1f1f1;\n",
       "        }    #T_eac2c230_8371_11ec_94f4_f4d10888cdd0row13_col13 {\n",
       "            background-color:  #b40426;\n",
       "            color:  #f1f1f1;\n",
       "        }</style><table id=\"T_eac2c230_8371_11ec_94f4_f4d10888cdd0\" ><thead>    <tr>        <th class=\"blank level0\" ></th>        <th class=\"col_heading level0 col0\" >age</th>        <th class=\"col_heading level0 col1\" >sex</th>        <th class=\"col_heading level0 col2\" >cp</th>        <th class=\"col_heading level0 col3\" >trtbps</th>        <th class=\"col_heading level0 col4\" >chol</th>        <th class=\"col_heading level0 col5\" >fbs</th>        <th class=\"col_heading level0 col6\" >restecg</th>        <th class=\"col_heading level0 col7\" >thalachh</th>        <th class=\"col_heading level0 col8\" >exng</th>        <th class=\"col_heading level0 col9\" >oldpeak</th>        <th class=\"col_heading level0 col10\" >slp</th>        <th class=\"col_heading level0 col11\" >caa</th>        <th class=\"col_heading level0 col12\" >thall</th>        <th class=\"col_heading level0 col13\" >output</th>    </tr></thead><tbody>\n",
       "                <tr>\n",
       "                        <th id=\"T_eac2c230_8371_11ec_94f4_f4d10888cdd0level0_row0\" class=\"row_heading level0 row0\" >age</th>\n",
       "                        <td id=\"T_eac2c230_8371_11ec_94f4_f4d10888cdd0row0_col0\" class=\"data row0 col0\" >1.000000</td>\n",
       "                        <td id=\"T_eac2c230_8371_11ec_94f4_f4d10888cdd0row0_col1\" class=\"data row0 col1\" >-0.098447</td>\n",
       "                        <td id=\"T_eac2c230_8371_11ec_94f4_f4d10888cdd0row0_col2\" class=\"data row0 col2\" >-0.068653</td>\n",
       "                        <td id=\"T_eac2c230_8371_11ec_94f4_f4d10888cdd0row0_col3\" class=\"data row0 col3\" >0.279351</td>\n",
       "                        <td id=\"T_eac2c230_8371_11ec_94f4_f4d10888cdd0row0_col4\" class=\"data row0 col4\" >0.213678</td>\n",
       "                        <td id=\"T_eac2c230_8371_11ec_94f4_f4d10888cdd0row0_col5\" class=\"data row0 col5\" >0.121308</td>\n",
       "                        <td id=\"T_eac2c230_8371_11ec_94f4_f4d10888cdd0row0_col6\" class=\"data row0 col6\" >-0.116211</td>\n",
       "                        <td id=\"T_eac2c230_8371_11ec_94f4_f4d10888cdd0row0_col7\" class=\"data row0 col7\" >-0.398522</td>\n",
       "                        <td id=\"T_eac2c230_8371_11ec_94f4_f4d10888cdd0row0_col8\" class=\"data row0 col8\" >0.096801</td>\n",
       "                        <td id=\"T_eac2c230_8371_11ec_94f4_f4d10888cdd0row0_col9\" class=\"data row0 col9\" >0.210013</td>\n",
       "                        <td id=\"T_eac2c230_8371_11ec_94f4_f4d10888cdd0row0_col10\" class=\"data row0 col10\" >-0.168814</td>\n",
       "                        <td id=\"T_eac2c230_8371_11ec_94f4_f4d10888cdd0row0_col11\" class=\"data row0 col11\" >0.276326</td>\n",
       "                        <td id=\"T_eac2c230_8371_11ec_94f4_f4d10888cdd0row0_col12\" class=\"data row0 col12\" >0.068001</td>\n",
       "                        <td id=\"T_eac2c230_8371_11ec_94f4_f4d10888cdd0row0_col13\" class=\"data row0 col13\" >-0.225439</td>\n",
       "            </tr>\n",
       "            <tr>\n",
       "                        <th id=\"T_eac2c230_8371_11ec_94f4_f4d10888cdd0level0_row1\" class=\"row_heading level0 row1\" >sex</th>\n",
       "                        <td id=\"T_eac2c230_8371_11ec_94f4_f4d10888cdd0row1_col0\" class=\"data row1 col0\" >-0.098447</td>\n",
       "                        <td id=\"T_eac2c230_8371_11ec_94f4_f4d10888cdd0row1_col1\" class=\"data row1 col1\" >1.000000</td>\n",
       "                        <td id=\"T_eac2c230_8371_11ec_94f4_f4d10888cdd0row1_col2\" class=\"data row1 col2\" >-0.049353</td>\n",
       "                        <td id=\"T_eac2c230_8371_11ec_94f4_f4d10888cdd0row1_col3\" class=\"data row1 col3\" >-0.056769</td>\n",
       "                        <td id=\"T_eac2c230_8371_11ec_94f4_f4d10888cdd0row1_col4\" class=\"data row1 col4\" >-0.197912</td>\n",
       "                        <td id=\"T_eac2c230_8371_11ec_94f4_f4d10888cdd0row1_col5\" class=\"data row1 col5\" >0.045032</td>\n",
       "                        <td id=\"T_eac2c230_8371_11ec_94f4_f4d10888cdd0row1_col6\" class=\"data row1 col6\" >-0.058196</td>\n",
       "                        <td id=\"T_eac2c230_8371_11ec_94f4_f4d10888cdd0row1_col7\" class=\"data row1 col7\" >-0.044020</td>\n",
       "                        <td id=\"T_eac2c230_8371_11ec_94f4_f4d10888cdd0row1_col8\" class=\"data row1 col8\" >0.141664</td>\n",
       "                        <td id=\"T_eac2c230_8371_11ec_94f4_f4d10888cdd0row1_col9\" class=\"data row1 col9\" >0.096093</td>\n",
       "                        <td id=\"T_eac2c230_8371_11ec_94f4_f4d10888cdd0row1_col10\" class=\"data row1 col10\" >-0.030711</td>\n",
       "                        <td id=\"T_eac2c230_8371_11ec_94f4_f4d10888cdd0row1_col11\" class=\"data row1 col11\" >0.118261</td>\n",
       "                        <td id=\"T_eac2c230_8371_11ec_94f4_f4d10888cdd0row1_col12\" class=\"data row1 col12\" >0.210041</td>\n",
       "                        <td id=\"T_eac2c230_8371_11ec_94f4_f4d10888cdd0row1_col13\" class=\"data row1 col13\" >-0.280937</td>\n",
       "            </tr>\n",
       "            <tr>\n",
       "                        <th id=\"T_eac2c230_8371_11ec_94f4_f4d10888cdd0level0_row2\" class=\"row_heading level0 row2\" >cp</th>\n",
       "                        <td id=\"T_eac2c230_8371_11ec_94f4_f4d10888cdd0row2_col0\" class=\"data row2 col0\" >-0.068653</td>\n",
       "                        <td id=\"T_eac2c230_8371_11ec_94f4_f4d10888cdd0row2_col1\" class=\"data row2 col1\" >-0.049353</td>\n",
       "                        <td id=\"T_eac2c230_8371_11ec_94f4_f4d10888cdd0row2_col2\" class=\"data row2 col2\" >1.000000</td>\n",
       "                        <td id=\"T_eac2c230_8371_11ec_94f4_f4d10888cdd0row2_col3\" class=\"data row2 col3\" >0.047608</td>\n",
       "                        <td id=\"T_eac2c230_8371_11ec_94f4_f4d10888cdd0row2_col4\" class=\"data row2 col4\" >-0.076904</td>\n",
       "                        <td id=\"T_eac2c230_8371_11ec_94f4_f4d10888cdd0row2_col5\" class=\"data row2 col5\" >0.094444</td>\n",
       "                        <td id=\"T_eac2c230_8371_11ec_94f4_f4d10888cdd0row2_col6\" class=\"data row2 col6\" >0.044421</td>\n",
       "                        <td id=\"T_eac2c230_8371_11ec_94f4_f4d10888cdd0row2_col7\" class=\"data row2 col7\" >0.295762</td>\n",
       "                        <td id=\"T_eac2c230_8371_11ec_94f4_f4d10888cdd0row2_col8\" class=\"data row2 col8\" >-0.394280</td>\n",
       "                        <td id=\"T_eac2c230_8371_11ec_94f4_f4d10888cdd0row2_col9\" class=\"data row2 col9\" >-0.149230</td>\n",
       "                        <td id=\"T_eac2c230_8371_11ec_94f4_f4d10888cdd0row2_col10\" class=\"data row2 col10\" >0.119717</td>\n",
       "                        <td id=\"T_eac2c230_8371_11ec_94f4_f4d10888cdd0row2_col11\" class=\"data row2 col11\" >-0.181053</td>\n",
       "                        <td id=\"T_eac2c230_8371_11ec_94f4_f4d10888cdd0row2_col12\" class=\"data row2 col12\" >-0.161736</td>\n",
       "                        <td id=\"T_eac2c230_8371_11ec_94f4_f4d10888cdd0row2_col13\" class=\"data row2 col13\" >0.433798</td>\n",
       "            </tr>\n",
       "            <tr>\n",
       "                        <th id=\"T_eac2c230_8371_11ec_94f4_f4d10888cdd0level0_row3\" class=\"row_heading level0 row3\" >trtbps</th>\n",
       "                        <td id=\"T_eac2c230_8371_11ec_94f4_f4d10888cdd0row3_col0\" class=\"data row3 col0\" >0.279351</td>\n",
       "                        <td id=\"T_eac2c230_8371_11ec_94f4_f4d10888cdd0row3_col1\" class=\"data row3 col1\" >-0.056769</td>\n",
       "                        <td id=\"T_eac2c230_8371_11ec_94f4_f4d10888cdd0row3_col2\" class=\"data row3 col2\" >0.047608</td>\n",
       "                        <td id=\"T_eac2c230_8371_11ec_94f4_f4d10888cdd0row3_col3\" class=\"data row3 col3\" >1.000000</td>\n",
       "                        <td id=\"T_eac2c230_8371_11ec_94f4_f4d10888cdd0row3_col4\" class=\"data row3 col4\" >0.123174</td>\n",
       "                        <td id=\"T_eac2c230_8371_11ec_94f4_f4d10888cdd0row3_col5\" class=\"data row3 col5\" >0.177531</td>\n",
       "                        <td id=\"T_eac2c230_8371_11ec_94f4_f4d10888cdd0row3_col6\" class=\"data row3 col6\" >-0.114103</td>\n",
       "                        <td id=\"T_eac2c230_8371_11ec_94f4_f4d10888cdd0row3_col7\" class=\"data row3 col7\" >-0.046698</td>\n",
       "                        <td id=\"T_eac2c230_8371_11ec_94f4_f4d10888cdd0row3_col8\" class=\"data row3 col8\" >0.067616</td>\n",
       "                        <td id=\"T_eac2c230_8371_11ec_94f4_f4d10888cdd0row3_col9\" class=\"data row3 col9\" >0.193216</td>\n",
       "                        <td id=\"T_eac2c230_8371_11ec_94f4_f4d10888cdd0row3_col10\" class=\"data row3 col10\" >-0.121475</td>\n",
       "                        <td id=\"T_eac2c230_8371_11ec_94f4_f4d10888cdd0row3_col11\" class=\"data row3 col11\" >0.101389</td>\n",
       "                        <td id=\"T_eac2c230_8371_11ec_94f4_f4d10888cdd0row3_col12\" class=\"data row3 col12\" >0.062210</td>\n",
       "                        <td id=\"T_eac2c230_8371_11ec_94f4_f4d10888cdd0row3_col13\" class=\"data row3 col13\" >-0.144931</td>\n",
       "            </tr>\n",
       "            <tr>\n",
       "                        <th id=\"T_eac2c230_8371_11ec_94f4_f4d10888cdd0level0_row4\" class=\"row_heading level0 row4\" >chol</th>\n",
       "                        <td id=\"T_eac2c230_8371_11ec_94f4_f4d10888cdd0row4_col0\" class=\"data row4 col0\" >0.213678</td>\n",
       "                        <td id=\"T_eac2c230_8371_11ec_94f4_f4d10888cdd0row4_col1\" class=\"data row4 col1\" >-0.197912</td>\n",
       "                        <td id=\"T_eac2c230_8371_11ec_94f4_f4d10888cdd0row4_col2\" class=\"data row4 col2\" >-0.076904</td>\n",
       "                        <td id=\"T_eac2c230_8371_11ec_94f4_f4d10888cdd0row4_col3\" class=\"data row4 col3\" >0.123174</td>\n",
       "                        <td id=\"T_eac2c230_8371_11ec_94f4_f4d10888cdd0row4_col4\" class=\"data row4 col4\" >1.000000</td>\n",
       "                        <td id=\"T_eac2c230_8371_11ec_94f4_f4d10888cdd0row4_col5\" class=\"data row4 col5\" >0.013294</td>\n",
       "                        <td id=\"T_eac2c230_8371_11ec_94f4_f4d10888cdd0row4_col6\" class=\"data row4 col6\" >-0.151040</td>\n",
       "                        <td id=\"T_eac2c230_8371_11ec_94f4_f4d10888cdd0row4_col7\" class=\"data row4 col7\" >-0.009940</td>\n",
       "                        <td id=\"T_eac2c230_8371_11ec_94f4_f4d10888cdd0row4_col8\" class=\"data row4 col8\" >0.067023</td>\n",
       "                        <td id=\"T_eac2c230_8371_11ec_94f4_f4d10888cdd0row4_col9\" class=\"data row4 col9\" >0.053952</td>\n",
       "                        <td id=\"T_eac2c230_8371_11ec_94f4_f4d10888cdd0row4_col10\" class=\"data row4 col10\" >-0.004038</td>\n",
       "                        <td id=\"T_eac2c230_8371_11ec_94f4_f4d10888cdd0row4_col11\" class=\"data row4 col11\" >0.070511</td>\n",
       "                        <td id=\"T_eac2c230_8371_11ec_94f4_f4d10888cdd0row4_col12\" class=\"data row4 col12\" >0.098803</td>\n",
       "                        <td id=\"T_eac2c230_8371_11ec_94f4_f4d10888cdd0row4_col13\" class=\"data row4 col13\" >-0.085239</td>\n",
       "            </tr>\n",
       "            <tr>\n",
       "                        <th id=\"T_eac2c230_8371_11ec_94f4_f4d10888cdd0level0_row5\" class=\"row_heading level0 row5\" >fbs</th>\n",
       "                        <td id=\"T_eac2c230_8371_11ec_94f4_f4d10888cdd0row5_col0\" class=\"data row5 col0\" >0.121308</td>\n",
       "                        <td id=\"T_eac2c230_8371_11ec_94f4_f4d10888cdd0row5_col1\" class=\"data row5 col1\" >0.045032</td>\n",
       "                        <td id=\"T_eac2c230_8371_11ec_94f4_f4d10888cdd0row5_col2\" class=\"data row5 col2\" >0.094444</td>\n",
       "                        <td id=\"T_eac2c230_8371_11ec_94f4_f4d10888cdd0row5_col3\" class=\"data row5 col3\" >0.177531</td>\n",
       "                        <td id=\"T_eac2c230_8371_11ec_94f4_f4d10888cdd0row5_col4\" class=\"data row5 col4\" >0.013294</td>\n",
       "                        <td id=\"T_eac2c230_8371_11ec_94f4_f4d10888cdd0row5_col5\" class=\"data row5 col5\" >1.000000</td>\n",
       "                        <td id=\"T_eac2c230_8371_11ec_94f4_f4d10888cdd0row5_col6\" class=\"data row5 col6\" >-0.084189</td>\n",
       "                        <td id=\"T_eac2c230_8371_11ec_94f4_f4d10888cdd0row5_col7\" class=\"data row5 col7\" >-0.008567</td>\n",
       "                        <td id=\"T_eac2c230_8371_11ec_94f4_f4d10888cdd0row5_col8\" class=\"data row5 col8\" >0.025665</td>\n",
       "                        <td id=\"T_eac2c230_8371_11ec_94f4_f4d10888cdd0row5_col9\" class=\"data row5 col9\" >0.005747</td>\n",
       "                        <td id=\"T_eac2c230_8371_11ec_94f4_f4d10888cdd0row5_col10\" class=\"data row5 col10\" >-0.059894</td>\n",
       "                        <td id=\"T_eac2c230_8371_11ec_94f4_f4d10888cdd0row5_col11\" class=\"data row5 col11\" >0.137979</td>\n",
       "                        <td id=\"T_eac2c230_8371_11ec_94f4_f4d10888cdd0row5_col12\" class=\"data row5 col12\" >-0.032019</td>\n",
       "                        <td id=\"T_eac2c230_8371_11ec_94f4_f4d10888cdd0row5_col13\" class=\"data row5 col13\" >-0.028046</td>\n",
       "            </tr>\n",
       "            <tr>\n",
       "                        <th id=\"T_eac2c230_8371_11ec_94f4_f4d10888cdd0level0_row6\" class=\"row_heading level0 row6\" >restecg</th>\n",
       "                        <td id=\"T_eac2c230_8371_11ec_94f4_f4d10888cdd0row6_col0\" class=\"data row6 col0\" >-0.116211</td>\n",
       "                        <td id=\"T_eac2c230_8371_11ec_94f4_f4d10888cdd0row6_col1\" class=\"data row6 col1\" >-0.058196</td>\n",
       "                        <td id=\"T_eac2c230_8371_11ec_94f4_f4d10888cdd0row6_col2\" class=\"data row6 col2\" >0.044421</td>\n",
       "                        <td id=\"T_eac2c230_8371_11ec_94f4_f4d10888cdd0row6_col3\" class=\"data row6 col3\" >-0.114103</td>\n",
       "                        <td id=\"T_eac2c230_8371_11ec_94f4_f4d10888cdd0row6_col4\" class=\"data row6 col4\" >-0.151040</td>\n",
       "                        <td id=\"T_eac2c230_8371_11ec_94f4_f4d10888cdd0row6_col5\" class=\"data row6 col5\" >-0.084189</td>\n",
       "                        <td id=\"T_eac2c230_8371_11ec_94f4_f4d10888cdd0row6_col6\" class=\"data row6 col6\" >1.000000</td>\n",
       "                        <td id=\"T_eac2c230_8371_11ec_94f4_f4d10888cdd0row6_col7\" class=\"data row6 col7\" >0.044123</td>\n",
       "                        <td id=\"T_eac2c230_8371_11ec_94f4_f4d10888cdd0row6_col8\" class=\"data row6 col8\" >-0.070733</td>\n",
       "                        <td id=\"T_eac2c230_8371_11ec_94f4_f4d10888cdd0row6_col9\" class=\"data row6 col9\" >-0.058770</td>\n",
       "                        <td id=\"T_eac2c230_8371_11ec_94f4_f4d10888cdd0row6_col10\" class=\"data row6 col10\" >0.093045</td>\n",
       "                        <td id=\"T_eac2c230_8371_11ec_94f4_f4d10888cdd0row6_col11\" class=\"data row6 col11\" >-0.072042</td>\n",
       "                        <td id=\"T_eac2c230_8371_11ec_94f4_f4d10888cdd0row6_col12\" class=\"data row6 col12\" >-0.011981</td>\n",
       "                        <td id=\"T_eac2c230_8371_11ec_94f4_f4d10888cdd0row6_col13\" class=\"data row6 col13\" >0.137230</td>\n",
       "            </tr>\n",
       "            <tr>\n",
       "                        <th id=\"T_eac2c230_8371_11ec_94f4_f4d10888cdd0level0_row7\" class=\"row_heading level0 row7\" >thalachh</th>\n",
       "                        <td id=\"T_eac2c230_8371_11ec_94f4_f4d10888cdd0row7_col0\" class=\"data row7 col0\" >-0.398522</td>\n",
       "                        <td id=\"T_eac2c230_8371_11ec_94f4_f4d10888cdd0row7_col1\" class=\"data row7 col1\" >-0.044020</td>\n",
       "                        <td id=\"T_eac2c230_8371_11ec_94f4_f4d10888cdd0row7_col2\" class=\"data row7 col2\" >0.295762</td>\n",
       "                        <td id=\"T_eac2c230_8371_11ec_94f4_f4d10888cdd0row7_col3\" class=\"data row7 col3\" >-0.046698</td>\n",
       "                        <td id=\"T_eac2c230_8371_11ec_94f4_f4d10888cdd0row7_col4\" class=\"data row7 col4\" >-0.009940</td>\n",
       "                        <td id=\"T_eac2c230_8371_11ec_94f4_f4d10888cdd0row7_col5\" class=\"data row7 col5\" >-0.008567</td>\n",
       "                        <td id=\"T_eac2c230_8371_11ec_94f4_f4d10888cdd0row7_col6\" class=\"data row7 col6\" >0.044123</td>\n",
       "                        <td id=\"T_eac2c230_8371_11ec_94f4_f4d10888cdd0row7_col7\" class=\"data row7 col7\" >1.000000</td>\n",
       "                        <td id=\"T_eac2c230_8371_11ec_94f4_f4d10888cdd0row7_col8\" class=\"data row7 col8\" >-0.378812</td>\n",
       "                        <td id=\"T_eac2c230_8371_11ec_94f4_f4d10888cdd0row7_col9\" class=\"data row7 col9\" >-0.344187</td>\n",
       "                        <td id=\"T_eac2c230_8371_11ec_94f4_f4d10888cdd0row7_col10\" class=\"data row7 col10\" >0.386784</td>\n",
       "                        <td id=\"T_eac2c230_8371_11ec_94f4_f4d10888cdd0row7_col11\" class=\"data row7 col11\" >-0.213177</td>\n",
       "                        <td id=\"T_eac2c230_8371_11ec_94f4_f4d10888cdd0row7_col12\" class=\"data row7 col12\" >-0.096439</td>\n",
       "                        <td id=\"T_eac2c230_8371_11ec_94f4_f4d10888cdd0row7_col13\" class=\"data row7 col13\" >0.421741</td>\n",
       "            </tr>\n",
       "            <tr>\n",
       "                        <th id=\"T_eac2c230_8371_11ec_94f4_f4d10888cdd0level0_row8\" class=\"row_heading level0 row8\" >exng</th>\n",
       "                        <td id=\"T_eac2c230_8371_11ec_94f4_f4d10888cdd0row8_col0\" class=\"data row8 col0\" >0.096801</td>\n",
       "                        <td id=\"T_eac2c230_8371_11ec_94f4_f4d10888cdd0row8_col1\" class=\"data row8 col1\" >0.141664</td>\n",
       "                        <td id=\"T_eac2c230_8371_11ec_94f4_f4d10888cdd0row8_col2\" class=\"data row8 col2\" >-0.394280</td>\n",
       "                        <td id=\"T_eac2c230_8371_11ec_94f4_f4d10888cdd0row8_col3\" class=\"data row8 col3\" >0.067616</td>\n",
       "                        <td id=\"T_eac2c230_8371_11ec_94f4_f4d10888cdd0row8_col4\" class=\"data row8 col4\" >0.067023</td>\n",
       "                        <td id=\"T_eac2c230_8371_11ec_94f4_f4d10888cdd0row8_col5\" class=\"data row8 col5\" >0.025665</td>\n",
       "                        <td id=\"T_eac2c230_8371_11ec_94f4_f4d10888cdd0row8_col6\" class=\"data row8 col6\" >-0.070733</td>\n",
       "                        <td id=\"T_eac2c230_8371_11ec_94f4_f4d10888cdd0row8_col7\" class=\"data row8 col7\" >-0.378812</td>\n",
       "                        <td id=\"T_eac2c230_8371_11ec_94f4_f4d10888cdd0row8_col8\" class=\"data row8 col8\" >1.000000</td>\n",
       "                        <td id=\"T_eac2c230_8371_11ec_94f4_f4d10888cdd0row8_col9\" class=\"data row8 col9\" >0.288223</td>\n",
       "                        <td id=\"T_eac2c230_8371_11ec_94f4_f4d10888cdd0row8_col10\" class=\"data row8 col10\" >-0.257748</td>\n",
       "                        <td id=\"T_eac2c230_8371_11ec_94f4_f4d10888cdd0row8_col11\" class=\"data row8 col11\" >0.115739</td>\n",
       "                        <td id=\"T_eac2c230_8371_11ec_94f4_f4d10888cdd0row8_col12\" class=\"data row8 col12\" >0.206754</td>\n",
       "                        <td id=\"T_eac2c230_8371_11ec_94f4_f4d10888cdd0row8_col13\" class=\"data row8 col13\" >-0.436757</td>\n",
       "            </tr>\n",
       "            <tr>\n",
       "                        <th id=\"T_eac2c230_8371_11ec_94f4_f4d10888cdd0level0_row9\" class=\"row_heading level0 row9\" >oldpeak</th>\n",
       "                        <td id=\"T_eac2c230_8371_11ec_94f4_f4d10888cdd0row9_col0\" class=\"data row9 col0\" >0.210013</td>\n",
       "                        <td id=\"T_eac2c230_8371_11ec_94f4_f4d10888cdd0row9_col1\" class=\"data row9 col1\" >0.096093</td>\n",
       "                        <td id=\"T_eac2c230_8371_11ec_94f4_f4d10888cdd0row9_col2\" class=\"data row9 col2\" >-0.149230</td>\n",
       "                        <td id=\"T_eac2c230_8371_11ec_94f4_f4d10888cdd0row9_col3\" class=\"data row9 col3\" >0.193216</td>\n",
       "                        <td id=\"T_eac2c230_8371_11ec_94f4_f4d10888cdd0row9_col4\" class=\"data row9 col4\" >0.053952</td>\n",
       "                        <td id=\"T_eac2c230_8371_11ec_94f4_f4d10888cdd0row9_col5\" class=\"data row9 col5\" >0.005747</td>\n",
       "                        <td id=\"T_eac2c230_8371_11ec_94f4_f4d10888cdd0row9_col6\" class=\"data row9 col6\" >-0.058770</td>\n",
       "                        <td id=\"T_eac2c230_8371_11ec_94f4_f4d10888cdd0row9_col7\" class=\"data row9 col7\" >-0.344187</td>\n",
       "                        <td id=\"T_eac2c230_8371_11ec_94f4_f4d10888cdd0row9_col8\" class=\"data row9 col8\" >0.288223</td>\n",
       "                        <td id=\"T_eac2c230_8371_11ec_94f4_f4d10888cdd0row9_col9\" class=\"data row9 col9\" >1.000000</td>\n",
       "                        <td id=\"T_eac2c230_8371_11ec_94f4_f4d10888cdd0row9_col10\" class=\"data row9 col10\" >-0.577537</td>\n",
       "                        <td id=\"T_eac2c230_8371_11ec_94f4_f4d10888cdd0row9_col11\" class=\"data row9 col11\" >0.222682</td>\n",
       "                        <td id=\"T_eac2c230_8371_11ec_94f4_f4d10888cdd0row9_col12\" class=\"data row9 col12\" >0.210244</td>\n",
       "                        <td id=\"T_eac2c230_8371_11ec_94f4_f4d10888cdd0row9_col13\" class=\"data row9 col13\" >-0.430696</td>\n",
       "            </tr>\n",
       "            <tr>\n",
       "                        <th id=\"T_eac2c230_8371_11ec_94f4_f4d10888cdd0level0_row10\" class=\"row_heading level0 row10\" >slp</th>\n",
       "                        <td id=\"T_eac2c230_8371_11ec_94f4_f4d10888cdd0row10_col0\" class=\"data row10 col0\" >-0.168814</td>\n",
       "                        <td id=\"T_eac2c230_8371_11ec_94f4_f4d10888cdd0row10_col1\" class=\"data row10 col1\" >-0.030711</td>\n",
       "                        <td id=\"T_eac2c230_8371_11ec_94f4_f4d10888cdd0row10_col2\" class=\"data row10 col2\" >0.119717</td>\n",
       "                        <td id=\"T_eac2c230_8371_11ec_94f4_f4d10888cdd0row10_col3\" class=\"data row10 col3\" >-0.121475</td>\n",
       "                        <td id=\"T_eac2c230_8371_11ec_94f4_f4d10888cdd0row10_col4\" class=\"data row10 col4\" >-0.004038</td>\n",
       "                        <td id=\"T_eac2c230_8371_11ec_94f4_f4d10888cdd0row10_col5\" class=\"data row10 col5\" >-0.059894</td>\n",
       "                        <td id=\"T_eac2c230_8371_11ec_94f4_f4d10888cdd0row10_col6\" class=\"data row10 col6\" >0.093045</td>\n",
       "                        <td id=\"T_eac2c230_8371_11ec_94f4_f4d10888cdd0row10_col7\" class=\"data row10 col7\" >0.386784</td>\n",
       "                        <td id=\"T_eac2c230_8371_11ec_94f4_f4d10888cdd0row10_col8\" class=\"data row10 col8\" >-0.257748</td>\n",
       "                        <td id=\"T_eac2c230_8371_11ec_94f4_f4d10888cdd0row10_col9\" class=\"data row10 col9\" >-0.577537</td>\n",
       "                        <td id=\"T_eac2c230_8371_11ec_94f4_f4d10888cdd0row10_col10\" class=\"data row10 col10\" >1.000000</td>\n",
       "                        <td id=\"T_eac2c230_8371_11ec_94f4_f4d10888cdd0row10_col11\" class=\"data row10 col11\" >-0.080155</td>\n",
       "                        <td id=\"T_eac2c230_8371_11ec_94f4_f4d10888cdd0row10_col12\" class=\"data row10 col12\" >-0.104764</td>\n",
       "                        <td id=\"T_eac2c230_8371_11ec_94f4_f4d10888cdd0row10_col13\" class=\"data row10 col13\" >0.345877</td>\n",
       "            </tr>\n",
       "            <tr>\n",
       "                        <th id=\"T_eac2c230_8371_11ec_94f4_f4d10888cdd0level0_row11\" class=\"row_heading level0 row11\" >caa</th>\n",
       "                        <td id=\"T_eac2c230_8371_11ec_94f4_f4d10888cdd0row11_col0\" class=\"data row11 col0\" >0.276326</td>\n",
       "                        <td id=\"T_eac2c230_8371_11ec_94f4_f4d10888cdd0row11_col1\" class=\"data row11 col1\" >0.118261</td>\n",
       "                        <td id=\"T_eac2c230_8371_11ec_94f4_f4d10888cdd0row11_col2\" class=\"data row11 col2\" >-0.181053</td>\n",
       "                        <td id=\"T_eac2c230_8371_11ec_94f4_f4d10888cdd0row11_col3\" class=\"data row11 col3\" >0.101389</td>\n",
       "                        <td id=\"T_eac2c230_8371_11ec_94f4_f4d10888cdd0row11_col4\" class=\"data row11 col4\" >0.070511</td>\n",
       "                        <td id=\"T_eac2c230_8371_11ec_94f4_f4d10888cdd0row11_col5\" class=\"data row11 col5\" >0.137979</td>\n",
       "                        <td id=\"T_eac2c230_8371_11ec_94f4_f4d10888cdd0row11_col6\" class=\"data row11 col6\" >-0.072042</td>\n",
       "                        <td id=\"T_eac2c230_8371_11ec_94f4_f4d10888cdd0row11_col7\" class=\"data row11 col7\" >-0.213177</td>\n",
       "                        <td id=\"T_eac2c230_8371_11ec_94f4_f4d10888cdd0row11_col8\" class=\"data row11 col8\" >0.115739</td>\n",
       "                        <td id=\"T_eac2c230_8371_11ec_94f4_f4d10888cdd0row11_col9\" class=\"data row11 col9\" >0.222682</td>\n",
       "                        <td id=\"T_eac2c230_8371_11ec_94f4_f4d10888cdd0row11_col10\" class=\"data row11 col10\" >-0.080155</td>\n",
       "                        <td id=\"T_eac2c230_8371_11ec_94f4_f4d10888cdd0row11_col11\" class=\"data row11 col11\" >1.000000</td>\n",
       "                        <td id=\"T_eac2c230_8371_11ec_94f4_f4d10888cdd0row11_col12\" class=\"data row11 col12\" >0.151832</td>\n",
       "                        <td id=\"T_eac2c230_8371_11ec_94f4_f4d10888cdd0row11_col13\" class=\"data row11 col13\" >-0.391724</td>\n",
       "            </tr>\n",
       "            <tr>\n",
       "                        <th id=\"T_eac2c230_8371_11ec_94f4_f4d10888cdd0level0_row12\" class=\"row_heading level0 row12\" >thall</th>\n",
       "                        <td id=\"T_eac2c230_8371_11ec_94f4_f4d10888cdd0row12_col0\" class=\"data row12 col0\" >0.068001</td>\n",
       "                        <td id=\"T_eac2c230_8371_11ec_94f4_f4d10888cdd0row12_col1\" class=\"data row12 col1\" >0.210041</td>\n",
       "                        <td id=\"T_eac2c230_8371_11ec_94f4_f4d10888cdd0row12_col2\" class=\"data row12 col2\" >-0.161736</td>\n",
       "                        <td id=\"T_eac2c230_8371_11ec_94f4_f4d10888cdd0row12_col3\" class=\"data row12 col3\" >0.062210</td>\n",
       "                        <td id=\"T_eac2c230_8371_11ec_94f4_f4d10888cdd0row12_col4\" class=\"data row12 col4\" >0.098803</td>\n",
       "                        <td id=\"T_eac2c230_8371_11ec_94f4_f4d10888cdd0row12_col5\" class=\"data row12 col5\" >-0.032019</td>\n",
       "                        <td id=\"T_eac2c230_8371_11ec_94f4_f4d10888cdd0row12_col6\" class=\"data row12 col6\" >-0.011981</td>\n",
       "                        <td id=\"T_eac2c230_8371_11ec_94f4_f4d10888cdd0row12_col7\" class=\"data row12 col7\" >-0.096439</td>\n",
       "                        <td id=\"T_eac2c230_8371_11ec_94f4_f4d10888cdd0row12_col8\" class=\"data row12 col8\" >0.206754</td>\n",
       "                        <td id=\"T_eac2c230_8371_11ec_94f4_f4d10888cdd0row12_col9\" class=\"data row12 col9\" >0.210244</td>\n",
       "                        <td id=\"T_eac2c230_8371_11ec_94f4_f4d10888cdd0row12_col10\" class=\"data row12 col10\" >-0.104764</td>\n",
       "                        <td id=\"T_eac2c230_8371_11ec_94f4_f4d10888cdd0row12_col11\" class=\"data row12 col11\" >0.151832</td>\n",
       "                        <td id=\"T_eac2c230_8371_11ec_94f4_f4d10888cdd0row12_col12\" class=\"data row12 col12\" >1.000000</td>\n",
       "                        <td id=\"T_eac2c230_8371_11ec_94f4_f4d10888cdd0row12_col13\" class=\"data row12 col13\" >-0.344029</td>\n",
       "            </tr>\n",
       "            <tr>\n",
       "                        <th id=\"T_eac2c230_8371_11ec_94f4_f4d10888cdd0level0_row13\" class=\"row_heading level0 row13\" >output</th>\n",
       "                        <td id=\"T_eac2c230_8371_11ec_94f4_f4d10888cdd0row13_col0\" class=\"data row13 col0\" >-0.225439</td>\n",
       "                        <td id=\"T_eac2c230_8371_11ec_94f4_f4d10888cdd0row13_col1\" class=\"data row13 col1\" >-0.280937</td>\n",
       "                        <td id=\"T_eac2c230_8371_11ec_94f4_f4d10888cdd0row13_col2\" class=\"data row13 col2\" >0.433798</td>\n",
       "                        <td id=\"T_eac2c230_8371_11ec_94f4_f4d10888cdd0row13_col3\" class=\"data row13 col3\" >-0.144931</td>\n",
       "                        <td id=\"T_eac2c230_8371_11ec_94f4_f4d10888cdd0row13_col4\" class=\"data row13 col4\" >-0.085239</td>\n",
       "                        <td id=\"T_eac2c230_8371_11ec_94f4_f4d10888cdd0row13_col5\" class=\"data row13 col5\" >-0.028046</td>\n",
       "                        <td id=\"T_eac2c230_8371_11ec_94f4_f4d10888cdd0row13_col6\" class=\"data row13 col6\" >0.137230</td>\n",
       "                        <td id=\"T_eac2c230_8371_11ec_94f4_f4d10888cdd0row13_col7\" class=\"data row13 col7\" >0.421741</td>\n",
       "                        <td id=\"T_eac2c230_8371_11ec_94f4_f4d10888cdd0row13_col8\" class=\"data row13 col8\" >-0.436757</td>\n",
       "                        <td id=\"T_eac2c230_8371_11ec_94f4_f4d10888cdd0row13_col9\" class=\"data row13 col9\" >-0.430696</td>\n",
       "                        <td id=\"T_eac2c230_8371_11ec_94f4_f4d10888cdd0row13_col10\" class=\"data row13 col10\" >0.345877</td>\n",
       "                        <td id=\"T_eac2c230_8371_11ec_94f4_f4d10888cdd0row13_col11\" class=\"data row13 col11\" >-0.391724</td>\n",
       "                        <td id=\"T_eac2c230_8371_11ec_94f4_f4d10888cdd0row13_col12\" class=\"data row13 col12\" >-0.344029</td>\n",
       "                        <td id=\"T_eac2c230_8371_11ec_94f4_f4d10888cdd0row13_col13\" class=\"data row13 col13\" >1.000000</td>\n",
       "            </tr>\n",
       "    </tbody></table>"
      ],
      "text/plain": [
       "<pandas.io.formats.style.Styler at 0x21e2a519788>"
      ]
     },
     "execution_count": 31,
     "metadata": {},
     "output_type": "execute_result"
    }
   ],
   "source": [
    "corr.style.background_gradient(cmap='coolwarm')"
   ]
  },
  {
   "cell_type": "code",
   "execution_count": 38,
   "metadata": {},
   "outputs": [],
   "source": []
  },
  {
   "cell_type": "code",
   "execution_count": 41,
   "metadata": {},
   "outputs": [
    {
     "data": {
      "application/vnd.plotly.v1+json": {
       "config": {
        "plotlyServerURL": "https://plot.ly"
       },
       "data": [
        {
         "coloraxis": "coloraxis",
         "hovertemplate": "x: %{x}<br>y: %{y}<br>color: %{z}<extra></extra>",
         "name": "0",
         "type": "heatmap",
         "x": [
          "age",
          "sex",
          "cp",
          "trtbps",
          "chol",
          "fbs",
          "restecg",
          "thalachh",
          "exng",
          "oldpeak",
          "slp",
          "caa",
          "thall",
          "output"
         ],
         "xaxis": "x",
         "y": [
          "age",
          "sex",
          "cp",
          "trtbps",
          "chol",
          "fbs",
          "restecg",
          "thalachh",
          "exng",
          "oldpeak",
          "slp",
          "caa",
          "thall",
          "output"
         ],
         "yaxis": "y",
         "z": [
          [
           1,
           -0.09844660247479324,
           -0.06865301584014484,
           0.27935090656128847,
           0.21367795655956176,
           0.12130764809337487,
           -0.11621089815852972,
           -0.39852193812106745,
           0.09680082645526768,
           0.2100125673586737,
           -0.16881423801209525,
           0.27632624401913874,
           0.06800137705465183,
           -0.22543871587483694
          ],
          [
           -0.09844660247479324,
           1,
           -0.04935287534698944,
           -0.056768823969643216,
           -0.1979121741411065,
           0.04503178919356075,
           -0.058196267703754606,
           -0.04401990776957466,
           0.1416638109915054,
           0.09609287706773856,
           -0.030710567303172228,
           0.11826141332035968,
           0.21004109563720672,
           -0.2809365755017663
          ],
          [
           -0.06865301584014484,
           -0.04935287534698944,
           1,
           0.04760776064464845,
           -0.07690439103320758,
           0.09444403499533176,
           0.044420592510163705,
           0.2957621245879106,
           -0.39428026849502085,
           -0.14923015809708076,
           0.11971658853470597,
           -0.18105302605349533,
           -0.16173557051002177,
           0.4337982615068916
          ],
          [
           0.27935090656128847,
           -0.056768823969643216,
           0.04760776064464845,
           1,
           0.12317420653239079,
           0.17753054193446027,
           -0.11410278639187017,
           -0.04669772814795437,
           0.06761611953876384,
           0.19321647240953663,
           -0.12147458192645001,
           0.10138898530055154,
           0.0622098876308615,
           -0.14493112849775133
          ],
          [
           0.21367795655956176,
           -0.1979121741411065,
           -0.07690439103320758,
           0.12317420653239079,
           1,
           0.013293602251671576,
           -0.15104007833751207,
           -0.009939838642698234,
           0.06702278257394254,
           0.05395191998699383,
           -0.0040377703696837415,
           0.07051092522607605,
           0.09880299250014489,
           -0.0852391051375688
          ],
          [
           0.12130764809337487,
           0.04503178919356075,
           0.09444403499533176,
           0.17753054193446027,
           0.013293602251671576,
           1,
           -0.08418905443102692,
           -0.008567107343486847,
           0.025665147202126145,
           0.0057472234596442845,
           -0.059894178290417974,
           0.13797932702785168,
           -0.03201933931349752,
           -0.028045760272712838
          ],
          [
           -0.11621089815852972,
           -0.058196267703754606,
           0.044420592510163705,
           -0.11410278639187017,
           -0.15104007833751207,
           -0.08418905443102692,
           1,
           0.04412344408543711,
           -0.07073285587236619,
           -0.05877022631983714,
           0.09304482097448184,
           -0.07204243324692995,
           -0.011981404599806367,
           0.13722950287377314
          ],
          [
           -0.39852193812106745,
           -0.04401990776957466,
           0.2957621245879106,
           -0.04669772814795437,
           -0.009939838642698234,
           -0.008567107343486847,
           0.04412344408543711,
           1,
           -0.37881209385148623,
           -0.34418694796671623,
           0.38678440981481893,
           -0.21317692811538974,
           -0.09643913165982125,
           0.4217409338106738
          ],
          [
           0.09680082645526768,
           0.1416638109915054,
           -0.39428026849502085,
           0.06761611953876384,
           0.06702278257394254,
           0.025665147202126145,
           -0.07073285587236619,
           -0.37881209385148623,
           1,
           0.28822280778276527,
           -0.2577483685301657,
           0.11573937807050595,
           0.20675378773953781,
           -0.4367570833532994
          ],
          [
           0.2100125673586737,
           0.09609287706773856,
           -0.14923015809708076,
           0.19321647240953663,
           0.05395191998699383,
           0.0057472234596442845,
           -0.05877022631983714,
           -0.34418694796671623,
           0.28822280778276527,
           1,
           -0.577536816729141,
           0.22268232182782358,
           0.2102441259826486,
           -0.4306960016873676
          ],
          [
           -0.16881423801209525,
           -0.030710567303172228,
           0.11971658853470597,
           -0.12147458192645001,
           -0.0040377703696837415,
           -0.059894178290417974,
           0.09304482097448184,
           0.38678440981481893,
           -0.2577483685301657,
           -0.577536816729141,
           1,
           -0.08015521021463953,
           -0.10476379462149539,
           0.34587707824172226
          ],
          [
           0.27632624401913874,
           0.11826141332035968,
           -0.18105302605349533,
           0.10138898530055154,
           0.07051092522607605,
           0.13797932702785168,
           -0.07204243324692995,
           -0.21317692811538974,
           0.11573937807050595,
           0.22268232182782358,
           -0.08015521021463953,
           1,
           0.151832125482089,
           -0.3917239923512518
          ],
          [
           0.06800137705465183,
           0.21004109563720672,
           -0.16173557051002177,
           0.0622098876308615,
           0.09880299250014489,
           -0.03201933931349752,
           -0.011981404599806367,
           -0.09643913165982125,
           0.20675378773953781,
           0.2102441259826486,
           -0.10476379462149539,
           0.151832125482089,
           1,
           -0.3440292680383096
          ],
          [
           -0.22543871587483694,
           -0.2809365755017663,
           0.4337982615068916,
           -0.14493112849775133,
           -0.0852391051375688,
           -0.028045760272712838,
           0.13722950287377314,
           0.4217409338106738,
           -0.4367570833532994,
           -0.4306960016873676,
           0.34587707824172226,
           -0.3917239923512518,
           -0.3440292680383096,
           1
          ]
         ]
        }
       ],
       "layout": {
        "coloraxis": {
         "colorscale": [
          [
           0,
           "#0d0887"
          ],
          [
           0.1111111111111111,
           "#46039f"
          ],
          [
           0.2222222222222222,
           "#7201a8"
          ],
          [
           0.3333333333333333,
           "#9c179e"
          ],
          [
           0.4444444444444444,
           "#bd3786"
          ],
          [
           0.5555555555555556,
           "#d8576b"
          ],
          [
           0.6666666666666666,
           "#ed7953"
          ],
          [
           0.7777777777777778,
           "#fb9f3a"
          ],
          [
           0.8888888888888888,
           "#fdca26"
          ],
          [
           1,
           "#f0f921"
          ]
         ]
        },
        "margin": {
         "t": 60
        },
        "template": {
         "data": {
          "bar": [
           {
            "error_x": {
             "color": "#2a3f5f"
            },
            "error_y": {
             "color": "#2a3f5f"
            },
            "marker": {
             "line": {
              "color": "#E5ECF6",
              "width": 0.5
             },
             "pattern": {
              "fillmode": "overlay",
              "size": 10,
              "solidity": 0.2
             }
            },
            "type": "bar"
           }
          ],
          "barpolar": [
           {
            "marker": {
             "line": {
              "color": "#E5ECF6",
              "width": 0.5
             },
             "pattern": {
              "fillmode": "overlay",
              "size": 10,
              "solidity": 0.2
             }
            },
            "type": "barpolar"
           }
          ],
          "carpet": [
           {
            "aaxis": {
             "endlinecolor": "#2a3f5f",
             "gridcolor": "white",
             "linecolor": "white",
             "minorgridcolor": "white",
             "startlinecolor": "#2a3f5f"
            },
            "baxis": {
             "endlinecolor": "#2a3f5f",
             "gridcolor": "white",
             "linecolor": "white",
             "minorgridcolor": "white",
             "startlinecolor": "#2a3f5f"
            },
            "type": "carpet"
           }
          ],
          "choropleth": [
           {
            "colorbar": {
             "outlinewidth": 0,
             "ticks": ""
            },
            "type": "choropleth"
           }
          ],
          "contour": [
           {
            "colorbar": {
             "outlinewidth": 0,
             "ticks": ""
            },
            "colorscale": [
             [
              0,
              "#0d0887"
             ],
             [
              0.1111111111111111,
              "#46039f"
             ],
             [
              0.2222222222222222,
              "#7201a8"
             ],
             [
              0.3333333333333333,
              "#9c179e"
             ],
             [
              0.4444444444444444,
              "#bd3786"
             ],
             [
              0.5555555555555556,
              "#d8576b"
             ],
             [
              0.6666666666666666,
              "#ed7953"
             ],
             [
              0.7777777777777778,
              "#fb9f3a"
             ],
             [
              0.8888888888888888,
              "#fdca26"
             ],
             [
              1,
              "#f0f921"
             ]
            ],
            "type": "contour"
           }
          ],
          "contourcarpet": [
           {
            "colorbar": {
             "outlinewidth": 0,
             "ticks": ""
            },
            "type": "contourcarpet"
           }
          ],
          "heatmap": [
           {
            "colorbar": {
             "outlinewidth": 0,
             "ticks": ""
            },
            "colorscale": [
             [
              0,
              "#0d0887"
             ],
             [
              0.1111111111111111,
              "#46039f"
             ],
             [
              0.2222222222222222,
              "#7201a8"
             ],
             [
              0.3333333333333333,
              "#9c179e"
             ],
             [
              0.4444444444444444,
              "#bd3786"
             ],
             [
              0.5555555555555556,
              "#d8576b"
             ],
             [
              0.6666666666666666,
              "#ed7953"
             ],
             [
              0.7777777777777778,
              "#fb9f3a"
             ],
             [
              0.8888888888888888,
              "#fdca26"
             ],
             [
              1,
              "#f0f921"
             ]
            ],
            "type": "heatmap"
           }
          ],
          "heatmapgl": [
           {
            "colorbar": {
             "outlinewidth": 0,
             "ticks": ""
            },
            "colorscale": [
             [
              0,
              "#0d0887"
             ],
             [
              0.1111111111111111,
              "#46039f"
             ],
             [
              0.2222222222222222,
              "#7201a8"
             ],
             [
              0.3333333333333333,
              "#9c179e"
             ],
             [
              0.4444444444444444,
              "#bd3786"
             ],
             [
              0.5555555555555556,
              "#d8576b"
             ],
             [
              0.6666666666666666,
              "#ed7953"
             ],
             [
              0.7777777777777778,
              "#fb9f3a"
             ],
             [
              0.8888888888888888,
              "#fdca26"
             ],
             [
              1,
              "#f0f921"
             ]
            ],
            "type": "heatmapgl"
           }
          ],
          "histogram": [
           {
            "marker": {
             "pattern": {
              "fillmode": "overlay",
              "size": 10,
              "solidity": 0.2
             }
            },
            "type": "histogram"
           }
          ],
          "histogram2d": [
           {
            "colorbar": {
             "outlinewidth": 0,
             "ticks": ""
            },
            "colorscale": [
             [
              0,
              "#0d0887"
             ],
             [
              0.1111111111111111,
              "#46039f"
             ],
             [
              0.2222222222222222,
              "#7201a8"
             ],
             [
              0.3333333333333333,
              "#9c179e"
             ],
             [
              0.4444444444444444,
              "#bd3786"
             ],
             [
              0.5555555555555556,
              "#d8576b"
             ],
             [
              0.6666666666666666,
              "#ed7953"
             ],
             [
              0.7777777777777778,
              "#fb9f3a"
             ],
             [
              0.8888888888888888,
              "#fdca26"
             ],
             [
              1,
              "#f0f921"
             ]
            ],
            "type": "histogram2d"
           }
          ],
          "histogram2dcontour": [
           {
            "colorbar": {
             "outlinewidth": 0,
             "ticks": ""
            },
            "colorscale": [
             [
              0,
              "#0d0887"
             ],
             [
              0.1111111111111111,
              "#46039f"
             ],
             [
              0.2222222222222222,
              "#7201a8"
             ],
             [
              0.3333333333333333,
              "#9c179e"
             ],
             [
              0.4444444444444444,
              "#bd3786"
             ],
             [
              0.5555555555555556,
              "#d8576b"
             ],
             [
              0.6666666666666666,
              "#ed7953"
             ],
             [
              0.7777777777777778,
              "#fb9f3a"
             ],
             [
              0.8888888888888888,
              "#fdca26"
             ],
             [
              1,
              "#f0f921"
             ]
            ],
            "type": "histogram2dcontour"
           }
          ],
          "mesh3d": [
           {
            "colorbar": {
             "outlinewidth": 0,
             "ticks": ""
            },
            "type": "mesh3d"
           }
          ],
          "parcoords": [
           {
            "line": {
             "colorbar": {
              "outlinewidth": 0,
              "ticks": ""
             }
            },
            "type": "parcoords"
           }
          ],
          "pie": [
           {
            "automargin": true,
            "type": "pie"
           }
          ],
          "scatter": [
           {
            "marker": {
             "colorbar": {
              "outlinewidth": 0,
              "ticks": ""
             }
            },
            "type": "scatter"
           }
          ],
          "scatter3d": [
           {
            "line": {
             "colorbar": {
              "outlinewidth": 0,
              "ticks": ""
             }
            },
            "marker": {
             "colorbar": {
              "outlinewidth": 0,
              "ticks": ""
             }
            },
            "type": "scatter3d"
           }
          ],
          "scattercarpet": [
           {
            "marker": {
             "colorbar": {
              "outlinewidth": 0,
              "ticks": ""
             }
            },
            "type": "scattercarpet"
           }
          ],
          "scattergeo": [
           {
            "marker": {
             "colorbar": {
              "outlinewidth": 0,
              "ticks": ""
             }
            },
            "type": "scattergeo"
           }
          ],
          "scattergl": [
           {
            "marker": {
             "colorbar": {
              "outlinewidth": 0,
              "ticks": ""
             }
            },
            "type": "scattergl"
           }
          ],
          "scattermapbox": [
           {
            "marker": {
             "colorbar": {
              "outlinewidth": 0,
              "ticks": ""
             }
            },
            "type": "scattermapbox"
           }
          ],
          "scatterpolar": [
           {
            "marker": {
             "colorbar": {
              "outlinewidth": 0,
              "ticks": ""
             }
            },
            "type": "scatterpolar"
           }
          ],
          "scatterpolargl": [
           {
            "marker": {
             "colorbar": {
              "outlinewidth": 0,
              "ticks": ""
             }
            },
            "type": "scatterpolargl"
           }
          ],
          "scatterternary": [
           {
            "marker": {
             "colorbar": {
              "outlinewidth": 0,
              "ticks": ""
             }
            },
            "type": "scatterternary"
           }
          ],
          "surface": [
           {
            "colorbar": {
             "outlinewidth": 0,
             "ticks": ""
            },
            "colorscale": [
             [
              0,
              "#0d0887"
             ],
             [
              0.1111111111111111,
              "#46039f"
             ],
             [
              0.2222222222222222,
              "#7201a8"
             ],
             [
              0.3333333333333333,
              "#9c179e"
             ],
             [
              0.4444444444444444,
              "#bd3786"
             ],
             [
              0.5555555555555556,
              "#d8576b"
             ],
             [
              0.6666666666666666,
              "#ed7953"
             ],
             [
              0.7777777777777778,
              "#fb9f3a"
             ],
             [
              0.8888888888888888,
              "#fdca26"
             ],
             [
              1,
              "#f0f921"
             ]
            ],
            "type": "surface"
           }
          ],
          "table": [
           {
            "cells": {
             "fill": {
              "color": "#EBF0F8"
             },
             "line": {
              "color": "white"
             }
            },
            "header": {
             "fill": {
              "color": "#C8D4E3"
             },
             "line": {
              "color": "white"
             }
            },
            "type": "table"
           }
          ]
         },
         "layout": {
          "annotationdefaults": {
           "arrowcolor": "#2a3f5f",
           "arrowhead": 0,
           "arrowwidth": 1
          },
          "autotypenumbers": "strict",
          "coloraxis": {
           "colorbar": {
            "outlinewidth": 0,
            "ticks": ""
           }
          },
          "colorscale": {
           "diverging": [
            [
             0,
             "#8e0152"
            ],
            [
             0.1,
             "#c51b7d"
            ],
            [
             0.2,
             "#de77ae"
            ],
            [
             0.3,
             "#f1b6da"
            ],
            [
             0.4,
             "#fde0ef"
            ],
            [
             0.5,
             "#f7f7f7"
            ],
            [
             0.6,
             "#e6f5d0"
            ],
            [
             0.7,
             "#b8e186"
            ],
            [
             0.8,
             "#7fbc41"
            ],
            [
             0.9,
             "#4d9221"
            ],
            [
             1,
             "#276419"
            ]
           ],
           "sequential": [
            [
             0,
             "#0d0887"
            ],
            [
             0.1111111111111111,
             "#46039f"
            ],
            [
             0.2222222222222222,
             "#7201a8"
            ],
            [
             0.3333333333333333,
             "#9c179e"
            ],
            [
             0.4444444444444444,
             "#bd3786"
            ],
            [
             0.5555555555555556,
             "#d8576b"
            ],
            [
             0.6666666666666666,
             "#ed7953"
            ],
            [
             0.7777777777777778,
             "#fb9f3a"
            ],
            [
             0.8888888888888888,
             "#fdca26"
            ],
            [
             1,
             "#f0f921"
            ]
           ],
           "sequentialminus": [
            [
             0,
             "#0d0887"
            ],
            [
             0.1111111111111111,
             "#46039f"
            ],
            [
             0.2222222222222222,
             "#7201a8"
            ],
            [
             0.3333333333333333,
             "#9c179e"
            ],
            [
             0.4444444444444444,
             "#bd3786"
            ],
            [
             0.5555555555555556,
             "#d8576b"
            ],
            [
             0.6666666666666666,
             "#ed7953"
            ],
            [
             0.7777777777777778,
             "#fb9f3a"
            ],
            [
             0.8888888888888888,
             "#fdca26"
            ],
            [
             1,
             "#f0f921"
            ]
           ]
          },
          "colorway": [
           "#636efa",
           "#EF553B",
           "#00cc96",
           "#ab63fa",
           "#FFA15A",
           "#19d3f3",
           "#FF6692",
           "#B6E880",
           "#FF97FF",
           "#FECB52"
          ],
          "font": {
           "color": "#2a3f5f"
          },
          "geo": {
           "bgcolor": "white",
           "lakecolor": "white",
           "landcolor": "#E5ECF6",
           "showlakes": true,
           "showland": true,
           "subunitcolor": "white"
          },
          "hoverlabel": {
           "align": "left"
          },
          "hovermode": "closest",
          "mapbox": {
           "style": "light"
          },
          "paper_bgcolor": "white",
          "plot_bgcolor": "#E5ECF6",
          "polar": {
           "angularaxis": {
            "gridcolor": "white",
            "linecolor": "white",
            "ticks": ""
           },
           "bgcolor": "#E5ECF6",
           "radialaxis": {
            "gridcolor": "white",
            "linecolor": "white",
            "ticks": ""
           }
          },
          "scene": {
           "xaxis": {
            "backgroundcolor": "#E5ECF6",
            "gridcolor": "white",
            "gridwidth": 2,
            "linecolor": "white",
            "showbackground": true,
            "ticks": "",
            "zerolinecolor": "white"
           },
           "yaxis": {
            "backgroundcolor": "#E5ECF6",
            "gridcolor": "white",
            "gridwidth": 2,
            "linecolor": "white",
            "showbackground": true,
            "ticks": "",
            "zerolinecolor": "white"
           },
           "zaxis": {
            "backgroundcolor": "#E5ECF6",
            "gridcolor": "white",
            "gridwidth": 2,
            "linecolor": "white",
            "showbackground": true,
            "ticks": "",
            "zerolinecolor": "white"
           }
          },
          "shapedefaults": {
           "line": {
            "color": "#2a3f5f"
           }
          },
          "ternary": {
           "aaxis": {
            "gridcolor": "white",
            "linecolor": "white",
            "ticks": ""
           },
           "baxis": {
            "gridcolor": "white",
            "linecolor": "white",
            "ticks": ""
           },
           "bgcolor": "#E5ECF6",
           "caxis": {
            "gridcolor": "white",
            "linecolor": "white",
            "ticks": ""
           }
          },
          "title": {
           "x": 0.05
          },
          "xaxis": {
           "automargin": true,
           "gridcolor": "white",
           "linecolor": "white",
           "ticks": "",
           "title": {
            "standoff": 15
           },
           "zerolinecolor": "white",
           "zerolinewidth": 2
          },
          "yaxis": {
           "automargin": true,
           "gridcolor": "white",
           "linecolor": "white",
           "ticks": "",
           "title": {
            "standoff": 15
           },
           "zerolinecolor": "white",
           "zerolinewidth": 2
          }
         }
        },
        "xaxis": {
         "anchor": "y",
         "constrain": "domain",
         "domain": [
          0,
          1
         ],
         "scaleanchor": "y"
        },
        "yaxis": {
         "anchor": "x",
         "autorange": "reversed",
         "constrain": "domain",
         "domain": [
          0,
          1
         ]
        }
       }
      }
     },
     "metadata": {},
     "output_type": "display_data"
    }
   ],
   "source": [
    "\n"
   ]
  },
  {
   "cell_type": "code",
   "execution_count": null,
   "metadata": {},
   "outputs": [],
   "source": []
  }
 ],
 "metadata": {
  "interpreter": {
   "hash": "5108ef035adae81b438fd63e49a046e9c60a4d7d60a830aa9560d8422b46a796"
  },
  "kernelspec": {
   "display_name": "Python 3.7.6 64-bit ('base': conda)",
   "language": "python",
   "name": "python3"
  },
  "language_info": {
   "codemirror_mode": {
    "name": "ipython",
    "version": 3
   },
   "file_extension": ".py",
   "mimetype": "text/x-python",
   "name": "python",
   "nbconvert_exporter": "python",
   "pygments_lexer": "ipython3",
   "version": "3.7.6"
  },
  "orig_nbformat": 4
 },
 "nbformat": 4,
 "nbformat_minor": 2
}
